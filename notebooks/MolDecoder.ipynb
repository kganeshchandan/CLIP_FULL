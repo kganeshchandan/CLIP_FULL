{
 "cells": [
  {
   "cell_type": "code",
   "execution_count": 1,
   "metadata": {},
   "outputs": [],
   "source": [
    "config = {}\n",
    "config['data'] = {\"qm9_broad_ir_path\":'/home2/kanakala.ganesh/ir_data/qm9_broad_ir.pkl',\n",
    "                  \"vocab_path\":'/home2/kanakala.ganesh/CLIP_PART_1/data/qm9_vocab.pkl',\n",
    "                  \"datafiles\" : {\n",
    "                        'train': '/home2/kanakala.ganesh/ir_data/raw_train.pickle',\n",
    "                        'test':  '/home2/kanakala.ganesh/ir_data/raw_test.pickle',\n",
    "                        'val':   '/home2/kanakala.ganesh/ir_data/raw_val.pickle'\n",
    "                        },\n",
    "                  \"normalization\" : \"unit\",\n",
    "                  \"shuffle\": True,\n",
    "                  \"batch_size\":128,\n",
    "                  \"seq_len\":70,\n",
    "                  \"splits\":[0.9, 0.1, 0.1],\n",
    "                  \"num_workers\":16\n",
    "                }"
   ]
  },
  {
   "cell_type": "code",
   "execution_count": 2,
   "metadata": {},
   "outputs": [
    {
     "data": {
      "application/vnd.jupyter.widget-view+json": {
       "model_id": "5f3ad6d9ee184b39a1eaad7d9fa6285f",
       "version_major": 2,
       "version_minor": 0
      },
      "text/plain": [
       "0it [00:00, ?it/s]"
      ]
     },
     "metadata": {},
     "output_type": "display_data"
    },
    {
     "data": {
      "application/vnd.jupyter.widget-view+json": {
       "model_id": "95612c44e1644d76bd235953a970c223",
       "version_major": 2,
       "version_minor": 0
      },
      "text/plain": [
       "0it [00:00, ?it/s]"
      ]
     },
     "metadata": {},
     "output_type": "display_data"
    }
   ],
   "source": [
    "from PrepareData import prepare_data\n",
    "dataloaders, max_charge, num_species = prepare_data(config)"
   ]
  },
  {
   "cell_type": "code",
   "execution_count": 3,
   "metadata": {},
   "outputs": [
    {
     "name": "stdout",
     "output_type": "stream",
     "text": [
      "index torch.Size([128])\n",
      "decoder_inp torch.Size([128, 70])\n",
      "decoder_tgt torch.Size([128, 70])\n",
      "IR torch.Size([128, 1801])\n",
      "tgt_padding_mask torch.Size([128, 70])\n",
      "num_atoms torch.Size([128])\n",
      "charges torch.Size([128, 29])\n",
      "positions torch.Size([128, 29, 3])\n",
      "one_hot torch.Size([128, 29, 5])\n",
      "atom_mask torch.Size([128, 29])\n",
      "edge_mask torch.Size([107648, 1])\n"
     ]
    }
   ],
   "source": [
    "\n",
    "for i , data in enumerate(dataloaders['train']):\n",
    "    data\n",
    "    for j in data:\n",
    "        print(j, data[j].shape)\n",
    "    break"
   ]
  },
  {
   "cell_type": "code",
   "execution_count": 4,
   "metadata": {},
   "outputs": [],
   "source": [
    "import torch\n"
   ]
  },
  {
   "cell_type": "code",
   "execution_count": 5,
   "metadata": {},
   "outputs": [],
   "source": [
    "config['molecule_decoder'] = {\n",
    "    'in_size': 512,\n",
    "    'latent_size' : 512,\n",
    "    'hidden_size': 512,\n",
    "    'n_layers' : 7,\n",
    "    'n_heads' : 4\n",
    "}"
   ]
  },
  {
   "cell_type": "code",
   "execution_count": 6,
   "metadata": {},
   "outputs": [],
   "source": [
    "import pickle \n",
    "from models.decoder import LatentToMol\n",
    "\n",
    "vocab = pickle.load(open(config['data']['vocab_path'], 'rb'))\n",
    "model = LatentToMol(in_size=config['molecule_decoder']['latent_size'],\n",
    "                  hidden_size=config['molecule_decoder']['hidden_size'], \n",
    "                  n_layers=config['molecule_decoder']['n_layers'], \n",
    "                  n_heads = config['molecule_decoder']['n_heads'],\n",
    "                  seq_len=config['data']['seq_len'], \n",
    "                  vocab = vocab)\n",
    "                  "
   ]
  },
  {
   "cell_type": "code",
   "execution_count": 7,
   "metadata": {},
   "outputs": [],
   "source": [
    "def set_up_causal_mask(seq_len):\n",
    "    mask = (torch.triu(torch.ones(seq_len, seq_len)) == 1).transpose(0, 1)\n",
    "    mask = mask.float().masked_fill(mask == 0, float('-inf')).masked_fill(mask == 1, float(0.0))\n",
    "    mask.requires_grad = False\n",
    "    return mask\n",
    "\n",
    "def forward_pass(model, dataloader):\n",
    "    for i, data in enumerate(dataloader):\n",
    "        data\n",
    "        break\n",
    "    latent = torch.rand(config['data']['batch_size'], config['molecule_decoder']['latent_size'])\n",
    "    smi = data['decoder_inp']\n",
    "    tgt = data['decoder_tgt']\n",
    "    tgt_padding_mask = data['tgt_padding_mask']\n",
    "    tgt_mask = set_up_causal_mask(config['data']['seq_len'])\n",
    "    \n",
    "    pred = model(latent, smi, tgt_mask, tgt_padding_mask)\n",
    "    \n",
    "    print(pred.shape)\n",
    "    return pred"
   ]
  },
  {
   "cell_type": "code",
   "execution_count": 8,
   "metadata": {},
   "outputs": [
    {
     "name": "stdout",
     "output_type": "stream",
     "text": [
      "torch.Size([128, 70, 25])\n"
     ]
    }
   ],
   "source": [
    "out = forward_pass(model, dataloaders['train'])"
   ]
  },
  {
   "cell_type": "code",
   "execution_count": null,
   "metadata": {},
   "outputs": [],
   "source": []
  },
  {
   "cell_type": "code",
   "execution_count": null,
   "metadata": {},
   "outputs": [],
   "source": []
  },
  {
   "cell_type": "code",
   "execution_count": null,
   "metadata": {},
   "outputs": [],
   "source": []
  },
  {
   "cell_type": "code",
   "execution_count": null,
   "metadata": {},
   "outputs": [],
   "source": []
  },
  {
   "cell_type": "code",
   "execution_count": null,
   "metadata": {},
   "outputs": [],
   "source": []
  },
  {
   "cell_type": "code",
   "execution_count": null,
   "metadata": {},
   "outputs": [],
   "source": []
  },
  {
   "cell_type": "code",
   "execution_count": null,
   "metadata": {},
   "outputs": [],
   "source": []
  },
  {
   "cell_type": "code",
   "execution_count": null,
   "metadata": {},
   "outputs": [],
   "source": []
  },
  {
   "cell_type": "code",
   "execution_count": null,
   "metadata": {},
   "outputs": [],
   "source": []
  },
  {
   "cell_type": "code",
   "execution_count": null,
   "metadata": {},
   "outputs": [],
   "source": []
  },
  {
   "cell_type": "code",
   "execution_count": null,
   "metadata": {},
   "outputs": [],
   "source": []
  },
  {
   "cell_type": "code",
   "execution_count": null,
   "metadata": {},
   "outputs": [],
   "source": []
  }
 ],
 "metadata": {
  "kernelspec": {
   "display_name": "sbdd-env",
   "language": "python",
   "name": "python3"
  },
  "language_info": {
   "codemirror_mode": {
    "name": "ipython",
    "version": 3
   },
   "file_extension": ".py",
   "mimetype": "text/x-python",
   "name": "python",
   "nbconvert_exporter": "python",
   "pygments_lexer": "ipython3",
   "version": "3.10.8"
  },
  "orig_nbformat": 4
 },
 "nbformat": 4,
 "nbformat_minor": 2
}
