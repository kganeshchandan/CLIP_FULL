{
 "cells": [
  {
   "cell_type": "code",
   "execution_count": 1,
   "metadata": {},
   "outputs": [],
   "source": [
    "import pickle \n",
    "import yaml\n",
    "import pandas as pd\n",
    "from PrepareData import prepare_data\n",
    "\n",
    "\n",
    "import torch\n",
    "from torch import nn, optim, Tensor\n",
    "from torch.nn import functional as F\n",
    "import pickle \n",
    "import numpy as np\n",
    "import pandas as pd\n",
    "import matplotlib.pyplot as plt\n",
    "import rdkit\n",
    "from rdkit import Chem\n",
    "from rdkit.Chem import AllChem\n",
    "from rdkit.Chem import Draw\n",
    "import seaborn as sns\n",
    "from architecture import CLIP\n",
    "from tqdm import tqdm\n",
    "\n",
    "device = torch.device(\"cuda\" if torch.cuda.is_available() else \"cpu\")\n",
    "dtype = torch.float32\n"
   ]
  },
  {
   "cell_type": "code",
   "execution_count": 2,
   "metadata": {},
   "outputs": [],
   "source": [
    "from train_utils import load_model"
   ]
  },
  {
   "cell_type": "code",
   "execution_count": 3,
   "metadata": {},
   "outputs": [],
   "source": [
    "def make_deterministic(random_seed = 0):\n",
    "    torch.manual_seed(random_seed)\n",
    "    torch.cuda.manual_seed(random_seed)\n",
    "    torch.backends.cudnn.deterministic = True\n",
    "    torch.backends.cudnn.benchmark = False\n",
    "    np.random.seed(random_seed)\n",
    "    \n",
    "make_deterministic(0)"
   ]
  },
  {
   "cell_type": "code",
   "execution_count": 4,
   "metadata": {},
   "outputs": [
    {
     "name": "stdout",
     "output_type": "stream",
     "text": [
      "best_epoch 78\n",
      "best_clip_epoch 0\n",
      "best_recon_epoch 78\n",
      "best_total_loss 6.046065216064453\n",
      "best_clip_loss 5.991506538391113\n",
      "best_recon_loss 0.0475520508736372\n"
     ]
    }
   ],
   "source": [
    "config = yaml.safe_load(open('./checkpoints/FULL_ONLY_DECODER/config.yaml', 'r'))\n",
    "logs = pickle.load(open('./checkpoints/FULL_ONLY_DECODER/logs.pickle', 'rb'))\n",
    "for key in logs:\n",
    "    if \"best\" in key:\n",
    "        print(key, logs[key])"
   ]
  },
  {
   "cell_type": "code",
   "execution_count": 5,
   "metadata": {},
   "outputs": [
    {
     "data": {
      "application/vnd.jupyter.widget-view+json": {
       "model_id": "a5da6187af874fe19763a95c97a661c9",
       "version_major": 2,
       "version_minor": 0
      },
      "text/plain": [
       "0it [00:00, ?it/s]"
      ]
     },
     "metadata": {},
     "output_type": "display_data"
    },
    {
     "data": {
      "application/vnd.jupyter.widget-view+json": {
       "model_id": "4ca98a7e7b234473a6fd3961a8b6e925",
       "version_major": 2,
       "version_minor": 0
      },
      "text/plain": [
       "0it [00:00, ?it/s]"
      ]
     },
     "metadata": {},
     "output_type": "display_data"
    }
   ],
   "source": [
    "model = load_model(config['train']['checkpoint_dir'], type=\"best_latest\")\n",
    "model = model.eval()\n",
    "dataloaders, max_charge, num_species = prepare_data(config)"
   ]
  },
  {
   "cell_type": "code",
   "execution_count": null,
   "metadata": {},
   "outputs": [],
   "source": []
  },
  {
   "cell_type": "code",
   "execution_count": 6,
   "metadata": {},
   "outputs": [],
   "source": [
    "val_ids = pickle.load(open('./checkpoints/FULL_ONLY_DECODER/val_ids.pickle', 'rb'))"
   ]
  },
  {
   "cell_type": "code",
   "execution_count": 7,
   "metadata": {},
   "outputs": [
    {
     "data": {
      "text/plain": [
       "tensor([31720, 11277, 27101,  ..., 61049, 83142, 87043])"
      ]
     },
     "execution_count": 7,
     "metadata": {},
     "output_type": "execute_result"
    }
   ],
   "source": [
    "val_ids"
   ]
  },
  {
   "cell_type": "code",
   "execution_count": 8,
   "metadata": {},
   "outputs": [
    {
     "name": "stderr",
     "output_type": "stream",
     "text": [
      "50it [00:00, 70.71it/s] \n"
     ]
    }
   ],
   "source": [
    "all_ids = []\n",
    "with torch.no_grad():\n",
    "    for i, data in tqdm(enumerate(dataloaders['val'])):    \n",
    "        data = {k: v.to(device) for k, v in data.items()}\n",
    "        all_ids.append(data['index'].detach().cpu())\n",
    "all_ids = torch.cat(all_ids, 0)"
   ]
  },
  {
   "cell_type": "code",
   "execution_count": 9,
   "metadata": {},
   "outputs": [
    {
     "data": {
      "text/plain": [
       "torch.return_types.sort(\n",
       "values=tensor([     7,      9,     17,  ..., 133795, 133804, 133806]),\n",
       "indices=tensor([15904, 19349,  1738,  ...,  2109, 17500,  1599]))"
      ]
     },
     "execution_count": 9,
     "metadata": {},
     "output_type": "execute_result"
    }
   ],
   "source": [
    "val_ids.sort()"
   ]
  },
  {
   "cell_type": "code",
   "execution_count": 10,
   "metadata": {},
   "outputs": [
    {
     "data": {
      "text/plain": [
       "torch.return_types.sort(\n",
       "values=tensor([     7,      9,     17,  ..., 133795, 133804, 133806]),\n",
       "indices=tensor([18840, 12013, 11830,  ...,  9803, 12095, 19162]))"
      ]
     },
     "execution_count": 10,
     "metadata": {},
     "output_type": "execute_result"
    }
   ],
   "source": [
    "all_ids.sort()"
   ]
  },
  {
   "cell_type": "code",
   "execution_count": 11,
   "metadata": {},
   "outputs": [
    {
     "data": {
      "text/plain": [
       "1.0"
      ]
     },
     "execution_count": 11,
     "metadata": {},
     "output_type": "execute_result"
    }
   ],
   "source": [
    "((val_ids.sort()[0] == all_ids.sort()[0]).sum() / all_ids.shape[0]).item() "
   ]
  },
  {
   "cell_type": "code",
   "execution_count": 12,
   "metadata": {},
   "outputs": [],
   "source": [
    "from train_utils import decoder_performance\n",
    "from train_utils import top_scores, decoder_performance, distance_distribution\n",
    "\n",
    "def clip_performance(config, model, dataloaders, epoch):\n",
    "    # model.to(device)\n",
    "    model.eval()\n",
    "    max_charge = config['data']['max_charge']\n",
    "    num_species = config['data']['num_species']\n",
    "\n",
    "    molembeds = []\n",
    "    specembeds = []\n",
    "    with torch.no_grad():\n",
    "        for i, data in tqdm(enumerate(dataloaders['val'])):    \n",
    "            data = {k: v.to(device) for k, v in data.items()}\n",
    "            mol_latents, spec_latents, smile_preds, logit_scale, ids = model(data)\n",
    "            molembeds.append(mol_latents.detach().cpu())\n",
    "            specembeds.append(spec_latents.detach().cpu())\n",
    "        del mol_latents, spec_latents, smile_preds, logit_scale, ids\n",
    "\n",
    "    test_molembeds = torch.cat(molembeds, 0)\n",
    "    test_specembeds = torch.cat(specembeds, 0)\n",
    "    \n",
    "    molembeds = []\n",
    "    specembeds = []\n",
    "    with torch.no_grad():\n",
    "        for i, data in tqdm(enumerate(dataloaders['train'])):    \n",
    "            data = {k: v.to(device) for k, v in data.items()}\n",
    "            mol_latents, spec_latents, smile_preds, logit_scale, ids = model(data)\n",
    "            molembeds.append(mol_latents.detach().cpu())\n",
    "                # specembeds.append(spec_latents.detach().cpu())\n",
    "        del mol_latents, spec_latents, smile_preds, logit_scale, ids\n",
    "    \n",
    "    train_molembeds = torch.cat(molembeds, 0)\n",
    "\n",
    "    return test_molembeds, train_molembeds, test_specembeds"
   ]
  },
  {
   "cell_type": "code",
   "execution_count": 13,
   "metadata": {},
   "outputs": [],
   "source": [
    "from train_utils import Sampler, calculate_decoder_accuracy"
   ]
  },
  {
   "cell_type": "code",
   "execution_count": 14,
   "metadata": {},
   "outputs": [],
   "source": [
    "sampler = Sampler( model.module.smiles_decoder, model.module.vocab)"
   ]
  },
  {
   "cell_type": "code",
   "execution_count": 15,
   "metadata": {},
   "outputs": [
    {
     "name": "stderr",
     "output_type": "stream",
     "text": [
      "50it [15:39, 18.79s/it]"
     ]
    },
    {
     "name": "stdout",
     "output_type": "stream",
     "text": [
      "No of Hits :  6688\n"
     ]
    },
    {
     "name": "stderr",
     "output_type": "stream",
     "text": [
      "\n"
     ]
    }
   ],
   "source": [
    "acc = calculate_decoder_accuracy(model, dataloaders, k=1)"
   ]
  },
  {
   "cell_type": "code",
   "execution_count": 23,
   "metadata": {},
   "outputs": [
    {
     "name": "stdout",
     "output_type": "stream",
     "text": [
      "0.3344\n"
     ]
    }
   ],
   "source": [
    "print(acc)"
   ]
  },
  {
   "cell_type": "code",
   "execution_count": 22,
   "metadata": {},
   "outputs": [
    {
     "name": "stderr",
     "output_type": "stream",
     "text": [
      "0it [01:11, ?it/s]\n"
     ]
    }
   ],
   "source": [
    "greedy_smiles_list = []\n",
    "og_smiles_list = []\n",
    "random_smiles_list = []\n",
    "with torch.no_grad():\n",
    "    for i, data in tqdm(enumerate(dataloaders['val'])):    \n",
    "        data = {k: v.to(device) for k, v in data.items()}\n",
    "        spec_latents = model.module.forward_spec(data)\n",
    "        for spec, og in zip(spec_latents, data['smiles'] ):\n",
    "            og_smile = \"\"\n",
    "            chars = model.module.vocab.from_seq(og)\n",
    "            for char in chars:\n",
    "                if char != \"<pad>\" and char != \"<eos>\" and char != \"<sos>\" and char != \"<unk>\":\n",
    "                    og_smile += char\n",
    "            og_smile = Chem.CanonSmiles(og_smile)\n",
    "\n",
    "            greedy_smiles = sampler.sample_multi(n=1,embed=spec,greedy_decode=True)\n",
    "            greedy_smiles_list.append(greedy_smiles)\n",
    "            \n",
    "            random_smiles = sampler.sample_multi(n=3,embed=spec,greedy_decode=False)\n",
    "            random_smiles_list.append(random_smiles)\n",
    "            \n",
    "            og_smiles_list.append(og_smile)\n",
    "        break\n",
    "            "
   ]
  },
  {
   "cell_type": "code",
   "execution_count": 25,
   "metadata": {},
   "outputs": [
    {
     "ename": "NameError",
     "evalue": "name 'random_smiles_list' is not defined",
     "output_type": "error",
     "traceback": [
      "\u001b[0;31m---------------------------------------------------------------------------\u001b[0m",
      "\u001b[0;31mNameError\u001b[0m                                 Traceback (most recent call last)",
      "Cell \u001b[0;32mIn[25], line 1\u001b[0m\n\u001b[0;32m----> 1\u001b[0m random_smiles_list\n",
      "\u001b[0;31mNameError\u001b[0m: name 'random_smiles_list' is not defined"
     ]
    }
   ],
   "source": [
    "random_smiles_list"
   ]
  },
  {
   "cell_type": "code",
   "execution_count": null,
   "metadata": {},
   "outputs": [],
   "source": []
  }
 ],
 "metadata": {
  "kernelspec": {
   "display_name": "sbdd-env",
   "language": "python",
   "name": "python3"
  },
  "language_info": {
   "codemirror_mode": {
    "name": "ipython",
    "version": 3
   },
   "file_extension": ".py",
   "mimetype": "text/x-python",
   "name": "python",
   "nbconvert_exporter": "python",
   "pygments_lexer": "ipython3",
   "version": "3.10.8"
  },
  "orig_nbformat": 4
 },
 "nbformat": 4,
 "nbformat_minor": 2
}
