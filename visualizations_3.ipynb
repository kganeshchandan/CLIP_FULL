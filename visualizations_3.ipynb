{
 "cells": [
  {
   "cell_type": "code",
   "execution_count": 1,
   "metadata": {},
   "outputs": [],
   "source": [
    "import pickle \n",
    "import yaml\n",
    "import pandas as pd\n",
    "from PrepareData import prepare_data\n",
    "\n",
    "\n",
    "import torch\n",
    "from torch import nn, optim, Tensor\n",
    "from torch.nn import functional as F\n",
    "import pickle \n",
    "import numpy as np\n",
    "import pandas as pd\n",
    "import matplotlib.pyplot as plt\n",
    "import rdkit\n",
    "from rdkit import Chem\n",
    "from rdkit.Chem import AllChem\n",
    "from rdkit.Chem import Draw\n",
    "import seaborn as sns\n",
    "from architecture import CLIP\n",
    "from tqdm import tqdm\n",
    "\n",
    "device = torch.device(\"cuda\" if torch.cuda.is_available() else \"cpu\")\n",
    "dtype = torch.float32\n"
   ]
  },
  {
   "cell_type": "code",
   "execution_count": 2,
   "metadata": {},
   "outputs": [],
   "source": [
    "from train_utils import load_model"
   ]
  },
  {
   "cell_type": "code",
   "execution_count": 3,
   "metadata": {},
   "outputs": [],
   "source": [
    "def make_deterministic(random_seed = 0):\n",
    "    torch.manual_seed(random_seed)\n",
    "    torch.cuda.manual_seed(random_seed)\n",
    "    torch.backends.cudnn.deterministic = True\n",
    "    torch.backends.cudnn.benchmark = False\n",
    "    np.random.seed(random_seed)\n",
    "    \n",
    "make_deterministic(0)"
   ]
  },
  {
   "cell_type": "code",
   "execution_count": 4,
   "metadata": {},
   "outputs": [
    {
     "name": "stdout",
     "output_type": "stream",
     "text": [
      "best_epoch 618\n",
      "best_clip_epoch 684\n",
      "best_recon_epoch 195\n",
      "best_total_loss 0.05993457242846489\n",
      "best_clip_loss 0.012829888865817339\n",
      "best_recon_loss 0.039655369743704795\n"
     ]
    }
   ],
   "source": [
    "config = yaml.safe_load(open('./checkpoints/FULL_COMBINED/config.yaml', 'r'))\n",
    "logs = pickle.load(open('./checkpoints/FULL_COMBINED/logs.pickle', 'rb'))\n",
    "for key in logs:\n",
    "    if \"best\" in key:\n",
    "        print(key, logs[key])"
   ]
  },
  {
   "cell_type": "code",
   "execution_count": 5,
   "metadata": {},
   "outputs": [
    {
     "data": {
      "application/vnd.jupyter.widget-view+json": {
       "model_id": "3df69487561b4e21b3a977930735af7c",
       "version_major": 2,
       "version_minor": 0
      },
      "text/plain": [
       "0it [00:00, ?it/s]"
      ]
     },
     "metadata": {},
     "output_type": "display_data"
    },
    {
     "data": {
      "application/vnd.jupyter.widget-view+json": {
       "model_id": "38dc39e3cfd34e9ab27300de8fd87f0d",
       "version_major": 2,
       "version_minor": 0
      },
      "text/plain": [
       "0it [00:00, ?it/s]"
      ]
     },
     "metadata": {},
     "output_type": "display_data"
    }
   ],
   "source": [
    "model = load_model(config['train']['checkpoint_dir'], type=\"best_clip\")\n",
    "model = model.eval()\n",
    "dataloaders, max_charge, num_species = prepare_data(config)"
   ]
  },
  {
   "cell_type": "code",
   "execution_count": 6,
   "metadata": {},
   "outputs": [],
   "source": [
    "model = load_model(config['train']['checkpoint_dir'], type=\"best_recon\")\n",
    "model = model.eval()"
   ]
  },
  {
   "cell_type": "code",
   "execution_count": 7,
   "metadata": {},
   "outputs": [],
   "source": [
    "val_ids = pickle.load(open('./checkpoints/FULL_COMBINED/val_ids.pickle', 'rb'))"
   ]
  },
  {
   "cell_type": "code",
   "execution_count": 8,
   "metadata": {},
   "outputs": [
    {
     "name": "stderr",
     "output_type": "stream",
     "text": [
      "50it [00:00, 71.97it/s] \n"
     ]
    }
   ],
   "source": [
    "all_ids = []\n",
    "with torch.no_grad():\n",
    "    for i, data in tqdm(enumerate(dataloaders['val'])):    \n",
    "        data = {k: v.to(device) for k, v in data.items()}\n",
    "        all_ids.append(data['index'].detach().cpu())\n",
    "all_ids = torch.cat(all_ids, 0)"
   ]
  },
  {
   "cell_type": "code",
   "execution_count": 9,
   "metadata": {},
   "outputs": [],
   "source": [
    "assert(((val_ids.sort()[0] == all_ids.sort()[0]).sum() / all_ids.shape[0]).item())"
   ]
  },
  {
   "cell_type": "code",
   "execution_count": 10,
   "metadata": {},
   "outputs": [],
   "source": [
    "from train_utils import decoder_performance\n",
    "from train_utils import top_scores, decoder_performance, distance_distribution\n",
    "\n",
    "def clip_performance(config, model, dataloaders, epoch):\n",
    "    # model.to(device)\n",
    "    model.eval()\n",
    "    max_charge = config['data']['max_charge']\n",
    "    num_species = config['data']['num_species']\n",
    "\n",
    "    molembeds = []\n",
    "    specembeds = []\n",
    "    with torch.no_grad():\n",
    "        for i, data in tqdm(enumerate(dataloaders['val'])):    \n",
    "            data = {k: v.to(device) for k, v in data.items()}\n",
    "            mol_latents, spec_latents, smile_preds, logit_scale, ids = model(data)\n",
    "            molembeds.append(mol_latents.detach().cpu())\n",
    "            specembeds.append(spec_latents.detach().cpu())\n",
    "        del mol_latents, spec_latents, smile_preds, logit_scale, ids\n",
    "\n",
    "    test_molembeds = torch.cat(molembeds, 0)\n",
    "    test_specembeds = torch.cat(specembeds, 0)\n",
    "    \n",
    "    molembeds = []\n",
    "    specembeds = []\n",
    "    with torch.no_grad():\n",
    "        for i, data in tqdm(enumerate(dataloaders['train'])):    \n",
    "            data = {k: v.to(device) for k, v in data.items()}\n",
    "            mol_latents, spec_latents, smile_preds, logit_scale, ids = model(data)\n",
    "            molembeds.append(mol_latents.detach().cpu())\n",
    "                # specembeds.append(spec_latents.detach().cpu())\n",
    "        del mol_latents, spec_latents, smile_preds, logit_scale, ids\n",
    "    \n",
    "    train_molembeds = torch.cat(molembeds, 0)\n",
    "\n",
    "    return test_molembeds, train_molembeds, test_specembeds"
   ]
  },
  {
   "cell_type": "code",
   "execution_count": 11,
   "metadata": {},
   "outputs": [],
   "source": [
    "from train_utils import Sampler, calculate_decoder_accuracy"
   ]
  },
  {
   "cell_type": "code",
   "execution_count": 12,
   "metadata": {},
   "outputs": [],
   "source": [
    "sampler = Sampler( model.module.smiles_decoder, model.module.vocab)"
   ]
  },
  {
   "cell_type": "code",
   "execution_count": 15,
   "metadata": {},
   "outputs": [],
   "source": [
    "def calculate_decoder_accuracy( model, dataloaders, k=1, greedy_decode=True):\n",
    "    pred_smiles_list = []\n",
    "    og_smiles_list = []\n",
    "    validity =0\n",
    "    validity_count = 0\n",
    "    count = 0\n",
    "    sampler = Sampler(model.module.smiles_decoder, model.module.vocab)\n",
    "    with torch.no_grad():\n",
    "        for i, data in tqdm(enumerate(dataloaders['val'])):\n",
    "            data = {k: v.to(device) for k, v in data.items()}\n",
    "            spec_latents = model.module.forward_spec(data)\n",
    "            for spec, og in zip(spec_latents, data['smiles'] ):\n",
    "                ls = sampler.sample_multi(k,spec,greedy_decode=greedy_decode)\n",
    "                validity_count += k\n",
    "                generated_smiles = []\n",
    "                for smi in ls:\n",
    "                    if smi != None:\n",
    "                        validity += 1\n",
    "                \n",
    "            print(\"Validity\", validity / validity_count)\n"
   ]
  },
  {
   "cell_type": "code",
   "execution_count": 16,
   "metadata": {},
   "outputs": [
    {
     "name": "stderr",
     "output_type": "stream",
     "text": [
      "1it [00:17, 17.26s/it]"
     ]
    },
    {
     "name": "stdout",
     "output_type": "stream",
     "text": [
      "Validity 1.0\n"
     ]
    },
    {
     "name": "stderr",
     "output_type": "stream",
     "text": [
      "2it [00:34, 17.24s/it]"
     ]
    },
    {
     "name": "stdout",
     "output_type": "stream",
     "text": [
      "Validity 1.0\n"
     ]
    },
    {
     "name": "stderr",
     "output_type": "stream",
     "text": [
      "3it [00:51, 17.23s/it]"
     ]
    },
    {
     "name": "stdout",
     "output_type": "stream",
     "text": [
      "Validity 1.0\n"
     ]
    },
    {
     "name": "stderr",
     "output_type": "stream",
     "text": [
      "4it [01:08, 17.02s/it]"
     ]
    },
    {
     "name": "stdout",
     "output_type": "stream",
     "text": [
      "Validity 1.0\n"
     ]
    },
    {
     "name": "stderr",
     "output_type": "stream",
     "text": [
      "5it [01:24, 16.79s/it]"
     ]
    },
    {
     "name": "stdout",
     "output_type": "stream",
     "text": [
      "Validity 1.0\n"
     ]
    },
    {
     "name": "stderr",
     "output_type": "stream",
     "text": [
      "6it [01:41, 16.89s/it]"
     ]
    },
    {
     "name": "stdout",
     "output_type": "stream",
     "text": [
      "Validity 1.0\n"
     ]
    },
    {
     "name": "stderr",
     "output_type": "stream",
     "text": [
      "7it [01:58, 16.82s/it]"
     ]
    },
    {
     "name": "stdout",
     "output_type": "stream",
     "text": [
      "Validity 1.0\n"
     ]
    },
    {
     "name": "stderr",
     "output_type": "stream",
     "text": [
      "8it [02:15, 16.82s/it]"
     ]
    },
    {
     "name": "stdout",
     "output_type": "stream",
     "text": [
      "Validity 1.0\n"
     ]
    },
    {
     "name": "stderr",
     "output_type": "stream",
     "text": [
      "9it [02:32, 16.80s/it]"
     ]
    },
    {
     "name": "stdout",
     "output_type": "stream",
     "text": [
      "Validity 1.0\n"
     ]
    },
    {
     "name": "stderr",
     "output_type": "stream",
     "text": [
      "10it [02:49, 16.89s/it]"
     ]
    },
    {
     "name": "stdout",
     "output_type": "stream",
     "text": [
      "Validity 1.0\n"
     ]
    },
    {
     "name": "stderr",
     "output_type": "stream",
     "text": [
      "11it [03:06, 16.95s/it]"
     ]
    },
    {
     "name": "stdout",
     "output_type": "stream",
     "text": [
      "Validity 1.0\n"
     ]
    },
    {
     "name": "stderr",
     "output_type": "stream",
     "text": [
      "12it [03:23, 16.91s/it]"
     ]
    },
    {
     "name": "stdout",
     "output_type": "stream",
     "text": [
      "Validity 1.0\n"
     ]
    },
    {
     "name": "stderr",
     "output_type": "stream",
     "text": [
      "13it [03:40, 16.91s/it]"
     ]
    },
    {
     "name": "stdout",
     "output_type": "stream",
     "text": [
      "Validity 1.0\n"
     ]
    },
    {
     "name": "stderr",
     "output_type": "stream",
     "text": [
      "14it [03:57, 16.94s/it]"
     ]
    },
    {
     "name": "stdout",
     "output_type": "stream",
     "text": [
      "Validity 1.0\n"
     ]
    },
    {
     "name": "stderr",
     "output_type": "stream",
     "text": [
      "15it [04:13, 16.93s/it]"
     ]
    },
    {
     "name": "stdout",
     "output_type": "stream",
     "text": [
      "Validity 1.0\n"
     ]
    },
    {
     "name": "stderr",
     "output_type": "stream",
     "text": [
      "16it [04:30, 16.87s/it]"
     ]
    },
    {
     "name": "stdout",
     "output_type": "stream",
     "text": [
      "Validity 1.0\n"
     ]
    },
    {
     "name": "stderr",
     "output_type": "stream",
     "text": [
      "17it [04:47, 16.80s/it]"
     ]
    },
    {
     "name": "stdout",
     "output_type": "stream",
     "text": [
      "Validity 1.0\n"
     ]
    },
    {
     "name": "stderr",
     "output_type": "stream",
     "text": [
      "18it [05:04, 16.98s/it]"
     ]
    },
    {
     "name": "stdout",
     "output_type": "stream",
     "text": [
      "Validity 1.0\n"
     ]
    },
    {
     "name": "stderr",
     "output_type": "stream",
     "text": [
      "19it [05:21, 17.00s/it]"
     ]
    },
    {
     "name": "stdout",
     "output_type": "stream",
     "text": [
      "Validity 1.0\n"
     ]
    },
    {
     "name": "stderr",
     "output_type": "stream",
     "text": [
      "20it [05:38, 16.96s/it]"
     ]
    },
    {
     "name": "stdout",
     "output_type": "stream",
     "text": [
      "Validity 1.0\n"
     ]
    },
    {
     "name": "stderr",
     "output_type": "stream",
     "text": [
      "21it [05:55, 16.94s/it]"
     ]
    },
    {
     "name": "stdout",
     "output_type": "stream",
     "text": [
      "Validity 1.0\n"
     ]
    },
    {
     "name": "stderr",
     "output_type": "stream",
     "text": [
      "22it [06:12, 16.90s/it]"
     ]
    },
    {
     "name": "stdout",
     "output_type": "stream",
     "text": [
      "Validity 1.0\n"
     ]
    },
    {
     "name": "stderr",
     "output_type": "stream",
     "text": [
      "23it [06:29, 16.94s/it]"
     ]
    },
    {
     "name": "stdout",
     "output_type": "stream",
     "text": [
      "Validity 1.0\n"
     ]
    },
    {
     "name": "stderr",
     "output_type": "stream",
     "text": [
      "24it [06:46, 16.93s/it]"
     ]
    },
    {
     "name": "stdout",
     "output_type": "stream",
     "text": [
      "Validity 1.0\n"
     ]
    },
    {
     "name": "stderr",
     "output_type": "stream",
     "text": [
      "25it [07:03, 16.94s/it]"
     ]
    },
    {
     "name": "stdout",
     "output_type": "stream",
     "text": [
      "Validity 1.0\n"
     ]
    },
    {
     "name": "stderr",
     "output_type": "stream",
     "text": [
      "26it [07:20, 16.95s/it]"
     ]
    },
    {
     "name": "stdout",
     "output_type": "stream",
     "text": [
      "Validity 1.0\n"
     ]
    },
    {
     "name": "stderr",
     "output_type": "stream",
     "text": [
      "27it [07:37, 17.00s/it]"
     ]
    },
    {
     "name": "stdout",
     "output_type": "stream",
     "text": [
      "Validity 1.0\n"
     ]
    },
    {
     "name": "stderr",
     "output_type": "stream",
     "text": [
      "28it [07:54, 16.94s/it]"
     ]
    },
    {
     "name": "stdout",
     "output_type": "stream",
     "text": [
      "Validity 1.0\n"
     ]
    },
    {
     "name": "stderr",
     "output_type": "stream",
     "text": [
      "29it [08:11, 16.96s/it]"
     ]
    },
    {
     "name": "stdout",
     "output_type": "stream",
     "text": [
      "Validity 1.0\n"
     ]
    },
    {
     "name": "stderr",
     "output_type": "stream",
     "text": [
      "30it [08:28, 17.04s/it]"
     ]
    },
    {
     "name": "stdout",
     "output_type": "stream",
     "text": [
      "Validity 1.0\n"
     ]
    },
    {
     "name": "stderr",
     "output_type": "stream",
     "text": [
      "31it [08:44, 16.92s/it]"
     ]
    },
    {
     "name": "stdout",
     "output_type": "stream",
     "text": [
      "Validity 1.0\n"
     ]
    },
    {
     "name": "stderr",
     "output_type": "stream",
     "text": [
      "32it [09:01, 16.92s/it]"
     ]
    },
    {
     "name": "stdout",
     "output_type": "stream",
     "text": [
      "Validity 1.0\n"
     ]
    },
    {
     "name": "stderr",
     "output_type": "stream",
     "text": [
      "33it [09:19, 17.03s/it]"
     ]
    },
    {
     "name": "stdout",
     "output_type": "stream",
     "text": [
      "Validity 1.0\n"
     ]
    },
    {
     "name": "stderr",
     "output_type": "stream",
     "text": [
      "34it [09:36, 17.00s/it]"
     ]
    },
    {
     "name": "stdout",
     "output_type": "stream",
     "text": [
      "Validity 1.0\n"
     ]
    },
    {
     "name": "stderr",
     "output_type": "stream",
     "text": [
      "35it [09:52, 16.92s/it]"
     ]
    },
    {
     "name": "stdout",
     "output_type": "stream",
     "text": [
      "Validity 1.0\n"
     ]
    },
    {
     "name": "stderr",
     "output_type": "stream",
     "text": [
      "36it [10:09, 16.89s/it]"
     ]
    },
    {
     "name": "stdout",
     "output_type": "stream",
     "text": [
      "Validity 1.0\n"
     ]
    },
    {
     "name": "stderr",
     "output_type": "stream",
     "text": [
      "37it [10:26, 16.86s/it]"
     ]
    },
    {
     "name": "stdout",
     "output_type": "stream",
     "text": [
      "Validity 1.0\n"
     ]
    },
    {
     "name": "stderr",
     "output_type": "stream",
     "text": [
      "38it [10:43, 16.87s/it]"
     ]
    },
    {
     "name": "stdout",
     "output_type": "stream",
     "text": [
      "Validity 1.0\n"
     ]
    },
    {
     "name": "stderr",
     "output_type": "stream",
     "text": [
      "39it [11:00, 16.95s/it]"
     ]
    },
    {
     "name": "stdout",
     "output_type": "stream",
     "text": [
      "Validity 1.0\n"
     ]
    },
    {
     "name": "stderr",
     "output_type": "stream",
     "text": [
      "40it [11:17, 16.98s/it]"
     ]
    },
    {
     "name": "stdout",
     "output_type": "stream",
     "text": [
      "Validity 1.0\n"
     ]
    },
    {
     "name": "stderr",
     "output_type": "stream",
     "text": [
      "41it [11:34, 16.94s/it]"
     ]
    },
    {
     "name": "stdout",
     "output_type": "stream",
     "text": [
      "Validity 1.0\n"
     ]
    },
    {
     "name": "stderr",
     "output_type": "stream",
     "text": [
      "42it [11:51, 16.84s/it]"
     ]
    },
    {
     "name": "stdout",
     "output_type": "stream",
     "text": [
      "Validity 1.0\n"
     ]
    },
    {
     "name": "stderr",
     "output_type": "stream",
     "text": [
      "43it [12:08, 16.91s/it]"
     ]
    },
    {
     "name": "stdout",
     "output_type": "stream",
     "text": [
      "Validity 1.0\n"
     ]
    },
    {
     "name": "stderr",
     "output_type": "stream",
     "text": [
      "44it [12:25, 16.92s/it]"
     ]
    },
    {
     "name": "stdout",
     "output_type": "stream",
     "text": [
      "Validity 1.0\n"
     ]
    },
    {
     "name": "stderr",
     "output_type": "stream",
     "text": [
      "45it [12:41, 16.93s/it]"
     ]
    },
    {
     "name": "stdout",
     "output_type": "stream",
     "text": [
      "Validity 1.0\n"
     ]
    },
    {
     "name": "stderr",
     "output_type": "stream",
     "text": [
      "46it [12:58, 16.88s/it]"
     ]
    },
    {
     "name": "stdout",
     "output_type": "stream",
     "text": [
      "Validity 1.0\n"
     ]
    },
    {
     "name": "stderr",
     "output_type": "stream",
     "text": [
      "47it [13:15, 16.90s/it]"
     ]
    },
    {
     "name": "stdout",
     "output_type": "stream",
     "text": [
      "Validity 1.0\n"
     ]
    },
    {
     "name": "stderr",
     "output_type": "stream",
     "text": [
      "48it [13:32, 16.90s/it]"
     ]
    },
    {
     "name": "stdout",
     "output_type": "stream",
     "text": [
      "Validity 1.0\n"
     ]
    },
    {
     "name": "stderr",
     "output_type": "stream",
     "text": [
      "49it [13:49, 16.93s/it]"
     ]
    },
    {
     "name": "stdout",
     "output_type": "stream",
     "text": [
      "Validity 1.0\n"
     ]
    },
    {
     "name": "stderr",
     "output_type": "stream",
     "text": [
      "50it [14:06, 16.88s/it]"
     ]
    },
    {
     "name": "stdout",
     "output_type": "stream",
     "text": [
      "Validity 1.0\n"
     ]
    },
    {
     "name": "stderr",
     "output_type": "stream",
     "text": [
      "50it [14:06, 16.94s/it]\n"
     ]
    }
   ],
   "source": [
    "calculate_decoder_accuracy(model, dataloaders, k=1, greedy_decode=True)"
   ]
  },
  {
   "cell_type": "code",
   "execution_count": 12,
   "metadata": {},
   "outputs": [],
   "source": [
    "def calculate_decoder_accuracy( model, dataloaders, k=1, greedy_decode=True):\n",
    "    pred_smiles_list = []\n",
    "    og_smiles_list = []\n",
    "    validity = []\n",
    "    validity_count = 0\n",
    "    count = 0\n",
    "    sampler = Sampler(model.module.smiles_decoder, model.module.vocab)\n",
    "    with torch.no_grad():\n",
    "        for i, data in tqdm(enumerate(dataloaders['val'])):\n",
    "            data = {k: v.to(device) for k, v in data.items()}\n",
    "            spec_latents = model.module.forward_spec(data)\n",
    "            for spec, og in zip(spec_latents, data['smiles'] ):\n",
    "                ls = sampler.sample_multi(k,spec,greedy_decode=greedy_decode)\n",
    "                generated_smiles = []\n",
    "                for smi in ls:\n",
    "                    try:\n",
    "                        generated_smiles.append(Chem.CanonSmiles(smi))\n",
    "                    except:\n",
    "                        pass\n",
    "                og_smile = \"\"\n",
    "                chars = model.module.vocab.from_seq(og)\n",
    "                for char in chars:\n",
    "                    if char != \"<pad>\" and char != \"<eos>\" and char != \"<sos>\" and char != \"<unk>\":\n",
    "                        og_smile += char\n",
    "                og_smile = Chem.CanonSmiles(og_smile)\n",
    "                \n",
    "                if og_smile in generated_smiles:\n",
    "                    count += 1\n",
    "                \n",
    "                og_smiles_list.append(og_smile)\n",
    "                pred_smiles_list.append(generated_smiles)\n",
    "            print(\"No of Hits : \",count / len(og_smiles_list))\n",
    "\n",
    "        return count / len(og_smiles_list)"
   ]
  },
  {
   "cell_type": "code",
   "execution_count": 13,
   "metadata": {},
   "outputs": [
    {
     "name": "stderr",
     "output_type": "stream",
     "text": [
      "1it [00:51, 51.05s/it]"
     ]
    },
    {
     "name": "stdout",
     "output_type": "stream",
     "text": [
      "No of Hits :  0.575\n"
     ]
    },
    {
     "name": "stderr",
     "output_type": "stream",
     "text": [
      "2it [01:40, 49.98s/it]"
     ]
    },
    {
     "name": "stdout",
     "output_type": "stream",
     "text": [
      "No of Hits :  0.59125\n"
     ]
    },
    {
     "name": "stderr",
     "output_type": "stream",
     "text": [
      "3it [02:29, 49.72s/it]"
     ]
    },
    {
     "name": "stdout",
     "output_type": "stream",
     "text": [
      "No of Hits :  0.5933333333333334\n"
     ]
    },
    {
     "name": "stderr",
     "output_type": "stream",
     "text": [
      "4it [03:19, 49.77s/it]"
     ]
    },
    {
     "name": "stdout",
     "output_type": "stream",
     "text": [
      "No of Hits :  0.585625\n"
     ]
    },
    {
     "name": "stderr",
     "output_type": "stream",
     "text": [
      "5it [04:09, 49.76s/it]"
     ]
    },
    {
     "name": "stdout",
     "output_type": "stream",
     "text": [
      "No of Hits :  0.581\n"
     ]
    },
    {
     "name": "stderr",
     "output_type": "stream",
     "text": [
      "6it [04:58, 49.62s/it]"
     ]
    },
    {
     "name": "stdout",
     "output_type": "stream",
     "text": [
      "No of Hits :  0.5808333333333333\n"
     ]
    },
    {
     "name": "stderr",
     "output_type": "stream",
     "text": [
      "6it [05:04, 50.70s/it]\n"
     ]
    },
    {
     "ename": "KeyboardInterrupt",
     "evalue": "",
     "output_type": "error",
     "traceback": [
      "\u001b[0;31m---------------------------------------------------------------------------\u001b[0m",
      "\u001b[0;31mKeyboardInterrupt\u001b[0m                         Traceback (most recent call last)",
      "Cell \u001b[0;32mIn[13], line 1\u001b[0m\n\u001b[0;32m----> 1\u001b[0m acc \u001b[39m=\u001b[39m calculate_decoder_accuracy(model, dataloaders, k\u001b[39m=\u001b[39;49m\u001b[39m3\u001b[39;49m, greedy_decode\u001b[39m=\u001b[39;49m\u001b[39mFalse\u001b[39;49;00m)\n",
      "Cell \u001b[0;32mIn[12], line 11\u001b[0m, in \u001b[0;36mcalculate_decoder_accuracy\u001b[0;34m(model, dataloaders, k, greedy_decode)\u001b[0m\n\u001b[1;32m      9\u001b[0m spec_latents \u001b[39m=\u001b[39m model\u001b[39m.\u001b[39mmodule\u001b[39m.\u001b[39mforward_spec(data)\n\u001b[1;32m     10\u001b[0m \u001b[39mfor\u001b[39;00m spec, og \u001b[39min\u001b[39;00m \u001b[39mzip\u001b[39m(spec_latents, data[\u001b[39m'\u001b[39m\u001b[39msmiles\u001b[39m\u001b[39m'\u001b[39m] ):\n\u001b[0;32m---> 11\u001b[0m     ls \u001b[39m=\u001b[39m sampler\u001b[39m.\u001b[39;49msample_multi(k,spec,greedy_decode\u001b[39m=\u001b[39;49mgreedy_decode)\n\u001b[1;32m     12\u001b[0m     generated_smiles \u001b[39m=\u001b[39m []\n\u001b[1;32m     13\u001b[0m     \u001b[39mfor\u001b[39;00m smi \u001b[39min\u001b[39;00m ls:\n",
      "File \u001b[0;32m~/CLIP_PART_1/train_utils.py:419\u001b[0m, in \u001b[0;36mSampler.sample_multi\u001b[0;34m(self, n, embed, greedy_decode)\u001b[0m\n\u001b[1;32m    417\u001b[0m smiles_list \u001b[39m=\u001b[39m []\n\u001b[1;32m    418\u001b[0m \u001b[39mfor\u001b[39;00m i \u001b[39min\u001b[39;00m \u001b[39mrange\u001b[39m(n):\n\u001b[0;32m--> 419\u001b[0m     smiles_list\u001b[39m.\u001b[39mappend(\u001b[39mself\u001b[39;49m\u001b[39m.\u001b[39;49msample(embed, greedy_decode))\n\u001b[1;32m    420\u001b[0m \u001b[39mreturn\u001b[39;00m smiles_list\n",
      "File \u001b[0;32m~/CLIP_PART_1/train_utils.py:399\u001b[0m, in \u001b[0;36mSampler.sample\u001b[0;34m(self, embed, greedy_decode)\u001b[0m\n\u001b[1;32m    397\u001b[0m \u001b[39mfor\u001b[39;00m i \u001b[39min\u001b[39;00m \u001b[39mrange\u001b[39m(\u001b[39m0\u001b[39m,\u001b[39mself\u001b[39m\u001b[39m.\u001b[39mmax_len\u001b[39m-\u001b[39m\u001b[39m1\u001b[39m):\n\u001b[1;32m    398\u001b[0m     tensor \u001b[39m=\u001b[39m sample_tensor[:,:i\u001b[39m+\u001b[39m\u001b[39m1\u001b[39m]\n\u001b[0;32m--> 399\u001b[0m     logits \u001b[39m=\u001b[39m \u001b[39mself\u001b[39;49m\u001b[39m.\u001b[39;49mmodel\u001b[39m.\u001b[39;49mforward(embed, tensor)[:,\u001b[39m-\u001b[39m\u001b[39m1\u001b[39m,:]\n\u001b[1;32m    400\u001b[0m     probabilities \u001b[39m=\u001b[39m F\u001b[39m.\u001b[39msoftmax(logits, dim\u001b[39m=\u001b[39m\u001b[39m1\u001b[39m)\n\u001b[1;32m    401\u001b[0m     sampled_char \u001b[39m=\u001b[39m torch\u001b[39m.\u001b[39mmultinomial(probabilities,\u001b[39m1\u001b[39m)\u001b[39m.\u001b[39mitem()\n",
      "File \u001b[0;32m~/CLIP_PART_1/models/decoder.py:107\u001b[0m, in \u001b[0;36mLatentToMol.forward\u001b[0;34m(self, spec, smi, tgt_mask, tgt_padding_mask)\u001b[0m\n\u001b[1;32m    104\u001b[0m x \u001b[39m=\u001b[39m torch\u001b[39m.\u001b[39mcat([spec, smi], dim\u001b[39m=\u001b[39m\u001b[39m1\u001b[39m)\u001b[39m.\u001b[39mto(smi\u001b[39m.\u001b[39mdevice)\n\u001b[1;32m    105\u001b[0m \u001b[39m# smi = self.pe(smi) # [batch, seqlen, hidden]\u001b[39;00m\n\u001b[0;32m--> 107\u001b[0m mask \u001b[39m=\u001b[39m set_up_causal_mask(x\u001b[39m.\u001b[39;49mshape[\u001b[39m1\u001b[39;49m])\u001b[39m.\u001b[39;49mto(smi\u001b[39m.\u001b[39;49mdevice)\n\u001b[1;32m    109\u001b[0m x \u001b[39m=\u001b[39m \u001b[39mself\u001b[39m\u001b[39m.\u001b[39mtrfmencoder(\n\u001b[1;32m    110\u001b[0m     src\u001b[39m=\u001b[39mx,\n\u001b[1;32m    111\u001b[0m     mask \u001b[39m=\u001b[39m mask\n\u001b[1;32m    112\u001b[0m )\n\u001b[1;32m    113\u001b[0m x \u001b[39m=\u001b[39m \u001b[39mself\u001b[39m\u001b[39m.\u001b[39mln_f(x)\n",
      "\u001b[0;31mKeyboardInterrupt\u001b[0m: "
     ]
    }
   ],
   "source": [
    "acc = calculate_decoder_accuracy(model, dataloaders, k=3, greedy_decode=False)\n"
   ]
  },
  {
   "cell_type": "code",
   "execution_count": 14,
   "metadata": {},
   "outputs": [
    {
     "name": "stderr",
     "output_type": "stream",
     "text": [
      "1it [01:21, 81.16s/it]"
     ]
    },
    {
     "name": "stdout",
     "output_type": "stream",
     "text": [
      "No of Hits :  0.6275\n"
     ]
    },
    {
     "name": "stderr",
     "output_type": "stream",
     "text": [
      "2it [02:42, 81.16s/it]"
     ]
    },
    {
     "name": "stdout",
     "output_type": "stream",
     "text": [
      "No of Hits :  0.63375\n"
     ]
    },
    {
     "name": "stderr",
     "output_type": "stream",
     "text": [
      "3it [04:03, 81.23s/it]"
     ]
    },
    {
     "name": "stdout",
     "output_type": "stream",
     "text": [
      "No of Hits :  0.63\n"
     ]
    },
    {
     "name": "stderr",
     "output_type": "stream",
     "text": [
      "4it [05:26, 81.91s/it]"
     ]
    },
    {
     "name": "stdout",
     "output_type": "stream",
     "text": [
      "No of Hits :  0.63\n"
     ]
    },
    {
     "name": "stderr",
     "output_type": "stream",
     "text": [
      "4it [05:44, 86.04s/it]\n"
     ]
    },
    {
     "ename": "KeyboardInterrupt",
     "evalue": "",
     "output_type": "error",
     "traceback": [
      "\u001b[0;31m---------------------------------------------------------------------------\u001b[0m",
      "\u001b[0;31mKeyboardInterrupt\u001b[0m                         Traceback (most recent call last)",
      "Cell \u001b[0;32mIn[14], line 1\u001b[0m\n\u001b[0;32m----> 1\u001b[0m acc \u001b[39m=\u001b[39m calculate_decoder_accuracy(model, dataloaders, k\u001b[39m=\u001b[39;49m\u001b[39m5\u001b[39;49m, greedy_decode\u001b[39m=\u001b[39;49m\u001b[39mFalse\u001b[39;49;00m)\n",
      "Cell \u001b[0;32mIn[12], line 11\u001b[0m, in \u001b[0;36mcalculate_decoder_accuracy\u001b[0;34m(model, dataloaders, k, greedy_decode)\u001b[0m\n\u001b[1;32m      9\u001b[0m spec_latents \u001b[39m=\u001b[39m model\u001b[39m.\u001b[39mmodule\u001b[39m.\u001b[39mforward_spec(data)\n\u001b[1;32m     10\u001b[0m \u001b[39mfor\u001b[39;00m spec, og \u001b[39min\u001b[39;00m \u001b[39mzip\u001b[39m(spec_latents, data[\u001b[39m'\u001b[39m\u001b[39msmiles\u001b[39m\u001b[39m'\u001b[39m] ):\n\u001b[0;32m---> 11\u001b[0m     ls \u001b[39m=\u001b[39m sampler\u001b[39m.\u001b[39;49msample_multi(k,spec,greedy_decode\u001b[39m=\u001b[39;49mgreedy_decode)\n\u001b[1;32m     12\u001b[0m     generated_smiles \u001b[39m=\u001b[39m []\n\u001b[1;32m     13\u001b[0m     \u001b[39mfor\u001b[39;00m smi \u001b[39min\u001b[39;00m ls:\n",
      "File \u001b[0;32m~/CLIP_PART_1/train_utils.py:419\u001b[0m, in \u001b[0;36mSampler.sample_multi\u001b[0;34m(self, n, embed, greedy_decode)\u001b[0m\n\u001b[1;32m    417\u001b[0m smiles_list \u001b[39m=\u001b[39m []\n\u001b[1;32m    418\u001b[0m \u001b[39mfor\u001b[39;00m i \u001b[39min\u001b[39;00m \u001b[39mrange\u001b[39m(n):\n\u001b[0;32m--> 419\u001b[0m     smiles_list\u001b[39m.\u001b[39mappend(\u001b[39mself\u001b[39;49m\u001b[39m.\u001b[39;49msample(embed, greedy_decode))\n\u001b[1;32m    420\u001b[0m \u001b[39mreturn\u001b[39;00m smiles_list\n",
      "File \u001b[0;32m~/CLIP_PART_1/train_utils.py:399\u001b[0m, in \u001b[0;36mSampler.sample\u001b[0;34m(self, embed, greedy_decode)\u001b[0m\n\u001b[1;32m    397\u001b[0m \u001b[39mfor\u001b[39;00m i \u001b[39min\u001b[39;00m \u001b[39mrange\u001b[39m(\u001b[39m0\u001b[39m,\u001b[39mself\u001b[39m\u001b[39m.\u001b[39mmax_len\u001b[39m-\u001b[39m\u001b[39m1\u001b[39m):\n\u001b[1;32m    398\u001b[0m     tensor \u001b[39m=\u001b[39m sample_tensor[:,:i\u001b[39m+\u001b[39m\u001b[39m1\u001b[39m]\n\u001b[0;32m--> 399\u001b[0m     logits \u001b[39m=\u001b[39m \u001b[39mself\u001b[39;49m\u001b[39m.\u001b[39;49mmodel\u001b[39m.\u001b[39;49mforward(embed, tensor)[:,\u001b[39m-\u001b[39m\u001b[39m1\u001b[39m,:]\n\u001b[1;32m    400\u001b[0m     probabilities \u001b[39m=\u001b[39m F\u001b[39m.\u001b[39msoftmax(logits, dim\u001b[39m=\u001b[39m\u001b[39m1\u001b[39m)\n\u001b[1;32m    401\u001b[0m     sampled_char \u001b[39m=\u001b[39m torch\u001b[39m.\u001b[39mmultinomial(probabilities,\u001b[39m1\u001b[39m)\u001b[39m.\u001b[39mitem()\n",
      "File \u001b[0;32m~/CLIP_PART_1/models/decoder.py:109\u001b[0m, in \u001b[0;36mLatentToMol.forward\u001b[0;34m(self, spec, smi, tgt_mask, tgt_padding_mask)\u001b[0m\n\u001b[1;32m    105\u001b[0m \u001b[39m# smi = self.pe(smi) # [batch, seqlen, hidden]\u001b[39;00m\n\u001b[1;32m    107\u001b[0m mask \u001b[39m=\u001b[39m set_up_causal_mask(x\u001b[39m.\u001b[39mshape[\u001b[39m1\u001b[39m])\u001b[39m.\u001b[39mto(smi\u001b[39m.\u001b[39mdevice)\n\u001b[0;32m--> 109\u001b[0m x \u001b[39m=\u001b[39m \u001b[39mself\u001b[39;49m\u001b[39m.\u001b[39;49mtrfmencoder(\n\u001b[1;32m    110\u001b[0m     src\u001b[39m=\u001b[39;49mx,\n\u001b[1;32m    111\u001b[0m     mask \u001b[39m=\u001b[39;49m mask\n\u001b[1;32m    112\u001b[0m )\n\u001b[1;32m    113\u001b[0m x \u001b[39m=\u001b[39m \u001b[39mself\u001b[39m\u001b[39m.\u001b[39mln_f(x)\n\u001b[1;32m    114\u001b[0m out \u001b[39m=\u001b[39m \u001b[39mself\u001b[39m\u001b[39m.\u001b[39mclassifier(x)\n",
      "File \u001b[0;32m~/miniconda3/envs/sbdd-env/lib/python3.10/site-packages/torch/nn/modules/module.py:1194\u001b[0m, in \u001b[0;36mModule._call_impl\u001b[0;34m(self, *input, **kwargs)\u001b[0m\n\u001b[1;32m   1190\u001b[0m \u001b[39m# If we don't have any hooks, we want to skip the rest of the logic in\u001b[39;00m\n\u001b[1;32m   1191\u001b[0m \u001b[39m# this function, and just call forward.\u001b[39;00m\n\u001b[1;32m   1192\u001b[0m \u001b[39mif\u001b[39;00m \u001b[39mnot\u001b[39;00m (\u001b[39mself\u001b[39m\u001b[39m.\u001b[39m_backward_hooks \u001b[39mor\u001b[39;00m \u001b[39mself\u001b[39m\u001b[39m.\u001b[39m_forward_hooks \u001b[39mor\u001b[39;00m \u001b[39mself\u001b[39m\u001b[39m.\u001b[39m_forward_pre_hooks \u001b[39mor\u001b[39;00m _global_backward_hooks\n\u001b[1;32m   1193\u001b[0m         \u001b[39mor\u001b[39;00m _global_forward_hooks \u001b[39mor\u001b[39;00m _global_forward_pre_hooks):\n\u001b[0;32m-> 1194\u001b[0m     \u001b[39mreturn\u001b[39;00m forward_call(\u001b[39m*\u001b[39;49m\u001b[39minput\u001b[39;49m, \u001b[39m*\u001b[39;49m\u001b[39m*\u001b[39;49mkwargs)\n\u001b[1;32m   1195\u001b[0m \u001b[39m# Do not call functions when jit is used\u001b[39;00m\n\u001b[1;32m   1196\u001b[0m full_backward_hooks, non_full_backward_hooks \u001b[39m=\u001b[39m [], []\n",
      "File \u001b[0;32m~/miniconda3/envs/sbdd-env/lib/python3.10/site-packages/torch/nn/modules/transformer.py:280\u001b[0m, in \u001b[0;36mTransformerEncoder.forward\u001b[0;34m(self, src, mask, src_key_padding_mask)\u001b[0m\n\u001b[1;32m    277\u001b[0m         src_key_padding_mask_for_layers \u001b[39m=\u001b[39m \u001b[39mNone\u001b[39;00m\n\u001b[1;32m    279\u001b[0m \u001b[39mfor\u001b[39;00m mod \u001b[39min\u001b[39;00m \u001b[39mself\u001b[39m\u001b[39m.\u001b[39mlayers:\n\u001b[0;32m--> 280\u001b[0m     output \u001b[39m=\u001b[39m mod(output, src_mask\u001b[39m=\u001b[39;49mmask, src_key_padding_mask\u001b[39m=\u001b[39;49msrc_key_padding_mask_for_layers)\n\u001b[1;32m    282\u001b[0m \u001b[39mif\u001b[39;00m convert_to_nested:\n\u001b[1;32m    283\u001b[0m     output \u001b[39m=\u001b[39m output\u001b[39m.\u001b[39mto_padded_tensor(\u001b[39m0.\u001b[39m)\n",
      "File \u001b[0;32m~/miniconda3/envs/sbdd-env/lib/python3.10/site-packages/torch/nn/modules/module.py:1194\u001b[0m, in \u001b[0;36mModule._call_impl\u001b[0;34m(self, *input, **kwargs)\u001b[0m\n\u001b[1;32m   1190\u001b[0m \u001b[39m# If we don't have any hooks, we want to skip the rest of the logic in\u001b[39;00m\n\u001b[1;32m   1191\u001b[0m \u001b[39m# this function, and just call forward.\u001b[39;00m\n\u001b[1;32m   1192\u001b[0m \u001b[39mif\u001b[39;00m \u001b[39mnot\u001b[39;00m (\u001b[39mself\u001b[39m\u001b[39m.\u001b[39m_backward_hooks \u001b[39mor\u001b[39;00m \u001b[39mself\u001b[39m\u001b[39m.\u001b[39m_forward_hooks \u001b[39mor\u001b[39;00m \u001b[39mself\u001b[39m\u001b[39m.\u001b[39m_forward_pre_hooks \u001b[39mor\u001b[39;00m _global_backward_hooks\n\u001b[1;32m   1193\u001b[0m         \u001b[39mor\u001b[39;00m _global_forward_hooks \u001b[39mor\u001b[39;00m _global_forward_pre_hooks):\n\u001b[0;32m-> 1194\u001b[0m     \u001b[39mreturn\u001b[39;00m forward_call(\u001b[39m*\u001b[39;49m\u001b[39minput\u001b[39;49m, \u001b[39m*\u001b[39;49m\u001b[39m*\u001b[39;49mkwargs)\n\u001b[1;32m   1195\u001b[0m \u001b[39m# Do not call functions when jit is used\u001b[39;00m\n\u001b[1;32m   1196\u001b[0m full_backward_hooks, non_full_backward_hooks \u001b[39m=\u001b[39m [], []\n",
      "File \u001b[0;32m~/miniconda3/envs/sbdd-env/lib/python3.10/site-packages/torch/nn/modules/transformer.py:535\u001b[0m, in \u001b[0;36mTransformerEncoderLayer.forward\u001b[0;34m(self, src, src_mask, src_key_padding_mask)\u001b[0m\n\u001b[1;32m    533\u001b[0m x \u001b[39m=\u001b[39m src\n\u001b[1;32m    534\u001b[0m \u001b[39mif\u001b[39;00m \u001b[39mself\u001b[39m\u001b[39m.\u001b[39mnorm_first:\n\u001b[0;32m--> 535\u001b[0m     x \u001b[39m=\u001b[39m x \u001b[39m+\u001b[39m \u001b[39mself\u001b[39;49m\u001b[39m.\u001b[39;49m_sa_block(\u001b[39mself\u001b[39;49m\u001b[39m.\u001b[39;49mnorm1(x), src_mask, src_key_padding_mask)\n\u001b[1;32m    536\u001b[0m     x \u001b[39m=\u001b[39m x \u001b[39m+\u001b[39m \u001b[39mself\u001b[39m\u001b[39m.\u001b[39m_ff_block(\u001b[39mself\u001b[39m\u001b[39m.\u001b[39mnorm2(x))\n\u001b[1;32m    537\u001b[0m \u001b[39melse\u001b[39;00m:\n",
      "File \u001b[0;32m~/miniconda3/envs/sbdd-env/lib/python3.10/site-packages/torch/nn/modules/transformer.py:546\u001b[0m, in \u001b[0;36mTransformerEncoderLayer._sa_block\u001b[0;34m(self, x, attn_mask, key_padding_mask)\u001b[0m\n\u001b[1;32m    544\u001b[0m \u001b[39mdef\u001b[39;00m \u001b[39m_sa_block\u001b[39m(\u001b[39mself\u001b[39m, x: Tensor,\n\u001b[1;32m    545\u001b[0m               attn_mask: Optional[Tensor], key_padding_mask: Optional[Tensor]) \u001b[39m-\u001b[39m\u001b[39m>\u001b[39m Tensor:\n\u001b[0;32m--> 546\u001b[0m     x \u001b[39m=\u001b[39m \u001b[39mself\u001b[39;49m\u001b[39m.\u001b[39;49mself_attn(x, x, x,\n\u001b[1;32m    547\u001b[0m                        attn_mask\u001b[39m=\u001b[39;49mattn_mask,\n\u001b[1;32m    548\u001b[0m                        key_padding_mask\u001b[39m=\u001b[39;49mkey_padding_mask,\n\u001b[1;32m    549\u001b[0m                        need_weights\u001b[39m=\u001b[39;49m\u001b[39mFalse\u001b[39;49;00m)[\u001b[39m0\u001b[39m]\n\u001b[1;32m    550\u001b[0m     \u001b[39mreturn\u001b[39;00m \u001b[39mself\u001b[39m\u001b[39m.\u001b[39mdropout1(x)\n",
      "File \u001b[0;32m~/miniconda3/envs/sbdd-env/lib/python3.10/site-packages/torch/nn/modules/module.py:1194\u001b[0m, in \u001b[0;36mModule._call_impl\u001b[0;34m(self, *input, **kwargs)\u001b[0m\n\u001b[1;32m   1190\u001b[0m \u001b[39m# If we don't have any hooks, we want to skip the rest of the logic in\u001b[39;00m\n\u001b[1;32m   1191\u001b[0m \u001b[39m# this function, and just call forward.\u001b[39;00m\n\u001b[1;32m   1192\u001b[0m \u001b[39mif\u001b[39;00m \u001b[39mnot\u001b[39;00m (\u001b[39mself\u001b[39m\u001b[39m.\u001b[39m_backward_hooks \u001b[39mor\u001b[39;00m \u001b[39mself\u001b[39m\u001b[39m.\u001b[39m_forward_hooks \u001b[39mor\u001b[39;00m \u001b[39mself\u001b[39m\u001b[39m.\u001b[39m_forward_pre_hooks \u001b[39mor\u001b[39;00m _global_backward_hooks\n\u001b[1;32m   1193\u001b[0m         \u001b[39mor\u001b[39;00m _global_forward_hooks \u001b[39mor\u001b[39;00m _global_forward_pre_hooks):\n\u001b[0;32m-> 1194\u001b[0m     \u001b[39mreturn\u001b[39;00m forward_call(\u001b[39m*\u001b[39;49m\u001b[39minput\u001b[39;49m, \u001b[39m*\u001b[39;49m\u001b[39m*\u001b[39;49mkwargs)\n\u001b[1;32m   1195\u001b[0m \u001b[39m# Do not call functions when jit is used\u001b[39;00m\n\u001b[1;32m   1196\u001b[0m full_backward_hooks, non_full_backward_hooks \u001b[39m=\u001b[39m [], []\n",
      "File \u001b[0;32m~/miniconda3/envs/sbdd-env/lib/python3.10/site-packages/torch/nn/modules/activation.py:1167\u001b[0m, in \u001b[0;36mMultiheadAttention.forward\u001b[0;34m(self, query, key, value, key_padding_mask, need_weights, attn_mask, average_attn_weights)\u001b[0m\n\u001b[1;32m   1156\u001b[0m     attn_output, attn_output_weights \u001b[39m=\u001b[39m F\u001b[39m.\u001b[39mmulti_head_attention_forward(\n\u001b[1;32m   1157\u001b[0m         query, key, value, \u001b[39mself\u001b[39m\u001b[39m.\u001b[39membed_dim, \u001b[39mself\u001b[39m\u001b[39m.\u001b[39mnum_heads,\n\u001b[1;32m   1158\u001b[0m         \u001b[39mself\u001b[39m\u001b[39m.\u001b[39min_proj_weight, \u001b[39mself\u001b[39m\u001b[39m.\u001b[39min_proj_bias,\n\u001b[0;32m   (...)\u001b[0m\n\u001b[1;32m   1164\u001b[0m         q_proj_weight\u001b[39m=\u001b[39m\u001b[39mself\u001b[39m\u001b[39m.\u001b[39mq_proj_weight, k_proj_weight\u001b[39m=\u001b[39m\u001b[39mself\u001b[39m\u001b[39m.\u001b[39mk_proj_weight,\n\u001b[1;32m   1165\u001b[0m         v_proj_weight\u001b[39m=\u001b[39m\u001b[39mself\u001b[39m\u001b[39m.\u001b[39mv_proj_weight, average_attn_weights\u001b[39m=\u001b[39maverage_attn_weights)\n\u001b[1;32m   1166\u001b[0m \u001b[39melse\u001b[39;00m:\n\u001b[0;32m-> 1167\u001b[0m     attn_output, attn_output_weights \u001b[39m=\u001b[39m F\u001b[39m.\u001b[39;49mmulti_head_attention_forward(\n\u001b[1;32m   1168\u001b[0m         query, key, value, \u001b[39mself\u001b[39;49m\u001b[39m.\u001b[39;49membed_dim, \u001b[39mself\u001b[39;49m\u001b[39m.\u001b[39;49mnum_heads,\n\u001b[1;32m   1169\u001b[0m         \u001b[39mself\u001b[39;49m\u001b[39m.\u001b[39;49min_proj_weight, \u001b[39mself\u001b[39;49m\u001b[39m.\u001b[39;49min_proj_bias,\n\u001b[1;32m   1170\u001b[0m         \u001b[39mself\u001b[39;49m\u001b[39m.\u001b[39;49mbias_k, \u001b[39mself\u001b[39;49m\u001b[39m.\u001b[39;49mbias_v, \u001b[39mself\u001b[39;49m\u001b[39m.\u001b[39;49madd_zero_attn,\n\u001b[1;32m   1171\u001b[0m         \u001b[39mself\u001b[39;49m\u001b[39m.\u001b[39;49mdropout, \u001b[39mself\u001b[39;49m\u001b[39m.\u001b[39;49mout_proj\u001b[39m.\u001b[39;49mweight, \u001b[39mself\u001b[39;49m\u001b[39m.\u001b[39;49mout_proj\u001b[39m.\u001b[39;49mbias,\n\u001b[1;32m   1172\u001b[0m         training\u001b[39m=\u001b[39;49m\u001b[39mself\u001b[39;49m\u001b[39m.\u001b[39;49mtraining,\n\u001b[1;32m   1173\u001b[0m         key_padding_mask\u001b[39m=\u001b[39;49mkey_padding_mask, need_weights\u001b[39m=\u001b[39;49mneed_weights,\n\u001b[1;32m   1174\u001b[0m         attn_mask\u001b[39m=\u001b[39;49mattn_mask, average_attn_weights\u001b[39m=\u001b[39;49maverage_attn_weights)\n\u001b[1;32m   1175\u001b[0m \u001b[39mif\u001b[39;00m \u001b[39mself\u001b[39m\u001b[39m.\u001b[39mbatch_first \u001b[39mand\u001b[39;00m is_batched:\n\u001b[1;32m   1176\u001b[0m     \u001b[39mreturn\u001b[39;00m attn_output\u001b[39m.\u001b[39mtranspose(\u001b[39m1\u001b[39m, \u001b[39m0\u001b[39m), attn_output_weights\n",
      "File \u001b[0;32m~/miniconda3/envs/sbdd-env/lib/python3.10/site-packages/torch/nn/functional.py:5169\u001b[0m, in \u001b[0;36mmulti_head_attention_forward\u001b[0;34m(query, key, value, embed_dim_to_check, num_heads, in_proj_weight, in_proj_bias, bias_k, bias_v, add_zero_attn, dropout_p, out_proj_weight, out_proj_bias, training, key_padding_mask, need_weights, attn_mask, use_separate_proj_weight, q_proj_weight, k_proj_weight, v_proj_weight, static_k, static_v, average_attn_weights)\u001b[0m\n\u001b[1;32m   5167\u001b[0m attn_output \u001b[39m=\u001b[39m attn_output\u001b[39m.\u001b[39mtranspose(\u001b[39m0\u001b[39m, \u001b[39m1\u001b[39m)\u001b[39m.\u001b[39mcontiguous()\u001b[39m.\u001b[39mview(tgt_len \u001b[39m*\u001b[39m bsz, embed_dim)\n\u001b[1;32m   5168\u001b[0m attn_output \u001b[39m=\u001b[39m linear(attn_output, out_proj_weight, out_proj_bias)\n\u001b[0;32m-> 5169\u001b[0m attn_output \u001b[39m=\u001b[39m attn_output\u001b[39m.\u001b[39;49mview(tgt_len, bsz, attn_output\u001b[39m.\u001b[39;49msize(\u001b[39m1\u001b[39;49m))\n\u001b[1;32m   5171\u001b[0m \u001b[39mif\u001b[39;00m need_weights:\n\u001b[1;32m   5172\u001b[0m     \u001b[39m# optionally average attention weights over heads\u001b[39;00m\n\u001b[1;32m   5173\u001b[0m     attn_output_weights \u001b[39m=\u001b[39m attn_output_weights\u001b[39m.\u001b[39mview(bsz, num_heads, tgt_len, src_len)\n",
      "\u001b[0;31mKeyboardInterrupt\u001b[0m: "
     ]
    }
   ],
   "source": [
    "acc = calculate_decoder_accuracy(model, dataloaders, k=5, greedy_decode=False)"
   ]
  },
  {
   "cell_type": "code",
   "execution_count": null,
   "metadata": {},
   "outputs": [],
   "source": [
    "acc = calculate_decoder_accuracy(model, dataloaders, k=10, greedy_decode=False)"
   ]
  },
  {
   "cell_type": "code",
   "execution_count": null,
   "metadata": {},
   "outputs": [],
   "source": [
    "acc = calculate_decoder_accuracy(model, dataloaders, k=1, greedy_decode=True)"
   ]
  },
  {
   "cell_type": "code",
   "execution_count": 17,
   "metadata": {},
   "outputs": [
    {
     "name": "stderr",
     "output_type": "stream",
     "text": [
      "1it [00:18, 18.00s/it]"
     ]
    },
    {
     "name": "stdout",
     "output_type": "stream",
     "text": [
      "No of Hits :  0.465\n"
     ]
    },
    {
     "name": "stderr",
     "output_type": "stream",
     "text": [
      "2it [00:35, 17.44s/it]"
     ]
    },
    {
     "name": "stdout",
     "output_type": "stream",
     "text": [
      "No of Hits :  0.46625\n"
     ]
    },
    {
     "name": "stderr",
     "output_type": "stream",
     "text": [
      "3it [00:52, 17.45s/it]"
     ]
    },
    {
     "name": "stdout",
     "output_type": "stream",
     "text": [
      "No of Hits :  0.4716666666666667\n"
     ]
    },
    {
     "name": "stderr",
     "output_type": "stream",
     "text": [
      "4it [01:09, 17.37s/it]"
     ]
    },
    {
     "name": "stdout",
     "output_type": "stream",
     "text": [
      "No of Hits :  0.47375\n"
     ]
    },
    {
     "name": "stderr",
     "output_type": "stream",
     "text": [
      "5it [01:27, 17.41s/it]"
     ]
    },
    {
     "name": "stdout",
     "output_type": "stream",
     "text": [
      "No of Hits :  0.471\n"
     ]
    },
    {
     "name": "stderr",
     "output_type": "stream",
     "text": [
      "6it [01:44, 17.41s/it]"
     ]
    },
    {
     "name": "stdout",
     "output_type": "stream",
     "text": [
      "No of Hits :  0.46708333333333335\n"
     ]
    },
    {
     "name": "stderr",
     "output_type": "stream",
     "text": [
      "7it [02:02, 17.42s/it]"
     ]
    },
    {
     "name": "stdout",
     "output_type": "stream",
     "text": [
      "No of Hits :  0.46535714285714286\n"
     ]
    },
    {
     "name": "stderr",
     "output_type": "stream",
     "text": [
      "8it [02:19, 17.37s/it]"
     ]
    },
    {
     "name": "stdout",
     "output_type": "stream",
     "text": [
      "No of Hits :  0.475\n"
     ]
    },
    {
     "name": "stderr",
     "output_type": "stream",
     "text": [
      "9it [02:40, 18.58s/it]"
     ]
    },
    {
     "name": "stdout",
     "output_type": "stream",
     "text": [
      "No of Hits :  0.47194444444444444\n"
     ]
    },
    {
     "name": "stderr",
     "output_type": "stream",
     "text": [
      "10it [02:58, 18.29s/it]"
     ]
    },
    {
     "name": "stdout",
     "output_type": "stream",
     "text": [
      "No of Hits :  0.4715\n"
     ]
    },
    {
     "name": "stderr",
     "output_type": "stream",
     "text": [
      "11it [03:15, 18.05s/it]"
     ]
    },
    {
     "name": "stdout",
     "output_type": "stream",
     "text": [
      "No of Hits :  0.46886363636363637\n"
     ]
    },
    {
     "name": "stderr",
     "output_type": "stream",
     "text": [
      "12it [03:33, 17.87s/it]"
     ]
    },
    {
     "name": "stdout",
     "output_type": "stream",
     "text": [
      "No of Hits :  0.46791666666666665\n"
     ]
    },
    {
     "name": "stderr",
     "output_type": "stream",
     "text": [
      "13it [03:50, 17.66s/it]"
     ]
    },
    {
     "name": "stdout",
     "output_type": "stream",
     "text": [
      "No of Hits :  0.46826923076923077\n"
     ]
    },
    {
     "name": "stderr",
     "output_type": "stream",
     "text": [
      "14it [04:07, 17.57s/it]"
     ]
    },
    {
     "name": "stdout",
     "output_type": "stream",
     "text": [
      "No of Hits :  0.46767857142857144\n"
     ]
    },
    {
     "name": "stderr",
     "output_type": "stream",
     "text": [
      "15it [04:24, 17.45s/it]"
     ]
    },
    {
     "name": "stdout",
     "output_type": "stream",
     "text": [
      "No of Hits :  0.4683333333333333\n"
     ]
    },
    {
     "name": "stderr",
     "output_type": "stream",
     "text": [
      "16it [04:42, 17.58s/it]"
     ]
    },
    {
     "name": "stdout",
     "output_type": "stream",
     "text": [
      "No of Hits :  0.46828125\n"
     ]
    },
    {
     "name": "stderr",
     "output_type": "stream",
     "text": [
      "17it [04:59, 17.42s/it]"
     ]
    },
    {
     "name": "stdout",
     "output_type": "stream",
     "text": [
      "No of Hits :  0.4673529411764706\n"
     ]
    },
    {
     "name": "stderr",
     "output_type": "stream",
     "text": [
      "18it [05:16, 17.30s/it]"
     ]
    },
    {
     "name": "stdout",
     "output_type": "stream",
     "text": [
      "No of Hits :  0.46694444444444444\n"
     ]
    },
    {
     "name": "stderr",
     "output_type": "stream",
     "text": [
      "19it [05:34, 17.27s/it]"
     ]
    },
    {
     "name": "stdout",
     "output_type": "stream",
     "text": [
      "No of Hits :  0.4673684210526316\n"
     ]
    },
    {
     "name": "stderr",
     "output_type": "stream",
     "text": [
      "20it [05:51, 17.29s/it]"
     ]
    },
    {
     "name": "stdout",
     "output_type": "stream",
     "text": [
      "No of Hits :  0.468625\n"
     ]
    },
    {
     "name": "stderr",
     "output_type": "stream",
     "text": [
      "21it [06:08, 17.27s/it]"
     ]
    },
    {
     "name": "stdout",
     "output_type": "stream",
     "text": [
      "No of Hits :  0.4682142857142857\n"
     ]
    },
    {
     "name": "stderr",
     "output_type": "stream",
     "text": [
      "22it [06:25, 17.27s/it]"
     ]
    },
    {
     "name": "stdout",
     "output_type": "stream",
     "text": [
      "No of Hits :  0.4672727272727273\n"
     ]
    },
    {
     "name": "stderr",
     "output_type": "stream",
     "text": [
      "23it [06:42, 17.20s/it]"
     ]
    },
    {
     "name": "stdout",
     "output_type": "stream",
     "text": [
      "No of Hits :  0.4673913043478261\n"
     ]
    },
    {
     "name": "stderr",
     "output_type": "stream",
     "text": [
      "24it [06:59, 17.14s/it]"
     ]
    },
    {
     "name": "stdout",
     "output_type": "stream",
     "text": [
      "No of Hits :  0.46927083333333336\n"
     ]
    },
    {
     "name": "stderr",
     "output_type": "stream",
     "text": [
      "25it [07:16, 17.06s/it]"
     ]
    },
    {
     "name": "stdout",
     "output_type": "stream",
     "text": [
      "No of Hits :  0.4703\n"
     ]
    },
    {
     "name": "stderr",
     "output_type": "stream",
     "text": [
      "26it [07:33, 17.04s/it]"
     ]
    },
    {
     "name": "stdout",
     "output_type": "stream",
     "text": [
      "No of Hits :  0.4714423076923077\n"
     ]
    },
    {
     "name": "stderr",
     "output_type": "stream",
     "text": [
      "27it [07:50, 17.05s/it]"
     ]
    },
    {
     "name": "stdout",
     "output_type": "stream",
     "text": [
      "No of Hits :  0.47129629629629627\n"
     ]
    },
    {
     "name": "stderr",
     "output_type": "stream",
     "text": [
      "28it [08:08, 17.13s/it]"
     ]
    },
    {
     "name": "stdout",
     "output_type": "stream",
     "text": [
      "No of Hits :  0.4699107142857143\n"
     ]
    },
    {
     "name": "stderr",
     "output_type": "stream",
     "text": [
      "29it [08:25, 17.11s/it]"
     ]
    },
    {
     "name": "stdout",
     "output_type": "stream",
     "text": [
      "No of Hits :  0.4686206896551724\n"
     ]
    },
    {
     "name": "stderr",
     "output_type": "stream",
     "text": [
      "30it [08:42, 17.15s/it]"
     ]
    },
    {
     "name": "stdout",
     "output_type": "stream",
     "text": [
      "No of Hits :  0.47041666666666665\n"
     ]
    },
    {
     "name": "stderr",
     "output_type": "stream",
     "text": [
      "31it [08:59, 17.15s/it]"
     ]
    },
    {
     "name": "stdout",
     "output_type": "stream",
     "text": [
      "No of Hits :  0.4693548387096774\n"
     ]
    },
    {
     "name": "stderr",
     "output_type": "stream",
     "text": [
      "32it [09:16, 17.20s/it]"
     ]
    },
    {
     "name": "stdout",
     "output_type": "stream",
     "text": [
      "No of Hits :  0.469921875\n"
     ]
    },
    {
     "name": "stderr",
     "output_type": "stream",
     "text": [
      "33it [09:34, 17.24s/it]"
     ]
    },
    {
     "name": "stdout",
     "output_type": "stream",
     "text": [
      "No of Hits :  0.4691666666666667\n"
     ]
    },
    {
     "name": "stderr",
     "output_type": "stream",
     "text": [
      "34it [09:51, 17.25s/it]"
     ]
    },
    {
     "name": "stdout",
     "output_type": "stream",
     "text": [
      "No of Hits :  0.4697058823529412\n"
     ]
    },
    {
     "name": "stderr",
     "output_type": "stream",
     "text": [
      "35it [10:08, 17.30s/it]"
     ]
    },
    {
     "name": "stdout",
     "output_type": "stream",
     "text": [
      "No of Hits :  0.4704285714285714\n"
     ]
    },
    {
     "name": "stderr",
     "output_type": "stream",
     "text": [
      "36it [10:26, 17.27s/it]"
     ]
    },
    {
     "name": "stdout",
     "output_type": "stream",
     "text": [
      "No of Hits :  0.4701388888888889\n"
     ]
    },
    {
     "name": "stderr",
     "output_type": "stream",
     "text": [
      "37it [10:43, 17.16s/it]"
     ]
    },
    {
     "name": "stdout",
     "output_type": "stream",
     "text": [
      "No of Hits :  0.4702027027027027\n"
     ]
    },
    {
     "name": "stderr",
     "output_type": "stream",
     "text": [
      "38it [11:00, 17.09s/it]"
     ]
    },
    {
     "name": "stdout",
     "output_type": "stream",
     "text": [
      "No of Hits :  0.4717763157894737\n"
     ]
    },
    {
     "name": "stderr",
     "output_type": "stream",
     "text": [
      "39it [11:17, 17.12s/it]"
     ]
    },
    {
     "name": "stdout",
     "output_type": "stream",
     "text": [
      "No of Hits :  0.47205128205128205\n"
     ]
    },
    {
     "name": "stderr",
     "output_type": "stream",
     "text": [
      "40it [11:34, 17.16s/it]"
     ]
    },
    {
     "name": "stdout",
     "output_type": "stream",
     "text": [
      "No of Hits :  0.4740625\n"
     ]
    },
    {
     "name": "stderr",
     "output_type": "stream",
     "text": [
      "41it [11:55, 18.46s/it]"
     ]
    },
    {
     "name": "stdout",
     "output_type": "stream",
     "text": [
      "No of Hits :  0.47365853658536583\n"
     ]
    },
    {
     "name": "stderr",
     "output_type": "stream",
     "text": [
      "42it [12:13, 18.28s/it]"
     ]
    },
    {
     "name": "stdout",
     "output_type": "stream",
     "text": [
      "No of Hits :  0.47291666666666665\n"
     ]
    },
    {
     "name": "stderr",
     "output_type": "stream",
     "text": [
      "43it [12:30, 17.91s/it]"
     ]
    },
    {
     "name": "stdout",
     "output_type": "stream",
     "text": [
      "No of Hits :  0.4731395348837209\n"
     ]
    },
    {
     "name": "stderr",
     "output_type": "stream",
     "text": [
      "44it [12:48, 17.70s/it]"
     ]
    },
    {
     "name": "stdout",
     "output_type": "stream",
     "text": [
      "No of Hits :  0.4732954545454545\n"
     ]
    },
    {
     "name": "stderr",
     "output_type": "stream",
     "text": [
      "45it [13:05, 17.48s/it]"
     ]
    },
    {
     "name": "stdout",
     "output_type": "stream",
     "text": [
      "No of Hits :  0.47194444444444444\n"
     ]
    },
    {
     "name": "stderr",
     "output_type": "stream",
     "text": [
      "46it [13:22, 17.38s/it]"
     ]
    },
    {
     "name": "stdout",
     "output_type": "stream",
     "text": [
      "No of Hits :  0.4713586956521739\n"
     ]
    },
    {
     "name": "stderr",
     "output_type": "stream",
     "text": [
      "47it [13:39, 17.28s/it]"
     ]
    },
    {
     "name": "stdout",
     "output_type": "stream",
     "text": [
      "No of Hits :  0.47132978723404256\n"
     ]
    },
    {
     "name": "stderr",
     "output_type": "stream",
     "text": [
      "48it [13:56, 17.24s/it]"
     ]
    },
    {
     "name": "stdout",
     "output_type": "stream",
     "text": [
      "No of Hits :  0.4717708333333333\n"
     ]
    },
    {
     "name": "stderr",
     "output_type": "stream",
     "text": [
      "49it [14:13, 17.22s/it]"
     ]
    },
    {
     "name": "stdout",
     "output_type": "stream",
     "text": [
      "No of Hits :  0.47153061224489795\n"
     ]
    },
    {
     "name": "stderr",
     "output_type": "stream",
     "text": [
      "50it [14:30, 17.16s/it]"
     ]
    },
    {
     "name": "stdout",
     "output_type": "stream",
     "text": [
      "No of Hits :  0.47105\n"
     ]
    },
    {
     "name": "stderr",
     "output_type": "stream",
     "text": [
      "50it [14:30, 17.42s/it]\n"
     ]
    }
   ],
   "source": [
    "acc = calculate_decoder_accuracy(model, dataloaders, k=1, greedy_decode=False)"
   ]
  },
  {
   "cell_type": "code",
   "execution_count": 19,
   "metadata": {},
   "outputs": [
    {
     "name": "stderr",
     "output_type": "stream",
     "text": [
      "1it [00:33, 33.58s/it]"
     ]
    },
    {
     "name": "stdout",
     "output_type": "stream",
     "text": [
      "No of Hits :  0.5775\n"
     ]
    },
    {
     "name": "stderr",
     "output_type": "stream",
     "text": [
      "2it [01:06, 33.01s/it]"
     ]
    },
    {
     "name": "stdout",
     "output_type": "stream",
     "text": [
      "No of Hits :  0.54\n"
     ]
    },
    {
     "name": "stderr",
     "output_type": "stream",
     "text": [
      "3it [01:39, 33.05s/it]"
     ]
    },
    {
     "name": "stdout",
     "output_type": "stream",
     "text": [
      "No of Hits :  0.5333333333333333\n"
     ]
    },
    {
     "name": "stderr",
     "output_type": "stream",
     "text": [
      "4it [02:11, 32.86s/it]"
     ]
    },
    {
     "name": "stdout",
     "output_type": "stream",
     "text": [
      "No of Hits :  0.5375\n"
     ]
    },
    {
     "name": "stderr",
     "output_type": "stream",
     "text": [
      "5it [02:44, 32.70s/it]"
     ]
    },
    {
     "name": "stdout",
     "output_type": "stream",
     "text": [
      "No of Hits :  0.5445\n"
     ]
    },
    {
     "name": "stderr",
     "output_type": "stream",
     "text": [
      "6it [03:17, 32.81s/it]"
     ]
    },
    {
     "name": "stdout",
     "output_type": "stream",
     "text": [
      "No of Hits :  0.545\n"
     ]
    },
    {
     "name": "stderr",
     "output_type": "stream",
     "text": [
      "7it [03:49, 32.66s/it]"
     ]
    },
    {
     "name": "stdout",
     "output_type": "stream",
     "text": [
      "No of Hits :  0.5382142857142858\n"
     ]
    },
    {
     "name": "stderr",
     "output_type": "stream",
     "text": [
      "8it [04:22, 32.81s/it]"
     ]
    },
    {
     "name": "stdout",
     "output_type": "stream",
     "text": [
      "No of Hits :  0.5390625\n"
     ]
    },
    {
     "name": "stderr",
     "output_type": "stream",
     "text": [
      "9it [04:55, 32.85s/it]"
     ]
    },
    {
     "name": "stdout",
     "output_type": "stream",
     "text": [
      "No of Hits :  0.5402777777777777\n"
     ]
    },
    {
     "name": "stderr",
     "output_type": "stream",
     "text": [
      "9it [04:57, 33.09s/it]\n"
     ]
    },
    {
     "ename": "KeyboardInterrupt",
     "evalue": "",
     "output_type": "error",
     "traceback": [
      "\u001b[0;31m---------------------------------------------------------------------------\u001b[0m",
      "\u001b[0;31mKeyboardInterrupt\u001b[0m                         Traceback (most recent call last)",
      "Cell \u001b[0;32mIn[19], line 1\u001b[0m\n\u001b[0;32m----> 1\u001b[0m acc \u001b[39m=\u001b[39m calculate_decoder_accuracy(model, dataloaders, k\u001b[39m=\u001b[39;49m\u001b[39m2\u001b[39;49m, greedy_decode\u001b[39m=\u001b[39;49m\u001b[39mFalse\u001b[39;49;00m)\n",
      "Cell \u001b[0;32mIn[15], line 11\u001b[0m, in \u001b[0;36mcalculate_decoder_accuracy\u001b[0;34m(model, dataloaders, k, greedy_decode)\u001b[0m\n\u001b[1;32m      9\u001b[0m spec_latents \u001b[39m=\u001b[39m model\u001b[39m.\u001b[39mmodule\u001b[39m.\u001b[39mforward_spec(data)\n\u001b[1;32m     10\u001b[0m \u001b[39mfor\u001b[39;00m spec, og \u001b[39min\u001b[39;00m \u001b[39mzip\u001b[39m(spec_latents, data[\u001b[39m'\u001b[39m\u001b[39msmiles\u001b[39m\u001b[39m'\u001b[39m] ):\n\u001b[0;32m---> 11\u001b[0m     ls \u001b[39m=\u001b[39m sampler\u001b[39m.\u001b[39;49msample_multi(k,spec,greedy_decode\u001b[39m=\u001b[39;49mgreedy_decode)\n\u001b[1;32m     12\u001b[0m     generated_smiles \u001b[39m=\u001b[39m []\n\u001b[1;32m     13\u001b[0m     \u001b[39mfor\u001b[39;00m smi \u001b[39min\u001b[39;00m ls:\n",
      "File \u001b[0;32m~/CLIP_PART_1/train_utils.py:419\u001b[0m, in \u001b[0;36mSampler.sample_multi\u001b[0;34m(self, n, embed, greedy_decode)\u001b[0m\n\u001b[1;32m    417\u001b[0m smiles_list \u001b[39m=\u001b[39m []\n\u001b[1;32m    418\u001b[0m \u001b[39mfor\u001b[39;00m i \u001b[39min\u001b[39;00m \u001b[39mrange\u001b[39m(n):\n\u001b[0;32m--> 419\u001b[0m     smiles_list\u001b[39m.\u001b[39mappend(\u001b[39mself\u001b[39;49m\u001b[39m.\u001b[39;49msample(embed, greedy_decode))\n\u001b[1;32m    420\u001b[0m \u001b[39mreturn\u001b[39;00m smiles_list\n",
      "File \u001b[0;32m~/CLIP_PART_1/train_utils.py:399\u001b[0m, in \u001b[0;36mSampler.sample\u001b[0;34m(self, embed, greedy_decode)\u001b[0m\n\u001b[1;32m    397\u001b[0m \u001b[39mfor\u001b[39;00m i \u001b[39min\u001b[39;00m \u001b[39mrange\u001b[39m(\u001b[39m0\u001b[39m,\u001b[39mself\u001b[39m\u001b[39m.\u001b[39mmax_len\u001b[39m-\u001b[39m\u001b[39m1\u001b[39m):\n\u001b[1;32m    398\u001b[0m     tensor \u001b[39m=\u001b[39m sample_tensor[:,:i\u001b[39m+\u001b[39m\u001b[39m1\u001b[39m]\n\u001b[0;32m--> 399\u001b[0m     logits \u001b[39m=\u001b[39m \u001b[39mself\u001b[39;49m\u001b[39m.\u001b[39;49mmodel\u001b[39m.\u001b[39;49mforward(embed, tensor)[:,\u001b[39m-\u001b[39m\u001b[39m1\u001b[39m,:]\n\u001b[1;32m    400\u001b[0m     probabilities \u001b[39m=\u001b[39m F\u001b[39m.\u001b[39msoftmax(logits, dim\u001b[39m=\u001b[39m\u001b[39m1\u001b[39m)\n\u001b[1;32m    401\u001b[0m     sampled_char \u001b[39m=\u001b[39m torch\u001b[39m.\u001b[39mmultinomial(probabilities,\u001b[39m1\u001b[39m)\u001b[39m.\u001b[39mitem()\n",
      "File \u001b[0;32m~/CLIP_PART_1/models/decoder.py:109\u001b[0m, in \u001b[0;36mLatentToMol.forward\u001b[0;34m(self, spec, smi, tgt_mask, tgt_padding_mask)\u001b[0m\n\u001b[1;32m    105\u001b[0m \u001b[39m# smi = self.pe(smi) # [batch, seqlen, hidden]\u001b[39;00m\n\u001b[1;32m    107\u001b[0m mask \u001b[39m=\u001b[39m set_up_causal_mask(x\u001b[39m.\u001b[39mshape[\u001b[39m1\u001b[39m])\u001b[39m.\u001b[39mto(smi\u001b[39m.\u001b[39mdevice)\n\u001b[0;32m--> 109\u001b[0m x \u001b[39m=\u001b[39m \u001b[39mself\u001b[39;49m\u001b[39m.\u001b[39;49mtrfmencoder(\n\u001b[1;32m    110\u001b[0m     src\u001b[39m=\u001b[39;49mx,\n\u001b[1;32m    111\u001b[0m     mask \u001b[39m=\u001b[39;49m mask\n\u001b[1;32m    112\u001b[0m )\n\u001b[1;32m    113\u001b[0m x \u001b[39m=\u001b[39m \u001b[39mself\u001b[39m\u001b[39m.\u001b[39mln_f(x)\n\u001b[1;32m    114\u001b[0m out \u001b[39m=\u001b[39m \u001b[39mself\u001b[39m\u001b[39m.\u001b[39mclassifier(x)\n",
      "File \u001b[0;32m~/miniconda3/envs/sbdd-env/lib/python3.10/site-packages/torch/nn/modules/module.py:1194\u001b[0m, in \u001b[0;36mModule._call_impl\u001b[0;34m(self, *input, **kwargs)\u001b[0m\n\u001b[1;32m   1190\u001b[0m \u001b[39m# If we don't have any hooks, we want to skip the rest of the logic in\u001b[39;00m\n\u001b[1;32m   1191\u001b[0m \u001b[39m# this function, and just call forward.\u001b[39;00m\n\u001b[1;32m   1192\u001b[0m \u001b[39mif\u001b[39;00m \u001b[39mnot\u001b[39;00m (\u001b[39mself\u001b[39m\u001b[39m.\u001b[39m_backward_hooks \u001b[39mor\u001b[39;00m \u001b[39mself\u001b[39m\u001b[39m.\u001b[39m_forward_hooks \u001b[39mor\u001b[39;00m \u001b[39mself\u001b[39m\u001b[39m.\u001b[39m_forward_pre_hooks \u001b[39mor\u001b[39;00m _global_backward_hooks\n\u001b[1;32m   1193\u001b[0m         \u001b[39mor\u001b[39;00m _global_forward_hooks \u001b[39mor\u001b[39;00m _global_forward_pre_hooks):\n\u001b[0;32m-> 1194\u001b[0m     \u001b[39mreturn\u001b[39;00m forward_call(\u001b[39m*\u001b[39;49m\u001b[39minput\u001b[39;49m, \u001b[39m*\u001b[39;49m\u001b[39m*\u001b[39;49mkwargs)\n\u001b[1;32m   1195\u001b[0m \u001b[39m# Do not call functions when jit is used\u001b[39;00m\n\u001b[1;32m   1196\u001b[0m full_backward_hooks, non_full_backward_hooks \u001b[39m=\u001b[39m [], []\n",
      "File \u001b[0;32m~/miniconda3/envs/sbdd-env/lib/python3.10/site-packages/torch/nn/modules/transformer.py:280\u001b[0m, in \u001b[0;36mTransformerEncoder.forward\u001b[0;34m(self, src, mask, src_key_padding_mask)\u001b[0m\n\u001b[1;32m    277\u001b[0m         src_key_padding_mask_for_layers \u001b[39m=\u001b[39m \u001b[39mNone\u001b[39;00m\n\u001b[1;32m    279\u001b[0m \u001b[39mfor\u001b[39;00m mod \u001b[39min\u001b[39;00m \u001b[39mself\u001b[39m\u001b[39m.\u001b[39mlayers:\n\u001b[0;32m--> 280\u001b[0m     output \u001b[39m=\u001b[39m mod(output, src_mask\u001b[39m=\u001b[39;49mmask, src_key_padding_mask\u001b[39m=\u001b[39;49msrc_key_padding_mask_for_layers)\n\u001b[1;32m    282\u001b[0m \u001b[39mif\u001b[39;00m convert_to_nested:\n\u001b[1;32m    283\u001b[0m     output \u001b[39m=\u001b[39m output\u001b[39m.\u001b[39mto_padded_tensor(\u001b[39m0.\u001b[39m)\n",
      "File \u001b[0;32m~/miniconda3/envs/sbdd-env/lib/python3.10/site-packages/torch/nn/modules/module.py:1194\u001b[0m, in \u001b[0;36mModule._call_impl\u001b[0;34m(self, *input, **kwargs)\u001b[0m\n\u001b[1;32m   1190\u001b[0m \u001b[39m# If we don't have any hooks, we want to skip the rest of the logic in\u001b[39;00m\n\u001b[1;32m   1191\u001b[0m \u001b[39m# this function, and just call forward.\u001b[39;00m\n\u001b[1;32m   1192\u001b[0m \u001b[39mif\u001b[39;00m \u001b[39mnot\u001b[39;00m (\u001b[39mself\u001b[39m\u001b[39m.\u001b[39m_backward_hooks \u001b[39mor\u001b[39;00m \u001b[39mself\u001b[39m\u001b[39m.\u001b[39m_forward_hooks \u001b[39mor\u001b[39;00m \u001b[39mself\u001b[39m\u001b[39m.\u001b[39m_forward_pre_hooks \u001b[39mor\u001b[39;00m _global_backward_hooks\n\u001b[1;32m   1193\u001b[0m         \u001b[39mor\u001b[39;00m _global_forward_hooks \u001b[39mor\u001b[39;00m _global_forward_pre_hooks):\n\u001b[0;32m-> 1194\u001b[0m     \u001b[39mreturn\u001b[39;00m forward_call(\u001b[39m*\u001b[39;49m\u001b[39minput\u001b[39;49m, \u001b[39m*\u001b[39;49m\u001b[39m*\u001b[39;49mkwargs)\n\u001b[1;32m   1195\u001b[0m \u001b[39m# Do not call functions when jit is used\u001b[39;00m\n\u001b[1;32m   1196\u001b[0m full_backward_hooks, non_full_backward_hooks \u001b[39m=\u001b[39m [], []\n",
      "File \u001b[0;32m~/miniconda3/envs/sbdd-env/lib/python3.10/site-packages/torch/nn/modules/transformer.py:536\u001b[0m, in \u001b[0;36mTransformerEncoderLayer.forward\u001b[0;34m(self, src, src_mask, src_key_padding_mask)\u001b[0m\n\u001b[1;32m    534\u001b[0m \u001b[39mif\u001b[39;00m \u001b[39mself\u001b[39m\u001b[39m.\u001b[39mnorm_first:\n\u001b[1;32m    535\u001b[0m     x \u001b[39m=\u001b[39m x \u001b[39m+\u001b[39m \u001b[39mself\u001b[39m\u001b[39m.\u001b[39m_sa_block(\u001b[39mself\u001b[39m\u001b[39m.\u001b[39mnorm1(x), src_mask, src_key_padding_mask)\n\u001b[0;32m--> 536\u001b[0m     x \u001b[39m=\u001b[39m x \u001b[39m+\u001b[39m \u001b[39mself\u001b[39;49m\u001b[39m.\u001b[39;49m_ff_block(\u001b[39mself\u001b[39;49m\u001b[39m.\u001b[39;49mnorm2(x))\n\u001b[1;32m    537\u001b[0m \u001b[39melse\u001b[39;00m:\n\u001b[1;32m    538\u001b[0m     x \u001b[39m=\u001b[39m \u001b[39mself\u001b[39m\u001b[39m.\u001b[39mnorm1(x \u001b[39m+\u001b[39m \u001b[39mself\u001b[39m\u001b[39m.\u001b[39m_sa_block(x, src_mask, src_key_padding_mask))\n",
      "File \u001b[0;32m~/miniconda3/envs/sbdd-env/lib/python3.10/site-packages/torch/nn/modules/transformer.py:554\u001b[0m, in \u001b[0;36mTransformerEncoderLayer._ff_block\u001b[0;34m(self, x)\u001b[0m\n\u001b[1;32m    553\u001b[0m \u001b[39mdef\u001b[39;00m \u001b[39m_ff_block\u001b[39m(\u001b[39mself\u001b[39m, x: Tensor) \u001b[39m-\u001b[39m\u001b[39m>\u001b[39m Tensor:\n\u001b[0;32m--> 554\u001b[0m     x \u001b[39m=\u001b[39m \u001b[39mself\u001b[39;49m\u001b[39m.\u001b[39;49mlinear2(\u001b[39mself\u001b[39;49m\u001b[39m.\u001b[39;49mdropout(\u001b[39mself\u001b[39;49m\u001b[39m.\u001b[39;49mactivation(\u001b[39mself\u001b[39;49m\u001b[39m.\u001b[39;49mlinear1(x))))\n\u001b[1;32m    555\u001b[0m     \u001b[39mreturn\u001b[39;00m \u001b[39mself\u001b[39m\u001b[39m.\u001b[39mdropout2(x)\n",
      "File \u001b[0;32m~/miniconda3/envs/sbdd-env/lib/python3.10/site-packages/torch/nn/modules/module.py:1194\u001b[0m, in \u001b[0;36mModule._call_impl\u001b[0;34m(self, *input, **kwargs)\u001b[0m\n\u001b[1;32m   1190\u001b[0m \u001b[39m# If we don't have any hooks, we want to skip the rest of the logic in\u001b[39;00m\n\u001b[1;32m   1191\u001b[0m \u001b[39m# this function, and just call forward.\u001b[39;00m\n\u001b[1;32m   1192\u001b[0m \u001b[39mif\u001b[39;00m \u001b[39mnot\u001b[39;00m (\u001b[39mself\u001b[39m\u001b[39m.\u001b[39m_backward_hooks \u001b[39mor\u001b[39;00m \u001b[39mself\u001b[39m\u001b[39m.\u001b[39m_forward_hooks \u001b[39mor\u001b[39;00m \u001b[39mself\u001b[39m\u001b[39m.\u001b[39m_forward_pre_hooks \u001b[39mor\u001b[39;00m _global_backward_hooks\n\u001b[1;32m   1193\u001b[0m         \u001b[39mor\u001b[39;00m _global_forward_hooks \u001b[39mor\u001b[39;00m _global_forward_pre_hooks):\n\u001b[0;32m-> 1194\u001b[0m     \u001b[39mreturn\u001b[39;00m forward_call(\u001b[39m*\u001b[39;49m\u001b[39minput\u001b[39;49m, \u001b[39m*\u001b[39;49m\u001b[39m*\u001b[39;49mkwargs)\n\u001b[1;32m   1195\u001b[0m \u001b[39m# Do not call functions when jit is used\u001b[39;00m\n\u001b[1;32m   1196\u001b[0m full_backward_hooks, non_full_backward_hooks \u001b[39m=\u001b[39m [], []\n",
      "File \u001b[0;32m~/miniconda3/envs/sbdd-env/lib/python3.10/site-packages/torch/nn/modules/linear.py:114\u001b[0m, in \u001b[0;36mLinear.forward\u001b[0;34m(self, input)\u001b[0m\n\u001b[1;32m    113\u001b[0m \u001b[39mdef\u001b[39;00m \u001b[39mforward\u001b[39m(\u001b[39mself\u001b[39m, \u001b[39minput\u001b[39m: Tensor) \u001b[39m-\u001b[39m\u001b[39m>\u001b[39m Tensor:\n\u001b[0;32m--> 114\u001b[0m     \u001b[39mreturn\u001b[39;00m F\u001b[39m.\u001b[39mlinear(\u001b[39minput\u001b[39m, \u001b[39mself\u001b[39m\u001b[39m.\u001b[39mweight, \u001b[39mself\u001b[39;49m\u001b[39m.\u001b[39;49mbias)\n",
      "File \u001b[0;32m~/miniconda3/envs/sbdd-env/lib/python3.10/site-packages/torch/nn/modules/module.py:1256\u001b[0m, in \u001b[0;36mModule.__getattr__\u001b[0;34m(self, name)\u001b[0m\n\u001b[1;32m   1253\u001b[0m     \u001b[39mif\u001b[39;00m \u001b[39m'\u001b[39m\u001b[39m_is_full_backward_hook\u001b[39m\u001b[39m'\u001b[39m \u001b[39mnot\u001b[39;00m \u001b[39min\u001b[39;00m \u001b[39mself\u001b[39m\u001b[39m.\u001b[39m\u001b[39m__dict__\u001b[39m:\n\u001b[1;32m   1254\u001b[0m         \u001b[39mself\u001b[39m\u001b[39m.\u001b[39m_is_full_backward_hook \u001b[39m=\u001b[39m \u001b[39mNone\u001b[39;00m\n\u001b[0;32m-> 1256\u001b[0m \u001b[39mdef\u001b[39;00m \u001b[39m__getattr__\u001b[39m(\u001b[39mself\u001b[39m, name: \u001b[39mstr\u001b[39m) \u001b[39m-\u001b[39m\u001b[39m>\u001b[39m Union[Tensor, \u001b[39m'\u001b[39m\u001b[39mModule\u001b[39m\u001b[39m'\u001b[39m]:\n\u001b[1;32m   1257\u001b[0m     \u001b[39mif\u001b[39;00m \u001b[39m'\u001b[39m\u001b[39m_parameters\u001b[39m\u001b[39m'\u001b[39m \u001b[39min\u001b[39;00m \u001b[39mself\u001b[39m\u001b[39m.\u001b[39m\u001b[39m__dict__\u001b[39m:\n\u001b[1;32m   1258\u001b[0m         _parameters \u001b[39m=\u001b[39m \u001b[39mself\u001b[39m\u001b[39m.\u001b[39m\u001b[39m__dict__\u001b[39m[\u001b[39m'\u001b[39m\u001b[39m_parameters\u001b[39m\u001b[39m'\u001b[39m]\n",
      "\u001b[0;31mKeyboardInterrupt\u001b[0m: "
     ]
    }
   ],
   "source": [
    "acc = calculate_decoder_accuracy(model, dataloaders, k=2, greedy_decode=False)"
   ]
  },
  {
   "cell_type": "code",
   "execution_count": 20,
   "metadata": {},
   "outputs": [
    {
     "name": "stderr",
     "output_type": "stream",
     "text": [
      "1it [00:59, 59.85s/it]"
     ]
    },
    {
     "name": "stdout",
     "output_type": "stream",
     "text": [
      "No of Hits :  0.5525\n"
     ]
    },
    {
     "name": "stderr",
     "output_type": "stream",
     "text": [
      "2it [01:59, 59.86s/it]"
     ]
    },
    {
     "name": "stdout",
     "output_type": "stream",
     "text": [
      "No of Hits :  0.565\n"
     ]
    },
    {
     "name": "stderr",
     "output_type": "stream",
     "text": [
      "2it [02:12, 66.45s/it]\n"
     ]
    },
    {
     "ename": "KeyboardInterrupt",
     "evalue": "",
     "output_type": "error",
     "traceback": [
      "\u001b[0;31m---------------------------------------------------------------------------\u001b[0m",
      "\u001b[0;31mKeyboardInterrupt\u001b[0m                         Traceback (most recent call last)",
      "Cell \u001b[0;32mIn[20], line 1\u001b[0m\n\u001b[0;32m----> 1\u001b[0m acc \u001b[39m=\u001b[39m calculate_decoder_accuracy(model, dataloaders, k\u001b[39m=\u001b[39;49m\u001b[39m3\u001b[39;49m, greedy_decode\u001b[39m=\u001b[39;49m\u001b[39mFalse\u001b[39;49;00m)\n",
      "Cell \u001b[0;32mIn[15], line 11\u001b[0m, in \u001b[0;36mcalculate_decoder_accuracy\u001b[0;34m(model, dataloaders, k, greedy_decode)\u001b[0m\n\u001b[1;32m      9\u001b[0m spec_latents \u001b[39m=\u001b[39m model\u001b[39m.\u001b[39mmodule\u001b[39m.\u001b[39mforward_spec(data)\n\u001b[1;32m     10\u001b[0m \u001b[39mfor\u001b[39;00m spec, og \u001b[39min\u001b[39;00m \u001b[39mzip\u001b[39m(spec_latents, data[\u001b[39m'\u001b[39m\u001b[39msmiles\u001b[39m\u001b[39m'\u001b[39m] ):\n\u001b[0;32m---> 11\u001b[0m     ls \u001b[39m=\u001b[39m sampler\u001b[39m.\u001b[39;49msample_multi(k,spec,greedy_decode\u001b[39m=\u001b[39;49mgreedy_decode)\n\u001b[1;32m     12\u001b[0m     generated_smiles \u001b[39m=\u001b[39m []\n\u001b[1;32m     13\u001b[0m     \u001b[39mfor\u001b[39;00m smi \u001b[39min\u001b[39;00m ls:\n",
      "File \u001b[0;32m~/CLIP_PART_1/train_utils.py:419\u001b[0m, in \u001b[0;36mSampler.sample_multi\u001b[0;34m(self, n, embed, greedy_decode)\u001b[0m\n\u001b[1;32m    417\u001b[0m smiles_list \u001b[39m=\u001b[39m []\n\u001b[1;32m    418\u001b[0m \u001b[39mfor\u001b[39;00m i \u001b[39min\u001b[39;00m \u001b[39mrange\u001b[39m(n):\n\u001b[0;32m--> 419\u001b[0m     smiles_list\u001b[39m.\u001b[39mappend(\u001b[39mself\u001b[39;49m\u001b[39m.\u001b[39;49msample(embed, greedy_decode))\n\u001b[1;32m    420\u001b[0m \u001b[39mreturn\u001b[39;00m smiles_list\n",
      "File \u001b[0;32m~/CLIP_PART_1/train_utils.py:399\u001b[0m, in \u001b[0;36mSampler.sample\u001b[0;34m(self, embed, greedy_decode)\u001b[0m\n\u001b[1;32m    397\u001b[0m \u001b[39mfor\u001b[39;00m i \u001b[39min\u001b[39;00m \u001b[39mrange\u001b[39m(\u001b[39m0\u001b[39m,\u001b[39mself\u001b[39m\u001b[39m.\u001b[39mmax_len\u001b[39m-\u001b[39m\u001b[39m1\u001b[39m):\n\u001b[1;32m    398\u001b[0m     tensor \u001b[39m=\u001b[39m sample_tensor[:,:i\u001b[39m+\u001b[39m\u001b[39m1\u001b[39m]\n\u001b[0;32m--> 399\u001b[0m     logits \u001b[39m=\u001b[39m \u001b[39mself\u001b[39;49m\u001b[39m.\u001b[39;49mmodel\u001b[39m.\u001b[39;49mforward(embed, tensor)[:,\u001b[39m-\u001b[39m\u001b[39m1\u001b[39m,:]\n\u001b[1;32m    400\u001b[0m     probabilities \u001b[39m=\u001b[39m F\u001b[39m.\u001b[39msoftmax(logits, dim\u001b[39m=\u001b[39m\u001b[39m1\u001b[39m)\n\u001b[1;32m    401\u001b[0m     sampled_char \u001b[39m=\u001b[39m torch\u001b[39m.\u001b[39mmultinomial(probabilities,\u001b[39m1\u001b[39m)\u001b[39m.\u001b[39mitem()\n",
      "File \u001b[0;32m~/CLIP_PART_1/models/decoder.py:109\u001b[0m, in \u001b[0;36mLatentToMol.forward\u001b[0;34m(self, spec, smi, tgt_mask, tgt_padding_mask)\u001b[0m\n\u001b[1;32m    105\u001b[0m \u001b[39m# smi = self.pe(smi) # [batch, seqlen, hidden]\u001b[39;00m\n\u001b[1;32m    107\u001b[0m mask \u001b[39m=\u001b[39m set_up_causal_mask(x\u001b[39m.\u001b[39mshape[\u001b[39m1\u001b[39m])\u001b[39m.\u001b[39mto(smi\u001b[39m.\u001b[39mdevice)\n\u001b[0;32m--> 109\u001b[0m x \u001b[39m=\u001b[39m \u001b[39mself\u001b[39;49m\u001b[39m.\u001b[39;49mtrfmencoder(\n\u001b[1;32m    110\u001b[0m     src\u001b[39m=\u001b[39;49mx,\n\u001b[1;32m    111\u001b[0m     mask \u001b[39m=\u001b[39;49m mask\n\u001b[1;32m    112\u001b[0m )\n\u001b[1;32m    113\u001b[0m x \u001b[39m=\u001b[39m \u001b[39mself\u001b[39m\u001b[39m.\u001b[39mln_f(x)\n\u001b[1;32m    114\u001b[0m out \u001b[39m=\u001b[39m \u001b[39mself\u001b[39m\u001b[39m.\u001b[39mclassifier(x)\n",
      "File \u001b[0;32m~/miniconda3/envs/sbdd-env/lib/python3.10/site-packages/torch/nn/modules/module.py:1194\u001b[0m, in \u001b[0;36mModule._call_impl\u001b[0;34m(self, *input, **kwargs)\u001b[0m\n\u001b[1;32m   1190\u001b[0m \u001b[39m# If we don't have any hooks, we want to skip the rest of the logic in\u001b[39;00m\n\u001b[1;32m   1191\u001b[0m \u001b[39m# this function, and just call forward.\u001b[39;00m\n\u001b[1;32m   1192\u001b[0m \u001b[39mif\u001b[39;00m \u001b[39mnot\u001b[39;00m (\u001b[39mself\u001b[39m\u001b[39m.\u001b[39m_backward_hooks \u001b[39mor\u001b[39;00m \u001b[39mself\u001b[39m\u001b[39m.\u001b[39m_forward_hooks \u001b[39mor\u001b[39;00m \u001b[39mself\u001b[39m\u001b[39m.\u001b[39m_forward_pre_hooks \u001b[39mor\u001b[39;00m _global_backward_hooks\n\u001b[1;32m   1193\u001b[0m         \u001b[39mor\u001b[39;00m _global_forward_hooks \u001b[39mor\u001b[39;00m _global_forward_pre_hooks):\n\u001b[0;32m-> 1194\u001b[0m     \u001b[39mreturn\u001b[39;00m forward_call(\u001b[39m*\u001b[39;49m\u001b[39minput\u001b[39;49m, \u001b[39m*\u001b[39;49m\u001b[39m*\u001b[39;49mkwargs)\n\u001b[1;32m   1195\u001b[0m \u001b[39m# Do not call functions when jit is used\u001b[39;00m\n\u001b[1;32m   1196\u001b[0m full_backward_hooks, non_full_backward_hooks \u001b[39m=\u001b[39m [], []\n",
      "File \u001b[0;32m~/miniconda3/envs/sbdd-env/lib/python3.10/site-packages/torch/nn/modules/transformer.py:280\u001b[0m, in \u001b[0;36mTransformerEncoder.forward\u001b[0;34m(self, src, mask, src_key_padding_mask)\u001b[0m\n\u001b[1;32m    277\u001b[0m         src_key_padding_mask_for_layers \u001b[39m=\u001b[39m \u001b[39mNone\u001b[39;00m\n\u001b[1;32m    279\u001b[0m \u001b[39mfor\u001b[39;00m mod \u001b[39min\u001b[39;00m \u001b[39mself\u001b[39m\u001b[39m.\u001b[39mlayers:\n\u001b[0;32m--> 280\u001b[0m     output \u001b[39m=\u001b[39m mod(output, src_mask\u001b[39m=\u001b[39;49mmask, src_key_padding_mask\u001b[39m=\u001b[39;49msrc_key_padding_mask_for_layers)\n\u001b[1;32m    282\u001b[0m \u001b[39mif\u001b[39;00m convert_to_nested:\n\u001b[1;32m    283\u001b[0m     output \u001b[39m=\u001b[39m output\u001b[39m.\u001b[39mto_padded_tensor(\u001b[39m0.\u001b[39m)\n",
      "File \u001b[0;32m~/miniconda3/envs/sbdd-env/lib/python3.10/site-packages/torch/nn/modules/module.py:1194\u001b[0m, in \u001b[0;36mModule._call_impl\u001b[0;34m(self, *input, **kwargs)\u001b[0m\n\u001b[1;32m   1190\u001b[0m \u001b[39m# If we don't have any hooks, we want to skip the rest of the logic in\u001b[39;00m\n\u001b[1;32m   1191\u001b[0m \u001b[39m# this function, and just call forward.\u001b[39;00m\n\u001b[1;32m   1192\u001b[0m \u001b[39mif\u001b[39;00m \u001b[39mnot\u001b[39;00m (\u001b[39mself\u001b[39m\u001b[39m.\u001b[39m_backward_hooks \u001b[39mor\u001b[39;00m \u001b[39mself\u001b[39m\u001b[39m.\u001b[39m_forward_hooks \u001b[39mor\u001b[39;00m \u001b[39mself\u001b[39m\u001b[39m.\u001b[39m_forward_pre_hooks \u001b[39mor\u001b[39;00m _global_backward_hooks\n\u001b[1;32m   1193\u001b[0m         \u001b[39mor\u001b[39;00m _global_forward_hooks \u001b[39mor\u001b[39;00m _global_forward_pre_hooks):\n\u001b[0;32m-> 1194\u001b[0m     \u001b[39mreturn\u001b[39;00m forward_call(\u001b[39m*\u001b[39;49m\u001b[39minput\u001b[39;49m, \u001b[39m*\u001b[39;49m\u001b[39m*\u001b[39;49mkwargs)\n\u001b[1;32m   1195\u001b[0m \u001b[39m# Do not call functions when jit is used\u001b[39;00m\n\u001b[1;32m   1196\u001b[0m full_backward_hooks, non_full_backward_hooks \u001b[39m=\u001b[39m [], []\n",
      "File \u001b[0;32m~/miniconda3/envs/sbdd-env/lib/python3.10/site-packages/torch/nn/modules/transformer.py:535\u001b[0m, in \u001b[0;36mTransformerEncoderLayer.forward\u001b[0;34m(self, src, src_mask, src_key_padding_mask)\u001b[0m\n\u001b[1;32m    533\u001b[0m x \u001b[39m=\u001b[39m src\n\u001b[1;32m    534\u001b[0m \u001b[39mif\u001b[39;00m \u001b[39mself\u001b[39m\u001b[39m.\u001b[39mnorm_first:\n\u001b[0;32m--> 535\u001b[0m     x \u001b[39m=\u001b[39m x \u001b[39m+\u001b[39m \u001b[39mself\u001b[39;49m\u001b[39m.\u001b[39;49m_sa_block(\u001b[39mself\u001b[39;49m\u001b[39m.\u001b[39;49mnorm1(x), src_mask, src_key_padding_mask)\n\u001b[1;32m    536\u001b[0m     x \u001b[39m=\u001b[39m x \u001b[39m+\u001b[39m \u001b[39mself\u001b[39m\u001b[39m.\u001b[39m_ff_block(\u001b[39mself\u001b[39m\u001b[39m.\u001b[39mnorm2(x))\n\u001b[1;32m    537\u001b[0m \u001b[39melse\u001b[39;00m:\n",
      "File \u001b[0;32m~/miniconda3/envs/sbdd-env/lib/python3.10/site-packages/torch/nn/modules/transformer.py:546\u001b[0m, in \u001b[0;36mTransformerEncoderLayer._sa_block\u001b[0;34m(self, x, attn_mask, key_padding_mask)\u001b[0m\n\u001b[1;32m    544\u001b[0m \u001b[39mdef\u001b[39;00m \u001b[39m_sa_block\u001b[39m(\u001b[39mself\u001b[39m, x: Tensor,\n\u001b[1;32m    545\u001b[0m               attn_mask: Optional[Tensor], key_padding_mask: Optional[Tensor]) \u001b[39m-\u001b[39m\u001b[39m>\u001b[39m Tensor:\n\u001b[0;32m--> 546\u001b[0m     x \u001b[39m=\u001b[39m \u001b[39mself\u001b[39;49m\u001b[39m.\u001b[39;49mself_attn(x, x, x,\n\u001b[1;32m    547\u001b[0m                        attn_mask\u001b[39m=\u001b[39;49mattn_mask,\n\u001b[1;32m    548\u001b[0m                        key_padding_mask\u001b[39m=\u001b[39;49mkey_padding_mask,\n\u001b[1;32m    549\u001b[0m                        need_weights\u001b[39m=\u001b[39;49m\u001b[39mFalse\u001b[39;49;00m)[\u001b[39m0\u001b[39m]\n\u001b[1;32m    550\u001b[0m     \u001b[39mreturn\u001b[39;00m \u001b[39mself\u001b[39m\u001b[39m.\u001b[39mdropout1(x)\n",
      "File \u001b[0;32m~/miniconda3/envs/sbdd-env/lib/python3.10/site-packages/torch/nn/modules/module.py:1194\u001b[0m, in \u001b[0;36mModule._call_impl\u001b[0;34m(self, *input, **kwargs)\u001b[0m\n\u001b[1;32m   1190\u001b[0m \u001b[39m# If we don't have any hooks, we want to skip the rest of the logic in\u001b[39;00m\n\u001b[1;32m   1191\u001b[0m \u001b[39m# this function, and just call forward.\u001b[39;00m\n\u001b[1;32m   1192\u001b[0m \u001b[39mif\u001b[39;00m \u001b[39mnot\u001b[39;00m (\u001b[39mself\u001b[39m\u001b[39m.\u001b[39m_backward_hooks \u001b[39mor\u001b[39;00m \u001b[39mself\u001b[39m\u001b[39m.\u001b[39m_forward_hooks \u001b[39mor\u001b[39;00m \u001b[39mself\u001b[39m\u001b[39m.\u001b[39m_forward_pre_hooks \u001b[39mor\u001b[39;00m _global_backward_hooks\n\u001b[1;32m   1193\u001b[0m         \u001b[39mor\u001b[39;00m _global_forward_hooks \u001b[39mor\u001b[39;00m _global_forward_pre_hooks):\n\u001b[0;32m-> 1194\u001b[0m     \u001b[39mreturn\u001b[39;00m forward_call(\u001b[39m*\u001b[39;49m\u001b[39minput\u001b[39;49m, \u001b[39m*\u001b[39;49m\u001b[39m*\u001b[39;49mkwargs)\n\u001b[1;32m   1195\u001b[0m \u001b[39m# Do not call functions when jit is used\u001b[39;00m\n\u001b[1;32m   1196\u001b[0m full_backward_hooks, non_full_backward_hooks \u001b[39m=\u001b[39m [], []\n",
      "File \u001b[0;32m~/miniconda3/envs/sbdd-env/lib/python3.10/site-packages/torch/nn/modules/activation.py:1167\u001b[0m, in \u001b[0;36mMultiheadAttention.forward\u001b[0;34m(self, query, key, value, key_padding_mask, need_weights, attn_mask, average_attn_weights)\u001b[0m\n\u001b[1;32m   1156\u001b[0m     attn_output, attn_output_weights \u001b[39m=\u001b[39m F\u001b[39m.\u001b[39mmulti_head_attention_forward(\n\u001b[1;32m   1157\u001b[0m         query, key, value, \u001b[39mself\u001b[39m\u001b[39m.\u001b[39membed_dim, \u001b[39mself\u001b[39m\u001b[39m.\u001b[39mnum_heads,\n\u001b[1;32m   1158\u001b[0m         \u001b[39mself\u001b[39m\u001b[39m.\u001b[39min_proj_weight, \u001b[39mself\u001b[39m\u001b[39m.\u001b[39min_proj_bias,\n\u001b[0;32m   (...)\u001b[0m\n\u001b[1;32m   1164\u001b[0m         q_proj_weight\u001b[39m=\u001b[39m\u001b[39mself\u001b[39m\u001b[39m.\u001b[39mq_proj_weight, k_proj_weight\u001b[39m=\u001b[39m\u001b[39mself\u001b[39m\u001b[39m.\u001b[39mk_proj_weight,\n\u001b[1;32m   1165\u001b[0m         v_proj_weight\u001b[39m=\u001b[39m\u001b[39mself\u001b[39m\u001b[39m.\u001b[39mv_proj_weight, average_attn_weights\u001b[39m=\u001b[39maverage_attn_weights)\n\u001b[1;32m   1166\u001b[0m \u001b[39melse\u001b[39;00m:\n\u001b[0;32m-> 1167\u001b[0m     attn_output, attn_output_weights \u001b[39m=\u001b[39m F\u001b[39m.\u001b[39;49mmulti_head_attention_forward(\n\u001b[1;32m   1168\u001b[0m         query, key, value, \u001b[39mself\u001b[39;49m\u001b[39m.\u001b[39;49membed_dim, \u001b[39mself\u001b[39;49m\u001b[39m.\u001b[39;49mnum_heads,\n\u001b[1;32m   1169\u001b[0m         \u001b[39mself\u001b[39;49m\u001b[39m.\u001b[39;49min_proj_weight, \u001b[39mself\u001b[39;49m\u001b[39m.\u001b[39;49min_proj_bias,\n\u001b[1;32m   1170\u001b[0m         \u001b[39mself\u001b[39;49m\u001b[39m.\u001b[39;49mbias_k, \u001b[39mself\u001b[39;49m\u001b[39m.\u001b[39;49mbias_v, \u001b[39mself\u001b[39;49m\u001b[39m.\u001b[39;49madd_zero_attn,\n\u001b[1;32m   1171\u001b[0m         \u001b[39mself\u001b[39;49m\u001b[39m.\u001b[39;49mdropout, \u001b[39mself\u001b[39;49m\u001b[39m.\u001b[39;49mout_proj\u001b[39m.\u001b[39;49mweight, \u001b[39mself\u001b[39;49m\u001b[39m.\u001b[39;49mout_proj\u001b[39m.\u001b[39;49mbias,\n\u001b[1;32m   1172\u001b[0m         training\u001b[39m=\u001b[39;49m\u001b[39mself\u001b[39;49m\u001b[39m.\u001b[39;49mtraining,\n\u001b[1;32m   1173\u001b[0m         key_padding_mask\u001b[39m=\u001b[39;49mkey_padding_mask, need_weights\u001b[39m=\u001b[39;49mneed_weights,\n\u001b[1;32m   1174\u001b[0m         attn_mask\u001b[39m=\u001b[39;49mattn_mask, average_attn_weights\u001b[39m=\u001b[39;49maverage_attn_weights)\n\u001b[1;32m   1175\u001b[0m \u001b[39mif\u001b[39;00m \u001b[39mself\u001b[39m\u001b[39m.\u001b[39mbatch_first \u001b[39mand\u001b[39;00m is_batched:\n\u001b[1;32m   1176\u001b[0m     \u001b[39mreturn\u001b[39;00m attn_output\u001b[39m.\u001b[39mtranspose(\u001b[39m1\u001b[39m, \u001b[39m0\u001b[39m), attn_output_weights\n",
      "File \u001b[0;32m~/miniconda3/envs/sbdd-env/lib/python3.10/site-packages/torch/nn/functional.py:5095\u001b[0m, in \u001b[0;36mmulti_head_attention_forward\u001b[0;34m(query, key, value, embed_dim_to_check, num_heads, in_proj_weight, in_proj_bias, bias_k, bias_v, add_zero_attn, dropout_p, out_proj_weight, out_proj_bias, training, key_padding_mask, need_weights, attn_mask, use_separate_proj_weight, q_proj_weight, k_proj_weight, v_proj_weight, static_k, static_v, average_attn_weights)\u001b[0m\n\u001b[1;32m   5090\u001b[0m     \u001b[39massert\u001b[39;00m bias_v \u001b[39mis\u001b[39;00m \u001b[39mNone\u001b[39;00m\n\u001b[1;32m   5092\u001b[0m \u001b[39m#\u001b[39;00m\n\u001b[1;32m   5093\u001b[0m \u001b[39m# reshape q, k, v for multihead attention and make em batch first\u001b[39;00m\n\u001b[1;32m   5094\u001b[0m \u001b[39m#\u001b[39;00m\n\u001b[0;32m-> 5095\u001b[0m q \u001b[39m=\u001b[39m q\u001b[39m.\u001b[39;49mcontiguous()\u001b[39m.\u001b[39;49mview(tgt_len, bsz \u001b[39m*\u001b[39;49m num_heads, head_dim)\u001b[39m.\u001b[39mtranspose(\u001b[39m0\u001b[39m, \u001b[39m1\u001b[39m)\n\u001b[1;32m   5096\u001b[0m \u001b[39mif\u001b[39;00m static_k \u001b[39mis\u001b[39;00m \u001b[39mNone\u001b[39;00m:\n\u001b[1;32m   5097\u001b[0m     k \u001b[39m=\u001b[39m k\u001b[39m.\u001b[39mcontiguous()\u001b[39m.\u001b[39mview(k\u001b[39m.\u001b[39mshape[\u001b[39m0\u001b[39m], bsz \u001b[39m*\u001b[39m num_heads, head_dim)\u001b[39m.\u001b[39mtranspose(\u001b[39m0\u001b[39m, \u001b[39m1\u001b[39m)\n",
      "\u001b[0;31mKeyboardInterrupt\u001b[0m: "
     ]
    }
   ],
   "source": [
    "acc = calculate_decoder_accuracy(model, dataloaders, k=3, greedy_decode=False)"
   ]
  },
  {
   "cell_type": "code",
   "execution_count": null,
   "metadata": {},
   "outputs": [],
   "source": [
    "acc = calculate_decoder_accuracy(model, dataloaders, k=5, greedy_decode=False)"
   ]
  },
  {
   "cell_type": "code",
   "execution_count": 27,
   "metadata": {},
   "outputs": [
    {
     "name": "stdout",
     "output_type": "stream",
     "text": [
      "['CC1CC(C)C12CN2'] ['CC1(C2CO2)NC1C']\n",
      "['OC1CCC2OC=NC12'] ['OC1CCC2N=COC12']\n",
      "['CC12OCC1C1(C=O)CC12'] ['CC12OC1C1(C=O)CC12']\n",
      "['[NH3+]CCC(O)C(=O)[O-]'] ['[NH3+]CCC(O)(CO)C(=O)[O-]']\n",
      "['CC1=CCn2nncc21'] ['C1Cc2cnnn2C1']\n",
      "['C1=CC2COC(C2)OC1'] ['C1OC2CC3C(CO2)C13']\n",
      "['CC(=O)C1(C)COC1=O'] ['CCC(=O)C(C)=O']\n",
      "['CC1C(=NO)C2OC12'] ['CC1C(=NO)C2C(O)C12']\n",
      "['CC1CC2(C)CC12O'] ['CC1CC2(CC2)C1(C)O']\n",
      "['N#CC12CC1CN2C=O'] ['N#CC1C2CN(C=O)C12']\n",
      "['CN1C2COC(C)(O)C21'] ['CN1C2COC(CO)C21']\n",
      "['CC1C2COC3C(C2)C13'] ['CC1C2COC1C1CC21']\n",
      "['C1CCC2OCC2=N1'] ['C1CCC2COC2=N1']\n",
      "['CC(=NO)C1(O)CN=C1'] ['CC(=NO)C1(O)CC=N1']\n",
      "['COC1C=C(C)CO1'] ['CCC1=CC(OC)OC1']\n",
      "['CC(C=O)N(C)C'] ['CCC(=O)C(C=O)N1C']\n",
      "['C1C2C3C4CC(CN43)N12'] ['C1C2C3C4C1C1C4N1C23']\n",
      "['COC1CC1NC=O'] ['COC1CC1CNC=O']\n",
      "['CC1OC2C=CC1C2=O'] ['CC1OC2C=CC(=O)C12']\n",
      "['OC1CC2CC3CC3C12'] ['OC1C2CCC3C(C2)C13']\n",
      "['CNC(C#N)C(C)N'] ['CNC(C)(C#N)CN']\n",
      "['CC1CN=C2OC(C)C21'] ['CCC1CN=C2OCC21']\n",
      "['O=C1C(CO)C2CC12O'] ['O=C1C(O)C2(CO)CC12']\n",
      "['COC1CC2CCCC21'] ['COC1CC2CCC2C1']\n",
      "['N#CC(=O)COCCO'] ['N#CC(=O)C(CO)CO']\n",
      "['CC12C3CC3(O)C1OC32'] ['CC12CC1(O)C1OC12']\n",
      "['Nc1c(F)cncc1F'] ['Nc1nncc(F)c1F']\n",
      "['NCc1ncc(O)cn1'] ['NC(CO)C#CC1CN1']\n",
      "['COC1C=CC2(CC2)O1'] ['COC1C=CC(C2CC2)O1']\n",
      "['CCC1C(=O)OC1C'] ['CC1OC(=O)C1C(C)C']\n",
      "['CCCCC1(C)CC1O'] ['CCCCC1(O)CC1C']\n",
      "['CC1=CC(C)C(=O)C1O'] ['CC1=CC(O)C(=O)C1C']\n",
      "['CC1(O)C2C3CC(C3)C21'] ['CC1(C)C2CC1OC=N2']\n",
      "['CC#CC12CCCC1O2'] ['CC#CC12CC(O1)C2C']\n",
      "['N=c1[nH]c(F)n[nH]c1=N'] ['N=c1[nH]nc(F)[nH]c1=N']\n",
      "['OC1C=CCC2CC2C1'] ['OC1CC=CC2CC2C1']\n",
      "['C1=CC2(CO2)C2(C1)CN2'] ['C1=CC2(CO2)C2(C1)CO2']\n",
      "['N#CC1(O)CC1C=O'] ['N#CC(C=O)C1(O)CC1']\n",
      "['CC1CN(C(=N)N)C1=O'] ['CC1CC(=O)N1C(=N)N']\n",
      "['C1=C(C2CO2)C2OC2C1'] ['C1=C(C2CO2)C2NC2C1']\n",
      "['CN1C2CC(O)(CO)C21'] ['CN1CC1C(O)CCO']\n",
      "['COCC1NC(C)C1=O'] ['CCC1NC(=O)C1OC']\n",
      "['C1CC2CCC1CC2'] ['CC12CCCC(C1)C2']\n",
      "['O=Cc1cncoc1=O'] ['O=Cc1ccnc(=O)o1']\n",
      "['CC12CC1C(=O)NC=N2'] ['CC1C2N=CNC(=O)C12']\n",
      "['NC(=O)c1n[nH]nc1N'] ['NC(=O)c1nn[nH]c1N']\n",
      "['C#CCC(O)CCC#N'] ['C#CCCC(O)CC#N']\n",
      "['CC1CCC12NCC2=O'] ['CC12CCC1NCC2=O']\n",
      "['CC12OCC(O1)C1CC12'] ['CC12OCC(O1)C1OC12']\n",
      "['CC1C=CC(C=O)C1O'] ['CC1C=CC(CO)C1=O']\n",
      "['CC1C2CCCC(C1)O2'] ['CC1CC2CCCC1O2']\n",
      "['Cc1cc(=O)oc(=N)o1'] ['Cc1nc(=O)oc(=N)o1']\n",
      "['CC1C2CCC1OC2=O'] ['CC1C2CCC1OC=O2']\n",
      "['C#CC(=O)OCC#C'] ['C#CC(=O)OCCC#C']\n",
      "['CC12CCC(COC1)O2'] ['CC12CCC(C1)OCO2']\n",
      "['COC(=O)N1C=CCC1'] ['COC(=N)N1C=CCC1']\n",
      "['CN=c1cnc(C)cn1'] ['CN=c1cn(C)ccn1']\n",
      "['N=c1oncnc1=N'] ['N=c1oncc(F)c1=N']\n",
      "['CC1C=C(CCO)CO1'] ['CC1OCC=C1CCO']\n",
      "['CC#CC1=CCN(C)C1'] ['CC1=CCN(CC#N)C1']\n",
      "['N=C(N)n1nccc1N'] ['CC(=O)n1nccc1N']\n",
      "['C1=CC2(C=CCC1)CN2'] ['C1=CC2(CC=CC1)CN2']\n",
      "['CC1C(C2CC2O)C1C'] ['CC1C(C2(O)CC2)CN1']\n",
      "['CC1C(C#N)N1C=O'] ['CC1C(C#N)N1CC=O']\n",
      "['O=CC1CC2COC2=N1'] ['O=CC1CN=C2OCC21']\n",
      "['COc1c(O)ccn1C'] ['COc1c(O)cnn1C']\n",
      "['C#CC1C=CC(=O)N1C'] ['C#CC1=CC(=O)N(C)C1']\n",
      "['CC1C(O)C2C(C)N12'] ['CC1C(O)C2C(C)C12']\n",
      "['CC1=NCC2CC(C2)O1'] ['CC1=NCCC2CC2O1']\n",
      "['Cc1[nH]ncc1[N+](=O)[O-]'] ['Cc1n[nH]cc1[N+](=O)[O-]']\n",
      "['CC1CC2(C1)CCO2'] ['CC1CC2(CCO2)C1']\n",
      "['O=C1C2CC(O)CC1O2'] ['O=C1C2CC(O)CC1N2']\n",
      "['CC12CN(CCO1)C2C'] ['CC1C2COC1(C)CO2']\n",
      "['CC1C=CC(O)C=CC1'] ['CC1C=CC(O)C2CC12']\n",
      "['C#Cc1n[nH]c(=NC)[nH]1'] ['C#CCN=c1[nH]cc[nH]1']\n",
      "['CC1OCC2COCC21'] ['CC1CC2(COC2)CO1']\n",
      "['CC1OC12C(O)CC2O'] ['OCC12CC1(O)CO2']\n",
      "['C1=CC2(CC1)CC2'] ['C1=CC2C(C1)C21CCC1']\n",
      "['CC1OC2C1C2N1CC1'] ['CC1OC2C1C2N(C)C']\n",
      "['CC1CC1C1(C)CC1C'] ['CC1CC1C1C(C)N1C']\n",
      "['COC1CC(C)C(O)O1'] ['COC1OCCC1O']\n",
      "['Nc1cn(C=O)nn1'] ['Nc1ccn(C=O)n1']\n",
      "['C1CC2(COC2)O1'] ['C1CC2(COC3CC32)O1']\n",
      "['CC(C)C(=O)NCC=O'] ['CC(C)C(=O)CNC=O']\n",
      "['CC1(CCO)CC(=O)C1'] ['CC1(CC=O)CC(O)C1']\n",
      "['N#CC1OC2CCC1C2'] ['NC1OC2C3CC(O3)C12']\n",
      "['CC1C2CC3(C)CC3C12O'] ['CC1C(C)C2(O)C(C)C12']\n",
      "['N=c1nc(N)c(N)no1'] ['N=c1nc(N)c(F)no1']\n",
      "['C1=NCC(CC2CO2)O1'] ['C1=NCC(C2CO2)O1']\n",
      "['CCCCC1CC1C'] ['CCCCC1CC1CC1']\n",
      "['CC12CC(O1)C(C)(O)C2=O'] ['CC12CC(O1)C(C)(=O)C2O']\n",
      "['N#CCCCC(N)C#N'] ['N#CCCC(N)C#N']\n",
      "['O=C1CCc2nnoc21'] ['O=C1CCc2cnnn21']\n",
      "['CC1C(O)C12CCCC2'] ['CC1C(O)C2CCC1C2']\n",
      "['CC1(O)C2CC(=O)C21O'] ['CC1C(=O)C2(O)C(O)C12']\n",
      "['CC1(C)N=C2NCC21O'] ['CC1(C)NC2=NCCC21']\n",
      "['O=C1C=CC2C3CC3N12'] ['O=C1C=CC2C3CN1C23']\n",
      "['CCc1nc(=N)nco1'] ['CCc1cc(=N)nco1']\n",
      "['CC12CN3CC(CC13)O2'] ['CC12CN3CC1OCC32']\n",
      "['O=COCCC1COC1'] ['O=COCC1COC1']\n",
      "['OCC1CC(CO)C12CO2'] ['OCC1(CO)CN1']\n",
      "['CC12CC(C=O)CC1C2'] ['CC12CC1CC2CC=O']\n",
      "['O=C1C(O)C2(CO)NC12'] ['O=C1CC2(O)C(CO)N12']\n",
      "['COC1CNC1=O'] ['COCC1CNC1=O']\n",
      "['CC1=CC2=CCOC2C1'] ['CC1=CC2OCC=C2C1']\n",
      "['Nc1cnccnc1=O'] ['Nc1cncncc1=O']\n",
      "['CNc1ccc(F)nc1'] ['CNc1ccc(F)cn1']\n",
      "['c1cc2c(o1)NC1CC21'] ['c1occ2c1C1NC1C2']\n",
      "['CC1(C#N)CC2NC21'] ['N#CC12CC3NC3C1N2']\n",
      "['CC(=N)c1cocn1'] ['CC(=N)Nc1cocn1']\n",
      "['CC1C2CC3NC3CN12'] ['CC12CC3NC3CN1C2']\n",
      "['CC1CCC1CC#N'] ['CC1CCC1CCC#N']\n",
      "['Nc1cnc(CCO)o1'] ['Nc1cc(CCO)co1']\n",
      "['CC1CN=COCC1O'] ['CC1CC(O)COC=N1']\n",
      "['N#CC1CC2COC2=N1'] ['CC(C#N)C1COC1=N']\n",
      "['CC12OCC1C2OC=O'] ['O=COC1COC12CC2']\n",
      "['CCN=C(C)N(C)C=O'] ['CCN(C)C(=O)C=NC']\n",
      "['CC1NC1(C)CNC=O'] ['CC1(CNC=O)CN1']\n",
      "['Nc1cc(C2CO2)co1'] ['Nc1ccc(C2CO2)o1']\n",
      "['COC1CC2(C1)CO2'] ['COC1CCC2(C)OC12']\n",
      "['CCOCCCOC'] ['CCOCCCOCC']\n",
      "['Cc1c(N)[nH]cnc1=N'] ['N=CNc1occc1N']\n",
      "['CC1OC(=N)C(C)(O)C1'] ['CC1(O)CCC(=N)OC1']\n",
      "['CC12CC3N1CC(=O)C32'] ['CC12CC3C1CC(=O)C32']\n",
      "['OC1CC1n1cccc1'] ['OC1CC1c1ccc[nH]1']\n",
      "['NC(=O)c1[nH]ccc1O'] ['[NH2+]=CNC(=O)C(=O)[O-]']\n",
      "['N=C1COC(=N)C(=N)N1'] ['Cc1noc(=N)c(=N)[nH]1']\n",
      "['CC1C2COC1=NO'] ['ON=C1C2CCC=CN12']\n",
      "['CC12COC3C(O1)C32C'] ['CC12COC3(CN3)C1O2']\n",
      "['CC(CO)CC(=O)C=O'] ['CNC(CO)C(=O)C=O']\n",
      "['CC12C=CCN1CC2O'] ['CC12C=CCC1C(O)C2']\n",
      "['C1=CC2COC2COC1'] ['C1=CCC2OCC2OC1']\n",
      "['O=Cn1nnc(=O)nn1'] ['O=Cn1nnonc1=O']\n",
      "['Cc1cc(O)ccc1N'] ['Cc1ccc(O)cc1N']\n",
      "['CC1=C(C=O)CC2CC12'] ['CC1=C(C=O)CC2CN12']\n",
      "['COc1ccnc(=O)[nH]1'] ['COc1nccc(=O)[nH]1']\n",
      "['C1CC2(CN2)C2OCC12'] ['C1CC2(CO2)C2OCC12']\n",
      "['CC(C)(C)CC1CO1'] ['CC(C)(C)CCC1CO1']\n",
      "['CC12CC1C1CC2O1'] ['CC12CN3CC3C1O2']\n",
      "['CC1CC1(C=O)C1CN1'] ['CC1NC1(C=O)C1CC1']\n",
      "['CC1(C)C2C3NC3C21'] ['CC1C2NC2C1N1CC1']\n",
      "['CC1CC=CC1(C)O'] ['CC1CC=CC1(O)C']\n",
      "['C1OCC2OC12C1CO1'] ['CC1OC12COCC2']\n",
      "['Cn1c(O)cc(O)c1N'] ['Cn1cc(O)c(O)c1N']\n",
      "['CC([NH2+]CC(=O)[O-])C1CO1'] ['CC(C#N)[NH2+]CC(=O)[O-]']\n",
      "['CC1(O)CC(=O)C1(C)O'] ['CC1(O)CC(O)C1=O']\n",
      "['C#CC1(O)CC(C)C1=O'] ['C#CC1(O)CC(=O)C1C']\n",
      "['N=C1OCc2ncoc21'] ['N=C1OCC(=N)O1']\n",
      "['CCC(O)C1(C=O)CN1'] ['CC(C)(O)C1NC1C=O']\n",
      "['N#CCCOC1CC1'] ['N#CCCCOC1CC1']\n",
      "['CN1CC(O)C1CO'] ['CN1CC(O)C1C(C)O']\n",
      "['O=C1C2NC1C1NC21'] ['O=C1C2NC3C1N1C2C31']\n",
      "['CC1(C=O)C(O)CC1'] ['CC1(CO)C(=O)CC1']\n",
      "['CC1C2C1C1(C)C(C)C21'] ['CC1C2C3OC3C12C']\n",
      "['CC1CC(=NO)C12CN2'] ['CC1CC12NCC2=NO']\n",
      "['CC12CC3C(OC1=N)C32'] ['CC12CC3OC(=N)C1C32']\n",
      "['N=C(N)C(=O)CO'] ['N=C(N)C(=O)C(=O)CO']\n",
      "['C#CC(CO)C(C)O'] ['C#CC(CO)C(C)CO']\n",
      "['CC1CCC(C(=O)[O-])[NH2+]1'] ['CCCC([NH3+])C(=O)[O-]']\n",
      "['O=C1CC(O)CC1O'] ['O=C1CC(O)CC1CO']\n",
      "['CC1CCC(O)CCO1'] ['CCC1CCC(O)CO1']\n",
      "['O=CN1C2CCOC21'] ['O=CN1C2CC(C=O)C21']\n",
      "['C1C2CC1C1CC1O2'] ['C1CC2C1C1CC(C1)O2']\n",
      "['CC1(C)OC1(C#N)CN'] ['CCC1(C#N)OC1CN']\n",
      "['CC(CO)C1OCC1=O'] ['CCC1OCC1(O)C=O']\n",
      "['Cc1[nH]nnc1N=CN'] ['Cc1nn[nH]c1NC=N']\n",
      "['COCCC(C)=NO'] ['COCCC(CC)=NO']\n",
      "['O=C1COCCCO1'] ['O=C1COCCCOC1']\n",
      "['O=CC1=CCCC=CC1'] ['O=CC1=CCN2CC2C1']\n",
      "['N=c1[nH]nc[nH]c1=N'] ['N=c1[nH]cn[nH]c1=N']\n",
      "['CC(C=O)C(C)(O)C=O'] ['CCC(O)(C=O)C=O']\n",
      "['CC1CC(O)C2CCC12'] ['CC1CC(O)C2CCC21']\n",
      "['OC12C3=CCCC1C2O3'] ['OC12C3CCC=C1C2C3']\n",
      "['O=CC12CC1OC2CO'] ['O=CC12OCC1C2CO']\n",
      "['CCC1N(C)C2CC12O'] ['CC1N(C)C2(C)CC12O']\n",
      "['CC1(O)COC12CCC2'] ['CC12OCCC1(O)CC2']\n",
      "['Nc1onc2[nH]cnc12'] ['Nc1onc2nnoc12']\n",
      "['C1CC2CCC1CC2'] ['C1CC2CCC3C1CC23']\n",
      "['O=CC1=CNCC12CO2'] ['O=CC1=CNCC12CN2']\n",
      "['O=CC12C=CC(O1)C2=O'] ['O=CC12C=CC(N1)C2=O']\n",
      "['CC1CC=CCC1=O'] ['CC1CC=CCN1C=O']\n",
      "['Nc1ccc(O)oc1=O'] ['Nc1ccc(O)c(=O)o1']\n",
      "['CCC(C(N)=O)C1CO1'] ['CCC(CC(N)=O)C1CO1']\n",
      "['C1C2C3C1C1(CO1)C23'] ['C1C2C3(CO3)C1C21CC1']\n",
      "['N=COC(=O)CCO'] ['N=COC(=O)COC=N']\n",
      "['COC(C=O)CC(C)O'] ['CCC(O)COCC=O']\n",
      "['N=C1OC(=O)O1'] ['N=C1OC(=O)OC12CC2']\n",
      "['NC(=O)C12CC1C1OC12'] ['NC(=O)C12OC1C1CC12']\n",
      "['CC1(O)CC1CCC=O'] ['O=CCCC1CC1(C)O']\n",
      "['CC1C2(CO2)C(O)C1O'] ['CC1C2C(O)C(O)C12O']\n",
      "['CCC(O)C1CCC1C'] ['CCC(O)CC1CCC1']\n",
      "['Nc1c[nH]cc1O'] ['Nc1c[nH]c2cc[nH]c12']\n",
      "['CN=C(N)NC=O'] ['NC1=NCC=C1C=O']\n",
      "['Cc1[nH]c(C#N)nc1N'] ['Cc1[nH]c(N)nc1C#N']\n",
      "['CC1Cc2cnoc2C1'] ['c1noc2c1CCC2']\n",
      "['CCC1(C)CC(C)C1=O'] ['CCC1CC(C)C1=O']\n",
      "['NC(=O)C1CC2CN21'] ['NC(=O)C1CC2CC21']\n",
      "['N#CC(O)C1COCO1'] ['NC1(CO)COCO1']\n",
      "['C#CC1CC=CCCC1'] ['C#CC1C=CCCCC1']\n",
      "['COC(=O)C(C)C=O'] ['CC(=O)C(C)OC=O']\n",
      "['CCC(C=O)OC=N'] ['N=COC1CCC1C=O']\n",
      "['CN1CC12COCC2O'] ['CN1CC1C(O)COC']\n",
      "['CCOc1nc(C)co1'] ['CCOc1ncco1']\n",
      "['CC1=NC2C(C#N)C2N1'] ['N#CC1=NC2CC2(O)C1']\n",
      "['CC1OC12CN1CC12C'] ['CC1OC12CN1CC12']\n",
      "['Cc1nc2c([nH]1)CCO2'] ['Cc1[nH]nc2c1OCC2']\n",
      "['CCN=C(NC=O)NC'] ['CCNC(=O)CNC=O']\n",
      "['CC1(O)C2NCC(=O)C21'] ['CC1NC12C=CCC2=O']\n",
      "['C1NC2C1NC21COC1'] ['C1NC2C1OC21COC1']\n",
      "['CCN(C=N)C(N)=O'] ['N=C(N)N1CCCC1=N']\n",
      "['CC(O)C1NC1(C)CO'] ['CC(O)C1(C)NC1CO']\n",
      "['C1=NCC2CC(CO1)C2'] ['C1=NCC2CCC2CO1']\n",
      "['NC(=O)Oc1ncno1'] ['NC(=O)Oc1ncon1']\n",
      "['CC1(C)C2COC(=O)C21'] ['CC1C2COC(=O)CN12']\n",
      "['COCC1(COC)CO1'] ['COCC(COC)OC']\n",
      "['OC1CC12C=CCC2'] ['OC1CC2C3CC=C1C32']\n",
      "['N=c1cc[nH]c(O)c1F'] ['N=c1cc(O)[nH]cc1O']\n",
      "['O=Cn1nc(O)c(O)n1'] ['O=Cn1nc(O)c(O)o1']\n",
      "['Nc1nnoc1C1CO1'] ['Nc1ncoc1C1CO1']\n",
      "['CC1CCC2C3CC3C12'] ['CCC1CC2C3CC1C23']\n",
      "['O=[N+]([O-])c1cccnc1'] ['O=[N+]([O-])c1ccccn1']\n",
      "['N=c1[nH]cc(CC=O)o1'] ['N=c1[nH]cc(C=O)o1']\n",
      "['O=COCCCOC=O'] ['O=COCCOC=O']\n",
      "['CN(C)c1cnncn1'] ['CN(C)c1cncnn1']\n",
      "['O=CC1Cc2cocc21'] ['O=CC1OC12CCC2']\n",
      "['CCc1cocc1NC'] ['CCc1ccoc1NC']\n",
      "['CC1(C)NC1C1CC1O'] ['CC1(C)CC1(O)C1CO1']\n",
      "['CN1C(=O)CC2C(C)C21'] ['CC1C2C(=O)N(C)CC12']\n",
      "['CC1(C(O)CO)CO1'] ['CC(O)C1(CO)CO1']\n",
      "['COC1C(CO)C1OC'] ['COC1C(C)C1OCC']\n",
      "['CCC1(O)CC2(CC2)O1'] ['CC1CC2(O)CC2O1']\n",
      "['CC1(CO)CCOCC1'] ['CC1(CO)CCCOC1']\n",
      "['CC1CC(O)C1CO'] ['CC1CC(O)(CO)C1C']\n",
      "['CC1CC1C(=O)C(C)O'] ['CC1C(=O)C(O)C2CC12']\n",
      "['N=C1NC(=O)C2CC1N2'] ['N=C1NC2CC(O1)C2=O']\n",
      "['CC1=CCCC1(N)C#N'] ['CC12CC1C(N)(C#N)C2']\n",
      "['CC1OC2C3C(O)C2C13'] ['CC1OC2C3CC2C13O']\n",
      "['N=COC1CC12CCO2'] ['N=COCC1CCO1']\n",
      "['OC12C=CCC1(O)C2'] ['OC12C=CC3C1C3(O)C2']\n",
      "['O=C(C1CO1)C1CC1O'] ['CC(=O)C1C(O)C1CO1']\n",
      "['CC(O)C1NC(=N)C1O'] ['CC1NC(=N)C1(O)CO']\n",
      "['O=CCn1ccnn1'] ['CC(C=O)n1ccnn1']\n",
      "['OCC12NC1CC1OC12'] ['OCC12NC1CN1CC12']\n",
      "['CC(OC=O)CN1CC1'] ['CC1CC1COC=O']\n",
      "['CNc1nc(O)c(C)[nH]1'] ['CNc1nc(O)co1']\n",
      "['O=CCN1CC(C=O)C1'] ['O=CCN1CCC1C=O']\n",
      "['CC12CC3OC3C(C1)O2'] ['CC12CC3(CO3)C(C1)O2']\n",
      "['CC1C(N)C1(N)C#N'] ['CC1CC(N)(C#N)C1N']\n",
      "['CCC1(C2CO2)CN1C'] ['CCC1CN1CC1CO1']\n",
      "['O=c1[nH]c2c(o1)CCC2'] ['Cc1[nH]c(=O)oc1C']\n",
      "['C#CC1C(=O)N(C)C1C'] ['C#CC1CC(=O)N1CC']\n",
      "['O=CNC1(CO)CC1O'] ['CC(O)C1(O)CC1C=O']\n",
      "['Cc1nn[nH]c1N=CN'] ['Cc1nc(N=CN)n[nH]1']\n",
      "['CCc1ncc(F)nn1'] ['CCc1cnc(F)nn1']\n",
      "['N=COC(=O)C(O)CO'] ['CC(O)C(=O)C(=N)N']\n",
      "['CC(C#N)NC1CC1'] ['CC(C#N)NC1(C)CC1']\n",
      "['CC12NC1CC(=O)C2=O'] ['CC1NC2(C)C(=O)C12']\n",
      "['CC(CO)C(C)CCO'] ['CC(CO)C(C)CO']\n",
      "['N#CC12CC1N=C(N)N2'] ['N#CC12CC1N=C(N)O2']\n",
      "['CCC12C3CN3C1(C)C2'] ['CCC12C3CC3C1N2C']\n",
      "['CC12COCC(=O)C1N2'] ['O=C1COCC2(CN2)C1']\n",
      "['CC1OC1C(C)(C)C=O'] ['CC1CC2(C=O)OC12C']\n",
      "['O=C1CC=CC(O)CC1'] ['O=C1CC=CCC(O)C1']\n",
      "['O=c1occ2n1C=CC2'] ['O=C1CC2CC=CN12']\n",
      "['c1onc2nnoc12'] ['c1onnc2ncoc12']\n",
      "['N=c1occ(OC=N)o1'] ['N=COc1coc(=N)o1']\n",
      "['C#CC1C(O)C(CO)C1'] ['C#CC1C(O)CC1CO']\n",
      "['CC1OCOC(=O)C1'] ['CC1CC(=O)OCO1']\n",
      "['CC1(O)CC2CN3C2C31'] ['CC1(O)CC2C3C1CN23']\n",
      "['CC1CC2(C)CC12O'] ['CC1CC2(O)C(C)C12C']\n",
      "['CCC(=O)CN1CC1'] ['COCCC(=O)N1CC1']\n",
      "['C1OC2C3C4OC1C2C43'] ['C1OC2C3C4OC1C2C34']\n",
      "['Cc1cc(O)cnc1F'] ['Cc1cc(O)ncc1F']\n",
      "['CC#CC1(C)CN1CC'] ['CC#CC12CCC1N2C']\n",
      "['C1=CC2CC3OC3C2C1'] ['C1=CC2CCC3OC3C21']\n",
      "['CC1C2OC(=O)C1C2C'] ['CC1C2CC1C(=O)O2']\n",
      "['NC(=O)N1C2CC3C2C31'] ['NC(=O)N1C2C=CCC21']\n",
      "['CCC1CC=CC1C'] ['CCC1C=CCC1C']\n",
      "['OC1(C2CO2)C2CC1C2'] ['OC1(C2CO2)C2CCC21']\n",
      "['CC1COC(=O)CO1'] ['CC1OCCOC1=O']\n",
      "['N#CC(CO)N1CC1'] ['N#CCN1CC1CO']\n",
      "['Cc1nc[nH]c1C(C)O'] ['Cc1nc(C(C)O)c[nH]1']\n",
      "['O=CC1C2CCC1C2O'] ['O=CC1C(O)C2CCN12']\n",
      "['OCC1CC2OC12'] ['OCC1CC2OC2C1']\n",
      "['CC(=N)Oc1ccco1'] ['CC(=O)Oc1ccco1']\n",
      "['CCC(C)C1CCO1'] ['CCC(C)CC1CCO1']\n",
      "['O=CC1=NCC2(CC2)O1'] ['O=CC1=NC2CC2O1']\n",
      "['CCC1CCOC1=NC'] ['CCC1COC(=NC)C1']\n",
      "['Cc1oc(=O)n(C)c1O'] ['Cc1oc(=O)n(C=O)c1']\n",
      "['CC1C=C2NCC(=O)C21'] ['CC1NC2C(=O)NC=C12']\n",
      "['CC#CC1(C=O)OCC1O'] ['CC1(C=O)OCC1O']\n",
      "['CC12C3C4C1C2(C#N)N43'] ['CC12C3C4C1C2(N)C43C#N']\n",
      "['C#Cc1cnc(=N)oc1'] ['C#Cc1cccoc1=N']\n",
      "['N#CC1(CO)CCCO1'] ['N#CC(O)C1CCCO1']\n",
      "['C1CC2(CCC23CN3)O1'] ['C1CC2(O1)C1COC2C1']\n",
      "['CC1C(=O)C2OCC1O2'] ['CC1C(=O)OC2COC21']\n",
      "['N#CC1(N)C2CCC=C21'] ['N#CC1(C2CCC2)CO1']\n",
      "['c1n[nH]c2cnoc12'] ['c1noc2cn[nH]c12']\n",
      "['C#CC12OCC1(O)C2C'] ['C#CC12OCC1(C)C2O']\n",
      "['CC12CCC(CC1)O2'] ['CC12CCC3C(CC1)O32']\n",
      "['C#CC(C)N=C(C)OC'] ['C#CC(C)N=CNC']\n",
      "['CCCC(C)C1CO1'] ['CCC(CC)C1CO1']\n",
      "['C#CCC(=O)C(=N)N'] ['C#CC(N)C(=O)C(=N)N']\n",
      "['CCCC(C)CC'] ['CCC(C)CCC']\n",
      "['CC12CCOCC1C2O'] ['CC1=CCCOCC1O']\n",
      "['COCC(=O)C=O'] ['COCC(=O)OCC=O']\n",
      "['CC1C2C(=NO)CN12'] ['CC1C2C(=NO)C(C)N12']\n",
      "['CC1(O)CC2CC2C1=O'] ['CC1C(O)CC(=O)OC1']\n",
      "['O=C1C2CCCN3C1C23'] ['O=C1C2CCN3C(C2)C13']\n",
      "['CC1CC=CCC(C)C1'] ['CC1CC2(C)CC=CC12']\n",
      "['CC1CCCC2CC12C'] ['CC1CCCC2(C)CC12']\n",
      "['C#CC(C#CCC)CO'] ['C#CC(C)C#CCCO']\n",
      "['CC1(C)CCOC1CO'] ['CC1OCCC1(C)CO']\n",
      "['CC1C=CCC1(O)C#N'] ['CC1CC=CC1(O)C#N']\n",
      "['c1ncc2cnoc-2n1'] ['c1ncc2nonc12']\n",
      "['O=C1C2CC1N1CC2C1'] ['O=C1C2CC1N1CCC21']\n",
      "['CC1C(C)C1C(=O)C=O'] ['CC1(C)CC1C(=O)C=O']\n",
      "['COCC(CO)CC#N'] ['COCC(C#N)CCO']\n",
      "['CCC1COCN=CO1'] ['CC1COCN=CO1']\n",
      "['CC(=N)OCC(C)=NO'] ['COC(=N)CC(C)=NO']\n",
      "['O=C1C2CC(CO)C1C2'] ['O=C1C2CC(CO)(C2)C1']\n",
      "['OCC1NC1C(F)(F)F'] ['OCCNCC(F)(F)F']\n",
      "['CCC1(C2CC2)C=CC1'] ['CC1C2CN2C12COC2']\n",
      "['CN1Cc2n[nH]nc2C1'] ['CN1Cc2c[nH]nc2C1']\n",
      "['Nc1n[nH]nc1N'] ['Nc1c[nH]nc1N']\n",
      "['c1cccocncn1'] ['c1cncocncc1']\n",
      "['OCC12CCC=C1CO2'] ['OCC12C=CCC(C1)O2']\n",
      "['O=CC1C=CCNC1=O'] ['N#CC1NCC=CC1=O']\n",
      "['O=C1C(O)CCC2CN12'] ['COC(=O)C1NC1CO']\n",
      "['C#CCC(C#C)C#C'] ['C#CCC(C#C)C#N']\n",
      "['C#CCCCCOC'] ['C#CCCCCCOC']\n",
      "['Cc1nn(C)c(=O)[nH]1'] ['Cc1n[nH]c(=O)n1C']\n",
      "['CC(C)C1=CC2CC1C2'] ['CCC1=CC2CC1C2']\n",
      "['CCCc1c[nH]nc1N'] ['CCc1[nH]nc(N)c1C']\n",
      "['N#CC1(N)C(O)C2OC21'] ['N#CC1(O)C(N)C2NC21']\n",
      "['CC1=C(C)C2CCC2C1'] ['CC1=C2CCC2(C)CC1']\n",
      "['CCC1C(C)C1(C)C#N'] ['COC1(C)C(C)C1C#N']\n",
      "['CC(C)C1C(O)C1OC'] ['CCC1C(O)C1OC']\n",
      "['CN1C=NC2(C=O)CC12'] ['CN1C=NC2CC21C=O']\n",
      "['CC(O)C1CN1C=O'] ['O=C1CC(O)CC2CN12']\n",
      "['O=Cn1nccn1'] ['O=Cn1ncnn1']\n",
      "['Oc1cccc(F)n1'] ['Oc1nccc(F)n1']\n",
      "['C#CC(C)C#CC'] ['C#CCC(C)C#CC']\n",
      "['COC1CC2(C)CC1C2'] ['COC1CCC12CCC2']\n",
      "['OC12C=CCC(CC1)C2'] ['OC12CC=CC(CC1)C2']\n",
      "['CC1CC=CCC2CC2O1'] ['C1=CCC2CC2OC1']\n",
      "['CC#CC#CCC#N'] ['CC#CCC#CCC#N']\n",
      "['CC1CC(C#N)C12CO2'] ['CC1C(C#N)CC12CO2']\n",
      "['c1n[nH]cc1CC1CO1'] ['c1n[nH]c2c1C1CC1O2']\n",
      "['CC1(O)CCC(=O)C1O'] ['CC1(O)C(=O)CCC1O']\n",
      "['CC1C2NC2(C)C12CN2'] ['CC1N2CC3C(C2)C13C']\n",
      "['OC1C2C3C2N2C1C32'] ['OC1C2C3OC4C1C4C32']\n",
      "['CC1C2CC3(CC3C)N12'] ['CC1C2CN1C(C)C21C']\n",
      "['CCC1C=CC=CC=C1'] ['CC1C=CC=CCC=C1']\n",
      "['CC12C(=N)OC1C2O'] ['N=C1OCC12CC1CC12O']\n",
      "['CN=C1CC(CO)O1'] ['CN=C1CC(CCO)O1']\n",
      "['CC1C2CC3CC3C1C2'] ['CC1C2CCC2C2CC12']\n",
      "['N=c1ccc(=O)onn1'] ['N=c1ccc(=O)nno1']\n",
      "['CCC12CC3OC1C32O'] ['CCC12CC3(O)C1N3C2']\n",
      "['O=c1nc(F)nno1'] ['O=c1nc(F)onn1']\n",
      "['CCC12NC1CC2OC'] ['CCC12CC(OC)C1O2']\n",
      "['O=CC1(O)CC1CO'] ['O=CC1CC1(O)CO']\n",
      "['C#CC12N=CN3CC1C32'] ['C#CC12N=C3OCC1C32']\n",
      "['O=C1CC(CO)N=CN1'] ['O=C1CCC(CO)=CN1']\n",
      "['CC1C2NC2(C#N)C1C'] ['CC1NC2(C#N)CC12']\n",
      "['[NH3+]C(CO)NCC(=O)[O-]'] ['NC(=[NH2+])CC(O)C(=O)[O-]']\n",
      "['C1C2OC3C1C1(CC1)C23'] ['C1C2OC3C1C1C2C31']\n",
      "['N=COC(=O)C=O'] ['N=COC(=O)C(=O)C=O']\n",
      "['C1OCC23COC12CO3'] ['C1OCC23CC12CO3']\n",
      "['CC1CCCC2OC12'] ['CC1CCCC2OC2C1']\n",
      "['c1[nH]cc2c1CCCN2'] ['c1[nH]nc2c1NCCC2']\n",
      "['CC1=CCCOCC1'] ['CC1=CCOCCC1']\n",
      "['N#CC1(O)C2CCC1N2'] ['CC1C2NC1C2(O)C#N']\n",
      "['CC1CCC(C)C1'] ['CC1CCC(C)CC1']\n",
      "['CN=C1OC2CC3C1C23'] ['CN=C1OCC2CC12']\n",
      "['Cc1noc(O)cc1=N'] ['Cn1nc(=N)ccc1O']\n",
      "['COCC1C2CCN12'] ['COCC1CC2CN12']\n",
      "['Cn1cnc(=O)nc1F'] ['Cn1cncnc1=O']\n",
      "['C1OCC2(COCO2)C1'] ['C1OCC2(C1)COCO2']\n",
      "['OCC1CC(O)CC1O'] ['COC1C(O)CC1O']\n",
      "['OC12CCC3C4C3N1C42'] ['OC12CCC3C4C1N4C32']\n",
      "['OC1CCC1C(O)C1CO1'] ['OC1CC(O)C1C1CO1']\n",
      "['CCn1cc(N)cc1C'] ['CCn1cc(N)c(C)c1']\n",
      "['CC12CCC1CCO2'] ['CC12OCCC1CC2']\n",
      "['CC12C=CC(C1)C(=O)O2'] ['CC1C2C3NC(=O)N1C32']\n",
      "['CC1C(O)C12CC21CO1'] ['CC12COC3C(C1)C32O']\n",
      "['CCCCC(C#N)CO'] ['CCCC(C#N)CO']\n",
      "['CC1C2C3C2C2(C)C1N32'] ['CC1C2C3C4C(N23)C14C']\n",
      "['c1coc(CC2CN2)n1'] ['c1nc(CC2CN2)co1']\n",
      "['C#CC1NCC1C#N'] ['C#CC1C2CNC12C#N']\n",
      "['O=CC1=NCC(=O)CO1'] ['O=CCOC(=O)C=O']\n",
      "['CC(O)C(C#N)C=O'] ['CC(O)C(C#N)CC=O']\n",
      "['Cc1ccnn1CCO'] ['Cc1ccn(CCO)n1']\n",
      "['CC1CN2CC1C2C#N'] ['CC1C2CN(C2)C1C#N']\n",
      "['C#CCN1CC1(C)C#N'] ['C#CC1(C)CN1CC#N']\n",
      "['C1C2OC1C1OC21'] ['C1C2OC1C1CC2O1']\n",
      "['CCC1(C#N)CNC1C'] ['CC1CNC1(C#N)CC']\n",
      "['Cc1nocc1N(C)C'] ['Cc1cnoc1N(C)C']\n",
      "['CN(C=O)CC1CO1'] ['CN(C=O)CC1(C)CO1']\n",
      "['CC1C2CC3CC2C1O3'] ['CC12CC1C1CC2CO1']\n",
      "['CC1(C2CN2)CC(=O)O1'] ['O=C1CC(C2CN2)O1']\n",
      "['CC1OC2C1C21CCC1'] ['C1CC2(CO2)C2COC12']\n",
      "['CC#CC1C=CCC1=O'] ['O=CC1OC12CC=CC2']\n",
      "['CC1C2CC(=N)OCC12'] ['CC1(C)C=CCC(=N)O1']\n",
      "['[NH3+]C1CC2CC12C(=O)[O-]'] ['[NH3+]C1CN2CC12C(=O)[O-]']\n",
      "['O=C1CCc2cncn21'] ['Cn1ncn2c1CC=C2']\n",
      "['C1C2C1C1OC1C1C2'] ['O1C2C1C1C3C4C2C4N13']\n",
      "['CCC1COC(=NC)C1'] ['CN=C1CC(C)CO1']\n",
      "['C[NH+](C)C1(C(=O)[O-])CC1'] ['C[NH+](CC(=O)[O-])C1CN1']\n",
      "['CC1(C#N)CC1O'] ['N#CC1CCC12CC2O']\n",
      "['CC1=CCCC1C#N'] ['CC1=CCC(C#N)C1C']\n",
      "['CCC1(C(O)C#N)CO1'] ['CCC(O)(C#N)C1CO1']\n",
      "['CC#CCC1CC12CO2'] ['CC#CCC1CCO1']\n",
      "['CCOC1=NC(C)CN1'] ['CCNC1=NCCO1']\n",
      "['CCC1COC2CN1C2'] ['CC1CC2OCCOC12']\n",
      "['CCOC(C)C(CO)O'] ['CCOC(C)C(O)CO']\n",
      "['CC(O)C12CC1CO2'] ['CC(O)C1OCC2NC21']\n",
      "['C1=C2COC2COCC1'] ['C1=C2CCOC2OCC12']\n",
      "['CC1=NCCOC(=O)O1'] ['O=C1CCCOC(=O)O1']\n",
      "['CC(C#N)C(C)(O)C#N'] ['CC(C#N)C(O)C#N']\n",
      "['N#CC1=CCCCC1'] ['N#CC1=CCCCCC1']\n",
      "['OC1CC1C12CC(C1)O2'] ['OC1C2CC1C1(CC1)O2']\n",
      "['CC1=CC(C)(C)OC1C'] ['CC1=CC(C)OC1(C)C']\n",
      "['CCCN1CC1CC#N'] ['CCC1CN1CCC#N']\n",
      "['O=COc1nc(O)c[nH]1'] ['O=COc1n[nH]c(O)n1']\n",
      "['CC1COC2CC1(C)C2'] ['CC12CCOC(CC1)C2']\n",
      "['N#CC1C2C3N1CC23O'] ['N#CC1C2N3CC1C32O']\n",
      "['O=C1CCCN1CCO'] ['O=C1CCCCN1C=O']\n",
      "['CC1=CNC(C)(C)C1=O'] ['CC1(C)CNC=CC1=O']\n",
      "['O=C1CC2OC2C(=O)N1'] ['O=C1CC2CC2C(=O)N1']\n",
      "['C1OC2CCC(C2)O1'] ['C1OCC2CC(C2)O1']\n",
      "['CC1N(C)C12COC2=N'] ['CC1(C)NC12COC2=N']\n",
      "['Nc1nccc(F)n1'] ['Nc1ccnc(F)n1']\n",
      "['C#Cc1nn[nH]c1OC'] ['C#Cc1[nH]nnc1OC']\n",
      "['O=C1CC2(CCO2)O1'] ['O=C1OC2C(COC2)O1']\n",
      "['N=C1CCC=CCO1'] ['N=C1OCCCN2CC12']\n",
      "['CC1C(=O)CCN2CC12'] ['CN1CC1C(=O)C1CC1']\n",
      "['N#CC1C2C3CN3C12'] ['N#CC1C2C3CN3CC12']\n",
      "['CN1C=C(C=O)C1=O'] ['CN1C=C(C=O)CC1=O']\n",
      "['CCCN=c1[nH]cno1'] ['CCN=c1[nH]c(C)co1']\n",
      "['C1NC2C3NC(=N1)C32'] ['N#CC1NCC12CC2']\n",
      "['CN=C1NC(=O)CC1O'] ['O=C1NCCC1=O']\n",
      "['N=COCc1ccoc1'] ['N=COCc1cocn1']\n",
      "['CCC(N)(C#N)CNC'] ['CNC(C#N)(CN)CC']\n",
      "['CC1COC2=NCCN21'] ['CC1CN2CCOC2=N1']\n",
      "['O=C1C2CCC(C2)C1O'] ['O=C1C(O)C2CCC1C2']\n",
      "['OC1(C2CCCC2)CC1'] ['CCC1(O)CC1C1CC1']\n",
      "['CC1(C)CCC1CC=O'] ['CC1(C)CCCC1C=O']\n",
      "['CC12COC3OC1C2C3'] ['CC12COC3OC1C32']\n",
      "['CC(=O)CNCC=O'] ['CC(=O)C(C)NCC=O']\n",
      "['CC(C#N)CC(=O)C1CC1'] ['CC(CC#N)C(=O)C1CC1']\n",
      "['O=C1COC1CN1CC1'] ['O=C1CNC1CN1CC1']\n",
      "['O=C1C(=O)C2CCC1O2'] ['O=C1C(=O)C2CCC1N2']\n",
      "['CNc1nnn(C)c1N'] ['CNc1c(N)nnn1C']\n",
      "['COCC1(C)OC1(C)C'] ['COCC1(C(C)C)CO1']\n",
      "['C12C3C1C1C4C1C3C24'] ['C1C2C1C1CC21']\n",
      "['CCc1oc(O)nc1C'] ['CCCc1nc(O)on1']\n",
      "['CCN(CC)C(=O)C#N'] ['CCN(CC#N)C(C)=O']\n",
      "['CCCn1cncc1C'] ['CC1CCn2cncc21']\n",
      "['CCC1(C)C(C)N1C=O'] ['CCC1(C)CC1N(C)C=O']\n",
      "['Cc1ccnc(C)c1F'] ['Cc1cc(C)c(C)nc1']\n",
      "['CC1C(C=O)C12CCC2'] ['CC1C2CCCC12C=O']\n",
      "['C#CC1CCC(=NO)C1'] ['C#CC1CCCC1=NO']\n",
      "['CN1CC1C1(O)CC1O'] ['CN1CC1C(C)(O)C#N']\n",
      "['CC1CC(C=O)N2CC12'] ['CC1C(C=O)CC2CN21']\n",
      "['CNC(=N)c1c[nH]nn1'] ['Cc1n[nH]cc1NC=N']\n",
      "['COCC(C)(O)C#N'] ['COCC(C)(O)CO']\n",
      "['ON=C1C2OC1C1OC21'] ['ON=C1C2OC1C1CC21']\n",
      "['CC1C=CC2C3CN3C12'] ['CC12C=CCC3C4C1N32']\n",
      "['C1=CC2CC=CC2CC1'] ['C1=CC2CCC=C2CC1']\n",
      "['C1=CCC=CCCC=C1'] ['C1=CC2CC(C=C1)C2']\n",
      "['Nc1cc(F)c(=O)cn1'] ['Nc1cnoc1N']\n",
      "['C1CC2C3(CO3)CC12'] ['C1CC2(CO2)C2CC12']\n",
      "['O=Cn1cc(O)nc1O'] ['O=Cn1ccc(O)c1O']\n",
      "['O=CC1OCCC2CC21'] ['O=CC12CC1CCCO2']\n",
      "['CCN1C2CC1C(=O)C2'] ['CCN1C2CC1C(=O)N2']\n",
      "['COc1ncc(F)n1'] ['COc1ncc(CO)n1']\n",
      "['CC1CCC1(N)C#N'] ['N#CC1(N)CCCC1']\n",
      "['CC12COC(CO1)C2O'] ['CC12COC(CO1)CO2']\n",
      "['N=C1CN(C(O)CO)C1'] ['O=C1C=C(CO)NCC1']\n",
      "['CC1CC2CC1(O)C2'] ['CC1(C)CC2(O)CC1C2']\n",
      "['N#CC(N)CN=CC=O'] ['N#CC(=O)CN']\n",
      "['OCC1C2C3C=CC2N31'] ['OCC1C2C3CN1C32']\n",
      "['Cc1ncc(F)[nH]c1=O'] ['Cc1ncc(=O)[nH]n1']\n",
      "['O=CC(O)C(O)CO'] ['CC(O)(CO)C(O)C=O']\n",
      "['CC1NC1C1OCC1O'] ['CC1C(O)C12CCO2']\n",
      "['O=CC12C=CC3C1NC32'] ['O=CC12C=CC3C1OC32']\n",
      "['Cc1nccc(=O)cc1'] ['Cc1ccnc(=O)cc1']\n",
      "['N#CC12C3NC1C2CO3'] ['N#CC12C3NC1C2OC3']\n",
      "['CC1(C2COC2C=O)C1'] ['CC1(CC=O)C2COC21']\n",
      "['CC1CCCC(=O)NC1'] ['CC1CCNC(=O)CC1']\n",
      "['CN=C1NC(C)(C)C1O'] ['CN=C1NC(C)C1(C)O']\n",
      "['Nc1n[nH]cc(N)c1=O'] ['Nc1n[nH]c2[nH]cnc12']\n",
      "['O=CCC1C=CCCC1'] ['O=CC1CC=CCCC1']\n",
      "['C1=CC2CC1OCO2'] ['C1=CC2CC(O1)OCO2']\n",
      "['Cn1ncc(=N)nn1'] ['Cc1nn(C)nnc1=N']\n",
      "['CNC1C(C=O)C1C=O'] ['CNC1C(C=O)C2NC21=O']\n",
      "['CC(=O)C(O)CO'] ['CC(=O)C(O)C(O)CO']\n",
      "['NC(=O)CC1(O)CC1O'] ['NC(=O)C1CC2CC21O']\n",
      "['N=C1OCC(=O)C2CC12'] ['N=C1CC(=O)C(=O)CO1']\n",
      "['CC1(C2CC=CC2)CC1'] ['CC1(C)CC12CC=CC2']\n",
      "['OC1CC2CC1OC2O'] ['OC1CC2COC1C2O']\n",
      "['CC#Cc1cnc(C)o1'] ['CC#Cc1ncc(C)o1']\n",
      "['CC1C(C[NH3+])C1C(=O)[O-]'] ['CC1C([NH3+])C1(C)C(=O)[O-]']\n",
      "['C1COC2COC2=NC1'] ['C1COCC2COC2=N1']\n",
      "['CC12CCC3C1C=CC32'] ['CC12CCC3C1OC32']\n",
      "['CC1C=CC2CN2C1=O'] ['CC1C=CC2C1C2C#N']\n",
      "['OC1CC2C3C(O)C2N13'] ['OC1CC2C(O)C1C2']\n",
      "['CC1(O)C[NH2+]C1C(=O)[O-]'] ['CC1[NH2+]C(C(=O)[O-])C1O']\n",
      "['CC1CC2(O)COC1C2'] ['CC1CC2(O)CCOC12']\n",
      "['CCC12CC1C(=O)N2C'] ['CCN1C(=O)C2(C)CC12']\n",
      "['CC1CC1C(O)(CO)CO'] ['CC1CC1C(CO)(O)CO']\n",
      "['C#CCc1cncnn1'] ['C#Cc1cncnn1']\n",
      "['O=Cc1ccn[nH]c1=O'] ['O=Cc1connc1=O']\n",
      "['C1CCC2OC2CC1'] ['C1CCC2(CC1)CO2']\n",
      "['CCC1(C=O)CC1CC'] ['CC1CC2(C=O)C(C)C12']\n",
      "['CC1C2COC(O2)C12C'] ['CC1C2COC1C1OC21']\n",
      "['CC12CN3C1CC3(C)O2'] ['CC12CN3CC(CO1)C32']\n",
      "['Cc1ccc(O)cc1N'] ['Cc1ccc(O)c(N)c1']\n",
      "['N#CC12CNC1(CO)C2'] ['N#CC12CC1(O)CN2']\n",
      "['CNc1cnnoc1=N'] ['CNc1ccnoc1=N']\n",
      "['CC1CC(=O)NC12CC2'] ['CC1CC12CCC(=O)N2']\n",
      "['CC12C3NC1C2OC3=N'] ['N=C1OC2C3CC1C32']\n",
      "['CC1(O)C(O)C12COC2'] ['CC1(C)COC1CO']\n",
      "['[NH2+]=CNc1coc([O-])c1'] ['NC=[NH+]c1coc([O-])c1']\n",
      "['COC1CC(=O)C(O)O1'] ['COC1CC(=O)CO1']\n",
      "['CC1NC1(C)C1CC1O'] ['CC1NC1C1(C)CC1O']\n",
      "['O=C1C=C(CO)CCN1'] ['O=C1CCC(CO)=CN1']\n",
      "['CC#Cc1ncc(C)[nH]1'] ['Cc1nc2c([nH]1)CCC2']\n",
      "['CCC1C(C#N)C2CC12'] ['CC1CC2CC12C#N']\n",
      "['Cc1noc(=O)nc1N'] ['Cc1nc(N)cc(=O)o1']\n",
      "['CC1OCC(=N)NC1=O'] ['CC1NC(=N)C(=O)CO1']\n",
      "['CC12C(O)C(C1O)C2O'] ['CC1C2C(O)C1C2O']\n",
      "['CC(=O)C(C=O)OC=O'] ['CC(C=O)OC=O']\n",
      "['CC(CCO)=NO'] ['CC(CCOC=NO)=NO']\n",
      "['OC1C2C3COC2C13O'] ['OC1C2C3CCN2C13O']\n",
      "['CC1C2C3CCC2C13'] ['CC1C2CCC2C2CC12']\n",
      "['CC1=CC(=NO)C(=O)C1'] ['CC1=CCC(=O)C1=NO']\n",
      "['CC1CC(O)C1NC=O'] ['CC1C(O)CC1NC=O']\n",
      "['CCC1(CC(=O)[O-])C[NH2+]1'] ['CC(CC1C[NH2+]1)C(=O)[O-]']\n",
      "['CC1CC12CCOC2O'] ['CC12CCOC1CC2O']\n",
      "['Cc1cn[nH]c(=N)c1N'] ['CNc1cnnoc1=N']\n",
      "['Cn1cnc(=O)nc1F'] ['Cn1cnc(=O)nc1C']\n",
      "['CNc1cc(N)n(C)n1'] ['CNc1cn(C)nc1N']\n",
      "['CCC1CCCCOC1'] ['CCC1CCCOCC1']\n",
      "['N=C1OCc2ncoc21'] ['N=C1OCc2ccoc21']\n",
      "['CC1OC2CCC(=O)C12'] ['CC12COC(CC1=O)C2']\n",
      "['CCc1nc(F)cco1'] ['CCc1ncon1']\n",
      "['C#CC#CCCCOC'] ['C#CC#CCCOC']\n",
      "['N=CN1CC(=N)OC1=O'] ['N=CN1CC(=O)OC1=N']\n",
      "['CC1C2COC(O2)C1'] ['CC1CC2OCC1O2']\n",
      "['CC12CC=CC1(O)C2C'] ['CC12C=CCC1(O)C2C']\n",
      "['CN1C2C3C4CC3C4C21'] ['CN1C2C3CC(C3)C21']\n",
      "['O=C1NC2CCCOC12'] ['O=C1NC2CCOCC12']\n",
      "['Cn1nnc2c1NCC2'] ['Cn1ncc2c1NCC2']\n",
      "['CC1CC1(O)C(C)(C)C'] ['CC(C)C1(C)CC1O']\n",
      "['CC1(O)CC1CO'] ['OCC1CC1(O)CO']\n",
      "['N=C1OC2CC1C2=O'] ['N=C1OC2CC1(C=O)C2']\n",
      "['C1CC2C3COC1CN23'] ['C1CC2C3OCC(O1)C23']\n",
      "['C1CC2C1C2'] ['C1CC(C23CC(C2)C3)C1']\n",
      "['CC1C2CCC2C1=O'] ['CC1C(=O)C2CCC1C2']\n",
      "['CC12COC(C1)OC2=N'] ['CC12COC(C1)C(=N)O2']\n",
      "['C1=CC2C3C4OC4C1N23'] ['C1=CC2NC1C1OC21']\n",
      "['COC(=O)C1CC1O'] ['COC(=O)CC1(O)CC1']\n",
      "['CC(O)CCC1CC1'] ['CC(O)CC1CC1']\n",
      "['CCC1C2COC12C=O'] ['CCC1CC2(C=O)CN12']\n",
      "['O=CC1C(O)C2CC12'] ['O=CC1C2C(CO)NC12']\n",
      "['C#CC1CC1C(N)=O'] ['C#CCC1CC1C(N)=O']\n",
      "['CC1COCC2NC12'] ['CC1COC(C)C2OC12']\n",
      "['C1CC2NC23CCC3O1'] ['C1CC23NC2CCC3O1']\n",
      "['OCC1=CCN2CC1C2'] ['OCC1=CC2C3CN2C13']\n",
      "['CN(C)C1COC1=O'] ['CN(C)C1COC(=O)C1']\n",
      "['CC1CC(O)C2CC12C'] ['CC1CC(O)CC2CC12']\n",
      "['OCC1C2CCOC1C2'] ['OC1C2CCOC1CC2']\n",
      "['CC1=CCC(=O)C2NC12'] ['CC1=CC(=O)C2NC2C1']\n",
      "['O=CC12CN1CC1CN12'] ['O=CC12CC3CN3C1C2']\n",
      "['ON=C1C=CNCC1'] ['CN=C1NC=CC1=NO']\n",
      "['CNC(=O)C(=N)NC=O'] ['CNC(=N)C(=O)CO']\n",
      "['CCC(=O)CC(C)OC'] ['CCC(C)OCC(C)=O']\n",
      "['CN1CC1C1=CCCC1'] ['CN1CC1C1CCCC1']\n",
      "['CC(C)c1c[nH]nc1N'] ['CCc1c[nH]nc1N']\n",
      "['CNC(=O)C(=O)NC=O'] ['CNC(=O)NC=O']\n",
      "['OC1C2C(O)C1C21CN1'] ['CC12OC1C1C(O)C12O']\n",
      "['CC1(C)OC2CCC1C2'] ['CC1C2CC1C(C)(C)O2']\n",
      "['C#CC1CC2(CO)CC12'] ['C#CC1CC2CC12CO']\n",
      "['C1OC2CC2(C2CN2)O1'] ['C1OCC2(CC2)C2OC12']\n",
      "['CC#CC1CC2(C)NC12'] ['CC#CC1CC1(C)CO1']\n",
      "['COC1(CO)COC1=N'] ['COC1COC1=N']\n",
      "['C1=CC2CC1OCCO2'] ['C1=CC2C3CCOC1C23']\n",
      "['C#CC1(O)CC2NC21'] ['C#CC1(O)CC2NC2C1']\n",
      "['CC1CC(C)C1(C)C#N'] ['CC1C(C)C(C#N)C1C']\n",
      "['CC1(CC(=O)CO)CO1'] ['CC1OC1C(=O)C(C)O']\n",
      "['CC1(C#N)CC1(O)CO'] ['CNC1(C#N)C(O)C1O']\n",
      "['CC1NCCOC1=O'] ['CCC1NCCOC1=O']\n",
      "['C1COC2CC3CC3C12'] ['C1CC2CC(O1)C1CC21']\n",
      "['C1NC12CC1OC3C1C2'] ['C1NC12CC1OC12']\n",
      "['C1CC1C12CC1N1CC12'] ['C1C2N1C1CC21']\n",
      "['CCC1C2C3N1CC23C=O'] ['CCC1C2C3CN1C32C=O']\n",
      "['Cc1nc(O)ncn1'] ['N#Cc1ncnc(O)n1']\n",
      "['O=C1CNC12CC2O'] ['CC1NC(=O)C1(O)CO']\n",
      "['c1nc2c3nonc3C12'] ['c1onc2c1C1CC1O2']\n",
      "['CC1OCC2(CN2)C1C'] ['CC1OCC2(CO2)C1C']\n",
      "['CC1C2OC(=O)CC12O'] ['CC1(O)C2CC(=O)OC21']\n",
      "['CC1C2CC1N(C)C2=O'] ['CC1C(=O)C2CC1N2C']\n",
      "['c1n[nH]c2c1CCO2'] ['CC1Cc2cn[nH]c2O1']\n",
      "['COC1C2(C)CCC12O'] ['COC1C2(C)CC12O']\n",
      "['CC1CN1C1(C=O)CC1'] ['CC1(CN2CC2C=O)CC1']\n",
      "['CCOC(=O)C(C)C=O'] ['CC(C)C(=O)OCC=O']\n",
      "['C1OC1C12CC1CO2'] ['C1OC1C12COC1C2']\n",
      "['CC12OC1C1(O)CC12C'] ['CC1NC12CC1(O)CC12']\n",
      "['CCCC1OCC1CO'] ['CCC1OCC1CCO']\n",
      "['CN1C=CC(=O)C(O)C1'] ['CN=C1NC=CC1=O']\n",
      "['CNc1nc(C)nn1C'] ['CNc1nnn(C)c1C']\n",
      "['CC1NCC1C#N'] ['CN1C2COCC21C#N']\n",
      "['CCOC(C#N)C(N)=O'] ['CC(OCC#N)C(N)=O']\n",
      "['CCC(=O)C(C)(C)O'] ['CCC(=O)C(C)(O)C']\n",
      "['OCC1OCC2CC1O2'] ['OCC1CC2COC1O2']\n",
      "['CCC1OCC(C#N)O1'] ['CCOC1CCOC1C#N']\n",
      "['CC1(O)C2(O)CCC12O'] ['OC1C2(O)CCC12O']\n",
      "['N#CC1C2C3OC3C12O'] ['N#CC1C2C3NC3C12O']\n",
      "['Cc1cnnnn1'] ['Cc1cnncn1']\n",
      "['CCCC12CCC1C2'] ['CCCCC12CCC1C2']\n",
      "['O=C1OCC2CCC2O1'] ['CC1COC(=O)O1']\n",
      "['O=C1C=CC2(CC2)OC1'] ['O=C1CN=C2NC3C2C13']\n",
      "['CC1CC(=O)N1'] ['CC1C(=O)NC1C']\n",
      "['CC1OC1c1nnon1'] ['C1OC1Cc1nnon1']\n",
      "['CC1C=CCCC1(C)O'] ['CC1CC=CC(C)(O)C1']\n",
      "['Cn1ccc2c1C=CC2'] ['Cn1cc2c(c1)C=CC2']\n",
      "['N#CC1CCC2CC2O1'] ['CC1CC1OCC1CC1']\n",
      "['CC([NH3+])c1n[n-]c(=O)o1'] ['CC(C[NH3+])[N-]C(=O)C=O']\n",
      "['CNC1C(C#N)C1C#N'] ['CNC1C(C#N)CC1O']\n",
      "['C#CC1(CCC)CC1C'] ['C#CC1(C)CC1CCC']\n",
      "['C1NC1C12CC(C1)O2'] ['C1OC1C12CC(C1)O2']\n",
      "['Cc1nc(N)nc(=O)[nH]1'] ['Cc1cc(N)nc(=O)[nH]1']\n",
      "['OC1C=C2CN3C(C1)C23'] ['OC1C=C2CC3C(C1)N23']\n",
      "['N=c1[nH]cnc(O)c1F'] ['N=c1[nH]c(O)c[nH]c1=O']\n",
      "['N=c1ccnnoc1=O'] ['N=c1ncnnoc1=O']\n",
      "['CC1CCC=CC12CO2'] ['CC1C=CCCC12CO2']\n",
      "['C1=NC2CCC2CO1'] ['C1=NC2CCCC2CO1']\n",
      "['OC12CC3C4C3C1N42'] ['OC12CC3C4C3C1N4C32']\n",
      "['C1CC2CC3C1COC23'] ['C1CC2CC3COC2C13']\n",
      "['CC1C2C(O)CN1C2=O'] ['CC1C(O)C2C1N2C=O']\n",
      "['Cc1cc(=O)c(N)c[nH]1'] ['Cc1c[nH]cc(=O)c1N']\n",
      "['CC(C)c1c[nH]c(O)c1'] ['CC(C)c1cc(O)[nH]c1']\n",
      "['CCC(=O)C(C#N)CO'] ['CCC(=O)C(O)CC#N']\n",
      "['NC(=O)CC1CCC1'] ['CC1CCC1CC(N)=O']\n",
      "['CNC(=O)C#CC1(O)CC1'] ['CNC=[NH+]c1cnc[n-]1']\n",
      "['N#CC12CC3C(CN1)C32'] ['N#CC12C=CC(CN1)C2']\n",
      "['Cc1ncnn1C(N)=O'] ['Cc1cnnn1C(N)=O']\n",
      "['C1=C2CC3CCC23OC1'] ['CC1C=C2CCC2OC1']\n",
      "['Cc1ccnc(F)n1'] ['CCc1ncnc(F)n1']\n",
      "['COc1nc(C)nn1C'] ['COc1nn(C)nc1C']\n",
      "['CC1(C)CC2C(O)C21O'] ['CC1CC2C(O)C12O']\n",
      "['C1OC2=NC3CC3CC12'] ['C1OC2=NC3CC3C12']\n",
      "['CC1OC12CCOC2=O'] ['CC1CC12CCOC2=O']\n",
      "['CC1COCOC=N1'] ['CCC1CN=COCO1']\n",
      "['OC1C=Cc2cn[nH]c21'] ['OC1C=Cc2[nH]ccc21']\n",
      "['CC(C=O)CC(O)C=O'] ['CCC(C=O)C(O)C=O']\n",
      "['C#CCC(O)C(C)C'] ['C#CCC(O)C(C)CC']\n",
      "['C#CC(C)(O)CC(C)=O'] ['C#CC(C)(O)C(C)=O']\n",
      "['C1OC2C3C4OC(C14)C23'] ['C1OC2C3OC4C(C14)C23']\n",
      "['C1=CC2CCC23CC3C1'] ['C1=CC2CC23CCC3C1']\n",
      "['CC(=O)C1(CO)OC1O'] ['CC(=O)C1(CO)CCO1']\n",
      "['CN=c1ccoc(C)c1'] ['CN=c1cccnn1C']\n",
      "['CC1OC(=O)C12CCO2'] ['CC1CC2(COC2=O)O1']\n",
      "['CC12CC3OCCN1C32'] ['CC12CC3CC(CO1)N32']\n",
      "['O=CC1=CC(O)CC1=O'] ['O=CC1=CC(O)C(=O)C1']\n",
      "['CN1C=CC(=O)N2CC12'] ['CN(C=O)c1ccco1']\n",
      "['O=CNC1=NCC(=O)C1'] ['O=CCN=CNC=O']\n",
      "['C#CCC(C)C1CO1'] ['C#CCCC(C)C1CO1']\n",
      "['CN=C1NC(CCO)O1'] ['CN=C1NC(CO)CO1']\n",
      "['CC1CC1CC1COC1'] ['CC1(C2COC2)CC1']\n",
      "['N#CCC1CCOCO1'] ['N#CCC1CCCO1']\n",
      "['CC(C)CN1CC1CO'] ['CCCN1CC1CO']\n",
      "['CC1C2C=CC3NC3C12'] ['CC12C=CCC=CC1O2']\n",
      "['CCC1CCCC1'] ['CCC1CCCC1C']\n",
      "['N#CCNC(=O)NC=O'] ['N#CCNC(N)=O']\n",
      "['CC1C2CCC(O)CC12'] ['OC1CCC2CC2C1']\n",
      "['CC(=O)n1cncn1'] ['CC(=O)n1ncnc1']\n",
      "['CN1C(=N)CC(O)C1=O'] ['CC1=CC(=O)N(C)C1O']\n",
      "['CC1(CO)CN1CCO'] ['OCCCN1CC1CO']\n",
      "['CCC1(C(C)C)CO1'] ['CCC1(C(C)C)OC1C']\n",
      "['CN1CC=CC1C#N'] ['CN1CC=CC1CC#N']\n",
      "['N#CC1CCC1O'] ['N#CC1CC(O)C1']\n",
      "['CC(O)C1C(C)N1CC'] ['CC(O)C1C(C)N1CC1']\n",
      "['CC1C(C)=CC2CCC21'] ['CCC1C(C)C=CCC1']\n",
      "['N#CC#CC(N)CC#N'] ['N#CC#CCC(N)C#N']\n",
      "['Cc1cn(C)c(N)c1C'] ['Cc1cn(C)c(C)c1N']\n",
      "['C1CC1OC1CC2CC21'] ['C1CC1COC1CC1']\n",
      "['CCC1=NCC(C)C1=O'] ['CCC1=NCC(=O)N1C']\n",
      "['O=CC12CC(O1)C2=NO'] ['O=CC12CC(=NO)C1O2']\n",
      "['N#CC1C2CC2C2NC12'] ['N#CC1C2C3NC3CN12']\n",
      "['C#CC(C#C)N(C)C=O'] ['C#CC(C#N)N(C)C=O']\n",
      "['CC1COC(C)(C)C2O1'] ['CC1COC(C)(C)C12CN2']\n",
      "['CC(C)c1ncon1'] ['CCc1ncon1']\n",
      "['N=c1cn[nH]c(=O)cn1'] ['N=c1cc[nH]c(=O)cn1']\n",
      "['CCC(C)COCC=O'] ['CCCOCC=O']\n",
      "['CN1CC2(CN2)C1=O'] ['CN1CC=C(CO)C1=O']\n",
      "['N#CC1(O)C(O)C2CC21'] ['N#CC(O)C1(O)CC1']\n",
      "['Nc1cc(=O)cc(N)o1'] ['Nc1cc(=O)nc(N)o1']\n",
      "['N#Cc1nc(N)[nH]c1O'] ['N#Cc1nc(O)[nH]c1N']\n",
      "['Cn1nccc1OC=O'] ['Cn1cncc1OC=O']\n",
      "['Nc1ncoc1[N+](=O)[O-]'] ['Nc1nc[nH]c1=O']\n",
      "['CC1C2NC2(C)C1(C)O'] ['CC1OC2C1C2(C)O']\n",
      "['COC1C(=N)N2CC12C'] ['CNC1C(=N)OC12CC2']\n",
      "['O=c1oncnc1CO'] ['O=c1oncn1CO']\n",
      "['O=C1CNC2C1C1NC12'] ['O=C1C2CNC1C1NC21']\n",
      "['OC1CC2(CO2)C12CO2'] ['OC1CC2(CO2)C12CN2']\n",
      "['COc1c(N)cnn1C'] ['CNc1c(N)cnn1C']\n",
      "['O=CC12OC3C=CC1C32'] ['O=CC12C3OC4C(C41)C32']\n",
      "['CC1CC12CN(C=O)C2'] ['CC1CC12CCN2C=O']\n",
      "['CCC#CCOC'] ['CCC#CCCOC']\n",
      "['O=C1C=Cc2nccn21'] ['O=C1C=Cn2ccnc21']\n",
      "['CC1=CC2CCC2(O)C1'] ['CC1=CCC2CC1(O)C2']\n",
      "['OCC1CC12CO1C1O2'] ['OCC1CC1C1CO1']\n",
      "['OC1CC2C3C1N2C3'] ['OC1CC2C3C1C1C2N31']\n",
      "['N#Cc1coc(C#N)n1'] ['N#Cc1cnc(C#N)o1']\n",
      "['CC1(O)C2CC1C1NC12'] ['OC1C2NC1C2N1CC1']\n",
      "['Cc1ccc(F)nc1C'] ['Cc1ccc(C)nc1F']\n",
      "['CC(O)C12CC1CC2O'] ['CC(O)C1CC1CO']\n",
      "['CC1(C)C2C=CCC21C'] ['CC12CC3C=CC1(C)C32']\n",
      "['COCC(C)C1CC1O'] ['COCC1CC1O']\n",
      "['CC1N2CCCC12CO'] ['CC1N(C)C12CCC2O']\n",
      "['C#CCC(=N)NC(N)=O'] ['C#CCNC(=N)C(N)=O']\n",
      "['O=CC#CC1NC1CO'] ['O=CC#CC1OC1CO']\n",
      "['N=c1onc(N)n1C=O'] ['Nc1noc(=O)n1C=O']\n",
      "['CC1=CCCC(C)OC1'] ['CC1=CCC(C)OCC1']\n",
      "['CC1(O)C2CC2C2NC21'] ['CC1(O)C2CC2C2OC21']\n",
      "['N#CC12CN1C1CC12'] ['N#CC12CC1C1CN12']\n",
      "['Oc1cc[nH]c1C1CO1'] ['Oc1cc[nH]n1C1CO1']\n",
      "['CCC(=O)C1OCCO1'] ['CCOC(C)C(=O)C=O']\n",
      "['CN=c1cconc1F'] ['Cc1cc2c(o1)OCO2']\n",
      "['CC(C#N)C(=O)CO'] ['CC1C(C=O)C1(O)C#N']\n",
      "['CCC1=NCC(=O)N1C'] ['CCC1N=C(C)NC1=O']\n",
      "['C#CCCC(C)N1CC1'] ['C#CCC(C)N1CC1']\n",
      "['CC1CC=CC1O'] ['CC1CC12C=CCC2O']\n",
      "['CCN1CCC(=O)CC1'] ['CCN1CCC(=O)C1']\n",
      "['O=CCC1CC=CC1'] ['O=CCCC1CC=CC1']\n",
      "['O=C1C(O)CC2(O)CC12'] ['O=C1C(O)C2CC12O']\n",
      "['O=C1NC2CCOC1C2'] ['O=C1NC2CCCC2O1']\n",
      "['CCC1=CCOCC1'] ['CCC1C=CCOCC1']\n",
      "['C1=NC2COC2C2NC12'] ['C1=NC23COC2C3CN1']\n",
      "['N=c1[nH]cc(CCO)o1'] ['N=c1[nH]c(CCO)co1']\n",
      "['Oc1[nH]ccc1N1CC1'] ['Oc1[nH]ccc1C1CC1']\n",
      "['C#CCCN(C)C(N)=O'] ['C#CCN(C)C(N)=O']\n",
      "['OC1C=C2COC2C1'] ['OC1CC=C2COC21']\n",
      "['OCC12CC1(O)CO2'] ['OCC1CC12OCC2O']\n",
      "['O=CC(O)CC(=O)CO'] ['O=CC(C=O)C(O)CO']\n",
      "['CC(=O)C1C(O)COC1'] ['CC(=O)CC1(O)COC1']\n",
      "['CN=C1CC(C)CCO1'] ['CN=C1OCCCC1C']\n",
      "['O=COC1COC12CN2'] ['O=COC1COC12CO2']\n",
      "['O=C1C=CCCOC1=O'] ['O=C1C=CCC=CCO1']\n",
      "['c1ccc2occc2c1'] ['c1ccc2ncoc2c1']\n",
      "['O=C1OC2C=CC1(O)C2'] ['O=C1OC2C=CC1C2O']\n",
      "['CC1C=CCC(=O)OC1'] ['CC1C(=O)OCC2CN21']\n",
      "['CC12CC1C1CCC1O2'] ['CC12CC1OC1CC1C2']\n",
      "['O=C1CCCCN1'] ['CC1C2CNC(=O)CC12']\n",
      "['CC1CC1C(C)(CO)C'] ['CC1C2CC2C1(C)CO']\n",
      "['C1=CC2C3CC(C1)C2C3'] ['C1=CC2CC3CC2C3C1']\n",
      "['CC(C)Nc1ccoc1'] ['CC(C)Nc1conn1']\n",
      "['CC12C(=O)COC1C2O'] ['CC1C(=O)C2(CC2)C1O']\n",
      "['CC(C)C1CN1C'] ['CCC(C)C1CN1C']\n",
      "['O=C1CCc2nocc21'] ['O=C1CCc2nnoc21']\n",
      "['CC(C)C1CCOC1'] ['CCC1(C)CCOC1']\n",
      "['O=CN1C=CCCC1'] ['O=CN1C=CCCC1=O']\n",
      "['Nc1nc(O)nnc1N'] ['Nc1nc(O)nn1']\n",
      "['OCC12C3C4C(N41)C32'] ['OCC12C3C4C(OC31)C42']\n",
      "['CC1(O)C(O)C=CCC1'] ['CC1=CCC(O)C1(C)O']\n",
      "['CN=c1ncocn1'] ['CN=c1ccocn1']\n",
      "['OC1CCC2OCC12'] ['OC1CC2COC2C1']\n",
      "['COc1ncc(CO)o1'] ['COc1cnc(CO)o1']\n",
      "['CCC12CC3OCC1C32'] ['CCC12CC3OC1CN32']\n",
      "['Cn1ncc(C=O)c1O'] ['Cn1nccc1C=O']\n",
      "['CC(O)CNC(=O)C=O'] ['CC(O)CNC(=O)C#N']\n",
      "['CC1=CC2C3OC1CC23'] ['CC1=CC2C3CC3C1O2']\n",
      "['CC(=NO)C1CN2CC12'] ['CC(=NO)C1CC2CN21']\n",
      "['CC1CC2C3C1C23'] ['CC1C2CC3C1C1C2C31']\n",
      "['CC1(C(=O)C2CO2)CC1'] ['CC1CC1C(=O)C1CO1']\n",
      "['CC1C2C=CC1C21CO1'] ['CC1C2CC=CC1C21CO1']\n",
      "['Cc1nccc(C#N)n1'] ['c1nnoc1N1CC1']\n",
      "['COC1OCC2CC21'] ['COC1OCC2CC21C']\n",
      "['CC1=CC2C(O)C2C1'] ['CC1=C(C)C2C(O)C2C1']\n",
      "['CC12OC1CC2C#N'] ['CC12CC(C#N)C1O2']\n",
      "['O=Cc1[nH]c(O)no1'] ['O=Cc1[nH]c(=O)oc1O']\n",
      "['CCN=C1COC(=O)O1'] ['CCC(=O)n1nnnn1']\n",
      "['CC#Cc1noc(C)n1'] ['CC#Cc1nc(C)no1']\n",
      "['C1CC2(C1)CC1OC1C2'] ['C1CC2(CC2)C2OC2C1']\n",
      "['CC(=O)Oc1c[nH]nn1'] ['CC(=O)Oc1c[nH]cn1']\n",
      "['N#CC1C2C3CC1N2C3'] ['N#CC1C2C3CCN2C13']\n",
      "['O=C([O-])C12CC[NH+](C1)C2'] ['O=C([O-])C12CC(C[NH2+]1)C2']\n",
      "['Nc1n[nH]c(=O)cc1N'] ['Nc1c[nH]c(=O)cc1N']\n",
      "['O=CN1C=CC2CCN21'] ['O=CN1C=CC2CCC21']\n",
      "['Nc1noc2c1CC=N2'] ['N=c1cncc(N)nc1']\n",
      "['N#CC1C2COC(=O)N12'] ['N#CC12COC(=O)N1C2']\n",
      "['CCC(=O)C1C(C)N1C'] ['CCC(=O)C1C(C)C1O']\n",
      "['CCC1C(O)C1CO'] ['CCC1C(O)C1O']\n",
      "['C1OC2CC3OCC1C32'] ['C1OC2CC23COCC13']\n",
      "['Nc1c[nH]c([N+](=O)[O-])c1'] ['Nc1cc[nH]c1[N+](=O)[O-]']\n",
      "['CC1NC1C(C#N)NC'] ['CC(O)C(C)NCC#N']\n",
      "['C1CC2OCC3OC23C1'] ['C1CC2OCC3N2C13C']\n",
      "['OC1C=CCCOCC1'] ['OC1C=CCOCCC1']\n",
      "['CC1CCc2ncoc21'] ['CCc1ccoc1C']\n",
      "['O=CNCCCCO'] ['CCC(O)CCNC=O']\n",
      "['C#CC(O)C1OCC1O'] ['C#CC1(CO)OCC1O']\n",
      "['C1CN2C3CCC2C3O1'] ['C1OC2C3CCC2C3O1']\n",
      "['N#CC12CC1(O)CC2O'] ['N#CC1C(CO)C1(C)O']\n",
      "['CCC12NC1(C)C1OC12'] ['CCC12CC1(C)C1NC12']\n",
      "['Cc1oc(N)nc1O'] ['CC1(O)CN=C(C#N)C1']\n",
      "['OC1CC2(O)CC12O'] ['OCC1CC2(O)CC12O']\n",
      "['CC12C3CC4C(N41)C32C#N'] ['CC12C3C4C(N41)C32C#N']\n",
      "['N=C1OCc2oncc21'] ['N=C(CO)c1ncno1']\n",
      "['CC(O)CC#CC=O'] ['CC(O)CCC(=O)C#N']\n",
      "['O=CN1CCC(CO)C1'] ['O=CN1CC(CO)C1']\n",
      "['CN=C1OC2CC1NC2'] ['CN=C1OC2CCC1N2']\n",
      "['C1=CC2CCCCC1C2'] ['CC1C2C=CC1CCC2']\n",
      "['CC1C2CC3C(CN23)C1'] ['CC1C2CC3C(C2O)N13']\n",
      "['CCC1(C)CC=CC1'] ['CCC1(C)CC=CC1C']\n",
      "['CCC1CNC=CC1=O'] ['CCC1CC(=O)C=CN1']\n",
      "['CC1CC2OC3CC3O12'] ['CC1CC(C)OC2CC2O1']\n",
      "['CC1CC(O)C(=O)C1'] ['CC1CC(O)C(=O)C1=O']\n",
      "['CC1=CN(C=O)CC1O'] ['CC1=CC(O)CN1C=O']\n",
      "['C1C2C3OC3C1C1OC21'] ['C1C2OC1C1OC21']\n",
      "['CCC1C(C=O)C1(C)C'] ['CCC1C(C)C1(C)C=O']\n",
      "['O=C1COC(C(F)(F)F)O1'] ['O=C1CC(C(F)(F)F)O1']\n",
      "['C1CC2(CCC3OC32)O1'] ['C1CC2(CCC23CO3)O1']\n",
      "['C#CC1C2C3(C)CC3N12'] ['C#CC1C2C3CN3C12C']\n",
      "['NC(=O)C1CC1C1CC1'] ['NC(=O)C1(C2CC2)CC1']\n",
      "['CC1(C=O)OC1C=O'] ['CC1(C=O)CC2(C=O)OC12']\n",
      "['CN1CCC1(C#N)C'] ['CN1CCC1(C)C#N']\n",
      "['Cc1cc2c(o1)CCN2'] ['Cc1ccn2c1NCC2']\n",
      "['CNC1=CC(=N)OC1'] ['CN=C1C=C(C)CO1']\n",
      "['O=C1C2C3CN1C32'] ['O=C1OC2C1C21CC1']\n",
      "['CCC(C)CC(C)=NO'] ['CCC(C)(C)CC(C)=NO']\n",
      "['COC(C#N)=NC'] ['COC(C)=NCCC#N']\n",
      "['CC12CC3C4CC1C2N34'] ['CC12CC3C4C1C2N34']\n",
      "['Cc1nc(N)nc(=O)o1'] ['Nc1nc(N)oc(=O)n1']\n",
      "['Cc1cnnn1C1CC1'] ['Cc1ccnn1C1CC1']\n",
      "['CC12CC1OC1CC2C1'] ['CC12CC1OC1CCC12']\n",
      "['CC1C2N1CC1OC12C'] ['CC1C2C3NC3(C)CN12']\n",
      "['COc1occ(N)c1C'] ['COc1cc(N)oc1C']\n",
      "['OC12CC1OC2C1CN1'] ['CC12NC1CC21CN1']\n",
      "['C#CC1OC(=N)C1(C)C'] ['C#CC1(CC)CC(=N)O1']\n",
      "['CC(=O)C1C2CC(C)N21'] ['CC(=O)C1C2CC(C2)O1']\n",
      "['C1CC2CC23CC(C3)O1'] ['C1CC2CC1OC1CC21']\n",
      "['C1=CC2CCC2COC1'] ['C1=CC2OCCC2CC1']\n",
      "['CC12COC(C1)C21CN1'] ['CC1(C2CN2)CCO1']\n",
      "['N#Cc1cnc(=N)[nH]n1'] ['N#Cc1cn[nH]c(=N)n1']\n",
      "['N#CC1(N)C2CCC21N'] ['N#CC1(N)C2CCN21']\n",
      "['O=C1COC1(CO)CO'] ['O=C1COC1CO']\n",
      "['OC12CN3C1C=CC32'] ['OC12CC3C1C=CC32']\n",
      "['O=C1NCC2(O)CNC12'] ['CC12CNC(=O)C1(O)C2']\n",
      "['Cc1nn2c(c1N)CC2'] ['Nc1ncn2c1CCC2']\n",
      "['CCOC12CC1CC2C'] ['CCOC12CC(C)C1C2']\n",
      "['CCN1CC2CC21C=O'] ['CC1C2C(C=O)C2N1C']\n",
      "['CC1C2C(O)CC12'] ['CC1C2CC(O)C12']\n",
      "['O=C1CCC12CC1OC12'] ['O=C1C2CCC1C1OC21']\n",
      "['CCC(O)CC(C)=O'] ['CCC(O)C(C)=O']\n",
      "['O=CC12CC1(O)CO2'] ['CC1OC2(C=O)CC12O']\n",
      "['CCC(CC)COC'] ['CCCC(CC)COC']\n",
      "['C#CC1C2CCC1C2C'] ['C#CC1CC2CC1C2C']\n",
      "['OC12C3=NCC1C2CO3'] ['CC12C3=NCC1C2(O)C3']\n",
      "['CC1(C)COC1(C)CO'] ['CC1COC1(C)CO']\n",
      "['CCn1ncc(O)c1C'] ['Cc1cnn(C(C)O)c1']\n",
      "['Cc1noccc1=N'] ['Cc1nocc(=N)c1F']\n",
      "['Cc1cc(O)[nH]c(=N)n1'] ['Cc1cc(O)nc(=N)[nH]1']\n",
      "['C1=Cc2n[nH]cc2C1'] ['C1=Cc2c[nH]nc2C1']\n",
      "['Nc1c[nH]c(NC=O)c1'] ['Nc1cc(NC=O)c[nH]1']\n",
      "['CC1CN(C)C1CO'] ['CC1)CN(C)C1CO']\n",
      "['NC(=O)COCC=O'] ['CC(=O)COCC(N)=O']\n",
      "['COC1(CO)CC1(C)C=O'] ['CC1C(C)(C=O)C1(O)C']\n",
      "['CC1CC1C(=O)CO'] ['CC(C(=O)CO)C1CO1']\n",
      "['O=COC1CCC1(C)O'] ['CC1(O)CCC1OC=O']\n",
      "['CCC12CC(C#N)(C1)N2'] ['CC1CCN2CC12C#N']\n",
      "['[NH3+]CC1(O)CC1C(=O)[O-]'] ['[NH3+]CC(O)C1(NC=O)[O-]']\n",
      "['N#CC1NCC1(O)CO'] ['O=C1CNC1C(O)CO']\n",
      "['C#CC12CC(C1)C2C=O'] ['C#CC1(C=O)C2CC1C2']\n",
      "['C#CC1CC(=O)OC1=O'] ['C#CC1=CCC(=O)OC1']\n",
      "['CN1C2CCC21C#N'] ['CC12CCN1CC2C#N']\n",
      "['CC1COC12CNC2=O'] ['CC1CNC12COC2=O']\n",
      "['N=C(C1CC1)OC(C)=O'] ['N=C1CC2CN2CC1=O']\n",
      "['O=CC1CC(C2CN2)O1'] ['O=CC1OC2CC1CO2']\n",
      "['CN1C=CC(=O)C1=N'] ['CN=C1NC=CCC1=O']\n",
      "['CC12C3C4CC4N1CC32'] ['CC12C#CC3C4C(C41)C32']\n",
      "['CN=C1OC2(C)C(C)C12'] ['CN=C1OC2(C)CC12C']\n",
      "['CCC1(O)CC1C(C)=O'] ['CC(=O)C1(O)CC1CC']\n",
      "['CC1OCC2(CC2)O1'] ['CC1OC2(CC2)C(C)O1']\n",
      "['CC1C(=O)NC=CC1O'] ['CC1C2C(=O)NC=C12O']\n",
      "['C#CCC1C(O)C1O'] ['C#CCCC1C(O)C1O']\n",
      "['CC1C2COC3C1C23C'] ['CC1C2COC3C2C13C']\n",
      "['CC1COCC1C1CC1'] ['CC1COCC12CC2']\n",
      "['C#CC(C)C(C)CC'] ['C#CC(C)C(C)C#C']\n",
      "['Nc1ccc(C=O)cn1'] ['Nc1ccc(C=O)nc1']\n",
      "['CC12CC1C1CCC2O1'] ['CC12CC3CC1(C)C2O3']\n",
      "['CC1(C)COC(CO)C1'] ['CC1(C)CC(CO)CO1']\n",
      "['CC1CNC12COC2=N'] ['CC(C)C1NC1=N']\n",
      "['Cc1cc2n(c1)CCN2'] ['Cn1ccc2c1CCN2']\n",
      "['OC1CC1(O)C1CO1'] ['OC1C2CC3(CC3O)C12']\n",
      "['CCN1C2CCC1C2O'] ['CCN1C2CC1C2O']\n",
      "['OC1C=CCC2CC1O2'] ['OC1CC=CC2CC1O2']\n",
      "['N#CC1C2CN1C21CC1'] ['N#CC1C2CN1C2']\n",
      "['N#CC1CNC2=NCC12'] ['N#CC1CC2CNC2=N1']\n",
      "['CCN=C(C)NC=O'] ['CC(C)N=C(C)NC=O']\n",
      "['C1C2C1C1C3CC1C23'] ['C1CC2C1C1C3CC1C23']\n",
      "['CC(C)N=C1CCO1'] ['CC(C1CCO1)=NC']\n",
      "['CCC1OCC(C#N)O1'] ['CC1OCC(C#N)O1']\n",
      "['CC12CN3CC3C1(C)O2'] ['CC12CN3CC3C1(C)N2']\n",
      "['CC1NCC2(CC2)C1=O'] ['CC1NCC2C1N2C#N']\n",
      "['O=C1NCC(CCO)N1'] ['O=C1NCC(CO)N1']\n",
      "['CCN1C(=N)C2(O)CC12'] ['CCN1C(=O)C2(O)CC12']\n",
      "['COC1(C=O)C=CCO1'] ['COC1C2OCC(C=O)C12']\n",
      "['CC(=O)C(C)NC=O'] ['CC(=O)C(C)C(N)=O']\n",
      "['C#CCc1cncnc1'] ['C#CCc1ncccn1']\n",
      "['C1=NC2CC2CCO1'] ['C1=NC2CC2CCCO1']\n",
      "['COCC(N)=NCC=O'] ['CNC1=C(C=O)COC1']\n",
      "['CC1=NCCNC1'] ['CC1=NCCNC12CC2']\n",
      "['CCCC12CCC1OC2'] ['CCCC1CCC12COC2']\n",
      "['Cc1c(F)nc[nH]c1=N'] ['Cc1nn[nH]c(=N)c1F']\n",
      "['C#CC1CC2(C)CC1C2'] ['C#CC1C2CC1(C)C2']\n",
      "['CC1(N)CC2NC21C#N'] ['CC1(N)C(C#N)C2NC21']\n",
      "['Cc1ncc2n1CC2O'] ['Cc1cnc2n1CC2O']\n",
      "['CC#CC[NH2+]CC(=O)[O-]'] ['N#CCC[NH2+]CC(=O)[O-]']\n",
      "['CN(C)c1nc(O)[nH]n1'] ['CN(C)c1nc(O)n[nH]1']\n",
      "['CC(=O)OC=N'] ['CC(=O)C(=O)OCC=N']\n",
      "['CCC1CC(C)=CC1C'] ['CCC1CC=C(C)C1C']\n",
      "['CC1C(C)C1C1CC1O'] ['CC1C(O)C1C1CCC1']\n",
      "['O=C1OC2CNC(=O)C12'] ['O=C1NC2C(=O)OCC12']\n",
      "['CCOCC1COCO1'] ['COCC1COCO1']\n",
      "['C#CC1C(C)(O)CC1=O'] ['C#CC1(C)CC(O)C1=O']\n",
      "['CC1(C)CC2(C)CC12'] ['CC1(C)CC2(CC2)C1C']\n",
      "['CC(C)(CCO)CCO'] ['CCC(CCO)C(C)O']\n",
      "['CC#CC(=O)C(N)=NC'] ['CC1=C(N)C(=O)CC1=O']\n",
      "['CCc1ncn(CC)c1'] ['CCc1ncn(C)c1']\n",
      "['C1CC2(C1)OC1CC12'] ['C1CC2CC2(C2CC2)O1']\n",
      "['OC1COC(C2CN2)O1'] ['OC1COCC12CN2']\n",
      "['CC#CC1=CCOC1C'] ['CC#CC1=CCOC1']\n",
      "['CC(C(N)=O)OC(N)=O'] ['CC(C#N)OC(N)=O']\n",
      "['CCN1C(C)C1C'] ['CCC1C(C)N1CC']\n",
      "['C#CCC12CC1(C)CO2'] ['C#CCC12COC1(C)C2']\n",
      "['C#CC(CO)C1CC1C'] ['C#CC(C)C(CC)CO']\n",
      "['CCC(=O)CC(O)C=O'] ['CC(=O)C(C)C(O)C=O']\n",
      "['Cc1nn2cnnc2o1'] ['Cc1nn2ccoc2o1']\n",
      "['CCCC1CCCC1C'] ['CCC1CCCC1C']\n",
      "['CC(C#CCC#N)C=O'] ['CC(C#CC#N)C=O']\n",
      "['C#CCCCC#CC=O'] ['C#CCC(C=O)CC#CC']\n",
      "['CC1NCC(C#N)N1'] ['N#CC1CNCC2OC12']\n",
      "['N#CC1(C=O)CC(=O)O1'] ['O=CC1(C=O)CC(=O)O1']\n",
      "['c1nc2nconc-2n1'] ['c1nc2ncnc-2on1']\n",
      "['CC1CC1c1cnco1'] ['Cc1ccc(C2CC2)o1']\n",
      "['CC(C)(O)C1CCC1'] ['CC(C)(O)C1CC(C)C1']\n",
      "['CC(C)OC(=O)C1CO1'] ['CCOC(=O)C1CO1']\n",
      "['OC1CC23CCCC12C3'] ['OC1CC2CCCCC12']\n",
      "['CNC1Cn2ncnc21'] ['CNC1Cn2ccnc21']\n",
      "['C#CC(=O)C1CCC1C'] ['C#CC(=O)C1CC(C)C1']\n",
      "['CC1C2C(O)C(CO)N12'] ['CCN1C2C(O)C(O)C21']\n",
      "['C1CC2CC2C2(C1)CC2'] ['C1CC2CC2CC2CC12']\n",
      "['O=CC1COCCOC1'] ['O=CC1CNCCOC1']\n",
      "['CC(C)OC(=O)NC=O'] ['CC(C)C(=O)NC=O']\n",
      "['CN1CC(=O)C(=N)C1=O'] ['CN=C1OCC(=O)N1C']\n",
      "['Nc1cnn(C=O)c1N'] ['NC1CNCC(=O)C1=O']\n",
      "['CNC1(C)COC1=N'] ['CCNC1(C)COC1=N']\n",
      "['CCNc1nc(C)n[nH]1'] ['CNc1n[nH]c(C)n1']\n",
      "['Nc1c[nH]c2nc[nH]c12'] ['Nc1cnc2[nH]cnn12']\n",
      "['O=C1CC2CC3C1C23'] ['O=C1CC2C3CC1C23']\n",
      "['CC1(O)CCC2NC21C'] ['CC1(O)CCC2NC21']\n",
      "['O=C1CN2C=NCC12'] ['O=C1CC2CN=CN12']\n",
      "['O=C1CC2CN2CC1=O'] ['O=C1CN2CC2CN1']\n",
      "['NC(=O)C1NCC1=O'] ['NC(=O)C1CNCC1=O']\n",
      "['C#CC(C#CC)CC'] ['C#CC(C)C#CCCC']\n",
      "['CCC(C=O)C(=O)C=O'] ['CCC(C=O)C(=O)OC=O']\n",
      "['COC1C(O)C1(O)C#N'] ['N#CC12NCC1(O)C2O']\n",
      "['CC12CC3C1OC(=N)N32'] ['CC1OC(=N)N2C(C)C12']\n",
      "['C1COC(C2CN2)OC1'] ['C1COC(C2CN2)CO1']\n",
      "['CC12CC3C1CN1CC123'] ['CN1C2C3CCCC3C21']\n",
      "['CC(CNCC=O)=NO'] ['CN1CC(=NO)C1C=O']\n",
      "['O=C1C2CC1(O)C2CO'] ['O=C1C2CC1(O)C2O']\n",
      "['CC1C(CCO)C2NC12'] ['CC1(CO)CC2NC2C1']\n",
      "['CC12CC=CC1OC=N2'] ['CC12OC=NC1C=CC2']\n",
      "['CC12CC1CCNC2=O'] ['CN1C2CC(=O)C3(C)C21']\n",
      "['CC1NC1(C=O)C(N)=O'] ['CC1(C(N)=O)OC1C=O']\n",
      "['C1OCC2(CC2)C2OC12'] ['C1OCC2(CC2)CO1']\n",
      "['CC1(C)CC(O)C(=N)O1'] ['CC1(C)OC(=N)CC1O']\n",
      "['CC1=CNC(=O)C1CO'] ['CC1=C(CO)CNC1=O']\n",
      "['CC1(C)C2C=CCC21O'] ['CC12C=CCC1(O)CC2']\n",
      "['OC1C2CC2CC2NC21'] ['CC1C(O)C=CC2NC21']\n",
      "['CCC1C=CC2C(O)C12'] ['CCC1C=CC2CC12O']\n",
      "['CCCC(C=O)CO'] ['O=CC1(CO)CCCC1']\n",
      "['CC(=O)C1CC(=O)C1O'] ['CC(=O)C1OCC1=NO']\n",
      "['C[NH2+]CC(=O)[O-]'] ['C[NH+](CC(=O)[O-])CC=O']\n",
      "['CC12CCC1(N)C2C#N'] ['CC12CCC1C2(N)C#N']\n",
      "['C#Cc1c[nH]c(CO)n1'] ['C#Cc1cnc(CO)[nH]1']\n",
      "['CC1(C)C2COC1C2'] ['CC1(C)C2CCC1OC2']\n",
      "['CCn1ccnc1CO'] ['CCn1nccc1CO']\n",
      "['CN=c1cnocc1N'] ['CN=c1cc(N)cno1']\n",
      "['N=c1[nH]nc(=O)cc1O'] ['N=c1[nH]ncc(=O)[nH]1']\n",
      "['N=C1NCCCC1=O'] ['N=C1NC=NCCC1=O']\n",
      "['CCC1(CC)NC1CO'] ['CCC1NC1(CC)CO']\n",
      "['N#CC12CC=CCN1C2'] ['N#CC1C2C=CCN12']\n",
      "['C1=CC2(CO2)CC2CC12'] ['C1=CC2(CO2)CN2CC12']\n",
      "['CC(C)(O)C1(CO)CN1'] ['CCC(O)C1(CO)CN1']\n",
      "['C1OC(C2CO2)C2NC12'] ['C1OC(C2CO2)C2OC12']\n",
      "['N=c1nc(F)nc(N)[nH]1'] ['Cc1nc(F)nc(=N)[nH]1']\n",
      "['CC1(O)CCC1(O)C=O'] ['CC1CC(O)C1(O)C=O']\n",
      "['C#CC1CC(C)(C#C)C1'] ['C#CCC1CCC1C#C']\n",
      "['CC12CCC3C(C1)C3O2'] ['CC1CC2C3CC1OC23']\n",
      "['C#CC1(C#N)C(N)C1N'] ['C#CC1C(N)C1(N)C#N']\n",
      "['CCC1=CC2NC2(C)C1'] ['CCC1=CC2OC2(C)C1']\n",
      "['N=C1OC2CC2(C=O)N1'] ['N=C1OC2CC12OC=O']\n",
      "['C#Cc1c[nH]c(C)c1N'] ['C#Cc1[nH]cc(N)c1C']\n",
      "['C#CC1N=C(N)N2CC12'] ['C#CC1OC=NC12CC2']\n",
      "['O=c1cnccoc1=O'] ['O=c1cnocn1']\n",
      "['CC1C2CN2C1(C=O)C'] ['CC1CN1C(=O)C=O']\n",
      "['COCc1cc(C)co1'] ['COCc1coc(C)c1']\n",
      "['CC1COC=NC1(C)C'] ['CC1(C)CN=COC1C']\n",
      "['COC(C)(C)CC(C)C'] ['CCCC(C)(C)OC']\n",
      "['CC1C2CC(C=O)N12'] ['CC1C2CC(C)(C=O)N12']\n",
      "['N=C1NCc2occc21'] ['N=C1NCc2ccoc21']\n",
      "['CCC1OC1CCOC'] ['COCCC1OC1C']\n",
      "['N#CC(=O)OC1CCO1'] ['N#CC(=O)C1OCCO1']\n",
      "['CC1C(=O)NCC1(C)O'] ['CC1(O)CNC(=O)C1C']\n",
      "['Cn1cncc1CO'] ['Cc1ccc(CO)n1C']\n",
      "['N=c1cnnc[nH]1'] ['N#Cc1cncc(=N)[nH]1']\n",
      "['CC1=CCC(=N)OCC1'] ['CC1=CCCC(=N)OC1']\n",
      "['O=C(CO)C1CCC1'] ['CC(O)C(=O)C1CCC1']\n",
      "['O=C(CO)OCCCO'] ['N#CCC(=O)OCCO']\n",
      "['C#CC(C=O)N1CC1'] ['C#CC(C=O)N1CC1C']\n",
      "['CCc1n[nH]c(=O)o1'] ['O=c1[nH]c2c(o1)CCO2']\n",
      "['COC1C=CCCC1=O'] ['COC1CC=CCC1=O']\n",
      "['N=CN(C=O)C(O)CO'] ['N=CN(C=O)CCO']\n",
      "['CC1(C)OC(=O)C=C1N'] ['CC1(N)C=CC(=O)O1']\n",
      "['CCC1CC2CC3C1C23'] ['CCC1C2CCC12']\n",
      "['CCN(C=N)C(N)=O'] ['CC(C)N(C=N)C(N)=O']\n",
      "['COC(C)C1CCC1O'] ['COC(C)C1CC(O)C1']\n",
      "['COCCOC(C)=O'] ['COCC(C)OC(C)=O']\n",
      "['N#CCCNC(=N)C#N'] ['N#CCC(=N)NCC#N']\n",
      "['OC1CC2N=COCC12'] ['OC1CN=C2CCC2O1']\n",
      "['C1=NC2CC3NC3C2O1'] ['C1=NC2C3NC2C(C3)O1']\n",
      "['C1=CC2CC3=CC(C1)C23'] ['C1=CC2CC3=CCC1C23']\n",
      "['CC1CC(C(C)O)C1'] ['CCCCC(C)O']\n",
      "['O=C(C1CC1)N1CCC1'] ['CC1CN1C(=O)C1CC1']\n",
      "['CC1CC23COC2(C1)O3'] ['CC1CC23COC2C1O3']\n",
      "['O=C1CC2CC(O)C1O2'] ['O=C1CC2CC(O)C1N2']\n",
      "['CCC(C)C(=O)NC'] ['CNC(=O)C(C)C']\n",
      "['O=CC12CCC=CC1O2'] ['O=CC1C=CC2CC1O2']\n",
      "['CC1C(O)C2(C#N)CC12'] ['CC1C(O)C2CC12C#N']\n",
      "['CC12C=CCOC1C2'] ['CC12C=CCOC1C2C']\n",
      "['Cc1[nH]cnc(=O)c1C'] ['Cc1nc(=O)c(C)c[nH]1']\n",
      "['CC(C#N)CNC1CC1'] ['CC(C#N)NC1CC1C']\n",
      "['CC(C)C1OCC1O'] ['CCC1(O)COC1C']\n",
      "['CC1(O)CC2CC2C1C'] ['CC1C2CC2CC1(C)O']\n",
      "['Cn1cnc(O)c1N'] ['Cn1cc(O)nc1N']\n",
      "['N=c1cc2occc2o1'] ['N=c1onc(C2CN2)o1']\n",
      "['CC1=CC2NC2C=CC1'] ['CC1=CC2NC2C=C1=N']\n",
      "['CC1OC=NC2CC21C'] ['CC1OC=NC2(C)CC12']\n",
      "['CC1(O)C2C=CC1O2'] ['CC1(O)C2C=CC1N2']\n",
      "1054\n"
     ]
    }
   ],
   "source": [
    "count = 0\n",
    "for a,b in zip(greedy_smiles_list, random_smiles_list):\n",
    "    if a != b:\n",
    "        count += 1\n",
    "        print(a,b)\n",
    "print(count)"
   ]
  },
  {
   "cell_type": "code",
   "execution_count": 13,
   "metadata": {},
   "outputs": [
    {
     "name": "stderr",
     "output_type": "stream",
     "text": [
      "50it [29:33, 35.48s/it]\n"
     ]
    }
   ],
   "source": [
    "greedy_smiles_list = []\n",
    "og_smiles_list = []\n",
    "random_smiles_list = []\n",
    "with torch.no_grad():\n",
    "    for i, data in tqdm(enumerate(dataloaders['val'])):    \n",
    "        data = {k: v.to(device) for k, v in data.items()}\n",
    "        spec_latents = model.module.forward_spec(data)\n",
    "        for spec, og in zip(spec_latents, data['smiles'] ):\n",
    "            og_smile = \"\"\n",
    "            chars = model.module.vocab.from_seq(og)\n",
    "            for char in chars:\n",
    "                if char != \"<pad>\" and char != \"<eos>\" and char != \"<sos>\" and char != \"<unk>\":\n",
    "                    og_smile += char\n",
    "            og_smile = Chem.CanonSmiles(og_smile)\n",
    "\n",
    "            greedy_smiles = sampler.sample_multi(n=1,embed=spec,greedy_decode=True)\n",
    "            greedy_smiles_list.append(greedy_smiles)\n",
    "            \n",
    "            random_smiles = sampler.sample_multi(n=1,embed=spec,greedy_decode=False)\n",
    "            random_smiles_list.append(random_smiles)\n",
    "            \n",
    "            og_smiles_list.append(og_smile)\n",
    "        # if i == 10:\n",
    "        #     break\n",
    "            "
   ]
  },
  {
   "cell_type": "code",
   "execution_count": 14,
   "metadata": {},
   "outputs": [],
   "source": [
    "from rdkit import DataStructs\n",
    "# from rdkit import AllChem\n",
    "from rdkit.Chem import rdMolDescriptors,AllChem\n",
    "def molecule_similarity(mol1, mol2, radius=2, nBits=1024,\n",
    "                                      useChirality=False):\n",
    "    try:\n",
    "        mol1 = Chem.MolFromSmiles(mol1)\n",
    "        mol2 = Chem.MolFromSmiles(mol2)\n",
    "        fp1 = rdMolDescriptors.GetMorganFingerprintAsBitVect(mol1, radius=radius,\n",
    "                                                            nBits=nBits,\n",
    "                                                            useChirality=useChirality)\n",
    "        fp2 = rdMolDescriptors.GetMorganFingerprintAsBitVect(mol2,\n",
    "                                                                radius=radius,\n",
    "                                                            nBits=nBits,\n",
    "                                                            useChirality=useChirality)\n",
    "        # fpgen = AllChem.GetRDKitFPGenerator()\n",
    "        # fp1 = fpgen.GetFingerprint(mol1)\n",
    "        # fp2 = fpgen.GetFingerprint(mol2)\n",
    "        return DataStructs.TanimotoSimilarity(fp1, fp2)\n",
    "    except:\n",
    "        return 0"
   ]
  },
  {
   "cell_type": "code",
   "execution_count": 15,
   "metadata": {},
   "outputs": [],
   "source": [
    "sims = []\n",
    "sims_labels = []\n",
    "\n",
    "arr = []\n",
    "for og_smile, greedy_smiles, random_smiles in zip(og_smiles_list, greedy_smiles_list, random_smiles_list):\n",
    "    sim = molecule_similarity(random_smiles[0], greedy_smiles[0])\n",
    "    if sim != 1:\n",
    "        v = [Chem.MolFromSmiles(og_smile)]\n",
    "        sim1 = molecule_similarity(og_smile, greedy_smiles[0])\n",
    "        sim2 = molecule_similarity(og_smile, random_smiles[0])\n",
    "        if sim1 != 1 and sim2 != 1 and sim1!=0 and sim2 != 0:\n",
    "            sims.append(sim1)\n",
    "            sims_labels.append(\"greedy\")\n",
    "            sims.append(sim2)\n",
    "            sims_labels.append(\"random_sampling\")  \n",
    "\n"
   ]
  },
  {
   "cell_type": "code",
   "execution_count": 24,
   "metadata": {},
   "outputs": [
    {
     "data": {
      "image/png": "[encoded data removed]",
      "text/plain": [
       "<Figure size 900x600 with 1 Axes>"
      ]
     },
     "metadata": {},
     "output_type": "display_data"
    }
   ],
   "source": [
    "df = pd.DataFrame()\n",
    "df['Similarity'] = sims\n",
    "df['labels'] = sims_labels\n",
    "%matplotlib inline\n",
    "sns.set(rc={'figure.figsize':(9,6)})\n",
    "sns.set_style(\"white\")\n",
    "sns.histplot(df, x='Similarity', hue='labels', bins=15, stat=\"percent\", element=\"step\", linewidth=3)\n",
    "plt.yticks(fontsize=15)\n",
    "plt.xticks(fontsize=15)\n",
    "plt.savefig('tanimotosim.png', dpi=300)\n"
   ]
  },
  {
   "cell_type": "code",
   "execution_count": null,
   "metadata": {},
   "outputs": [],
   "source": []
  },
  {
   "cell_type": "code",
   "execution_count": 20,
   "metadata": {},
   "outputs": [
    {
     "ename": "RuntimeError",
     "evalue": "Pre-condition Violation\n\tno draw context\n\tViolation occurred on line 214 in file Code/GraphMol/MolDraw2D/MolDraw2DCairo.cpp\n\tFailed Expression: dp_cr\n\tRDKIT: 2022.09.1\n\tBOOST: 1_78\n",
     "output_type": "error",
     "traceback": [
      "\u001b[0;31m---------------------------------------------------------------------------\u001b[0m",
      "\u001b[0;31mRuntimeError\u001b[0m                              Traceback (most recent call last)",
      "Cell \u001b[0;32mIn[20], line 9\u001b[0m\n\u001b[1;32m      6\u001b[0m opts \u001b[39m=\u001b[39m Draw\u001b[39m.\u001b[39mDrawingOptions()\n\u001b[1;32m      7\u001b[0m Draw\u001b[39m.\u001b[39mSetComicMode(opts)\n\u001b[0;32m----> 9\u001b[0m img \u001b[39m=\u001b[39m Draw\u001b[39m.\u001b[39;49mMolsToGridImage(arr[\u001b[39m60\u001b[39;49m:\u001b[39m80\u001b[39;49m], molsPerRow\u001b[39m=\u001b[39;49m\u001b[39m5\u001b[39;49m, returnPNG\u001b[39m=\u001b[39;49m\u001b[39mFalse\u001b[39;49;00m)\n\u001b[1;32m     10\u001b[0m img\u001b[39m.\u001b[39msave(\u001b[39m'\u001b[39m\u001b[39mDecoder_rdkit_vis.png\u001b[39m\u001b[39m'\u001b[39m )\n",
      "File \u001b[0;32m~/miniconda3/envs/sbdd-env/lib/python3.10/site-packages/rdkit/Chem/Draw/IPythonConsole.py:268\u001b[0m, in \u001b[0;36mShowMols\u001b[0;34m(mols, maxMols, **kwargs)\u001b[0m\n\u001b[1;32m    265\u001b[0m \u001b[39mif\u001b[39;00m \u001b[39m\"\u001b[39m\u001b[39mdrawOptions\u001b[39m\u001b[39m\"\u001b[39m \u001b[39mnot\u001b[39;00m \u001b[39min\u001b[39;00m kwargs:\n\u001b[1;32m    266\u001b[0m   kwargs[\u001b[39m\"\u001b[39m\u001b[39mdrawOptions\u001b[39m\u001b[39m\"\u001b[39m] \u001b[39m=\u001b[39m drawOptions\n\u001b[0;32m--> 268\u001b[0m res \u001b[39m=\u001b[39m fn(mols, \u001b[39m*\u001b[39;49m\u001b[39m*\u001b[39;49mkwargs)\n\u001b[1;32m    269\u001b[0m \u001b[39mif\u001b[39;00m InteractiveRenderer\u001b[39m.\u001b[39misEnabled():\n\u001b[1;32m    270\u001b[0m   \u001b[39mreturn\u001b[39;00m HTML(res)\n",
      "File \u001b[0;32m~/miniconda3/envs/sbdd-env/lib/python3.10/site-packages/rdkit/Chem/Draw/__init__.py:622\u001b[0m, in \u001b[0;36mMolsToGridImage\u001b[0;34m(mols, molsPerRow, subImgSize, legends, highlightAtomLists, highlightBondLists, useSVG, returnPNG, **kwargs)\u001b[0m\n\u001b[1;32m    618\u001b[0m   \u001b[39mreturn\u001b[39;00m _MolsToGridSVG(mols, molsPerRow\u001b[39m=\u001b[39mmolsPerRow, subImgSize\u001b[39m=\u001b[39msubImgSize, legends\u001b[39m=\u001b[39mlegends,\n\u001b[1;32m    619\u001b[0m                         highlightAtomLists\u001b[39m=\u001b[39mhighlightAtomLists,\n\u001b[1;32m    620\u001b[0m                         highlightBondLists\u001b[39m=\u001b[39mhighlightBondLists, \u001b[39m*\u001b[39m\u001b[39m*\u001b[39mkwargs)\n\u001b[1;32m    621\u001b[0m \u001b[39melse\u001b[39;00m:\n\u001b[0;32m--> 622\u001b[0m   \u001b[39mreturn\u001b[39;00m _MolsToGridImage(mols, molsPerRow\u001b[39m=\u001b[39;49mmolsPerRow, subImgSize\u001b[39m=\u001b[39;49msubImgSize, legends\u001b[39m=\u001b[39;49mlegends,\n\u001b[1;32m    623\u001b[0m                           highlightAtomLists\u001b[39m=\u001b[39;49mhighlightAtomLists,\n\u001b[1;32m    624\u001b[0m                           highlightBondLists\u001b[39m=\u001b[39;49mhighlightBondLists, returnPNG\u001b[39m=\u001b[39;49mreturnPNG, \u001b[39m*\u001b[39;49m\u001b[39m*\u001b[39;49mkwargs)\n",
      "File \u001b[0;32m~/miniconda3/envs/sbdd-env/lib/python3.10/site-packages/rdkit/Chem/Draw/__init__.py:569\u001b[0m, in \u001b[0;36m_MolsToGridImage\u001b[0;34m(mols, molsPerRow, subImgSize, legends, highlightAtomLists, highlightBondLists, drawOptions, returnPNG, **kwargs)\u001b[0m\n\u001b[1;32m    567\u001b[0m d2d\u001b[39m.\u001b[39mFinishDrawing()\n\u001b[1;32m    568\u001b[0m \u001b[39mif\u001b[39;00m \u001b[39mnot\u001b[39;00m returnPNG:\n\u001b[0;32m--> 569\u001b[0m   res \u001b[39m=\u001b[39m _drawerToImage(d2d)\n\u001b[1;32m    570\u001b[0m \u001b[39melse\u001b[39;00m:\n\u001b[1;32m    571\u001b[0m   res \u001b[39m=\u001b[39m d2d\u001b[39m.\u001b[39mGetDrawingText()\n",
      "File \u001b[0;32m~/miniconda3/envs/sbdd-env/lib/python3.10/site-packages/rdkit/Chem/Draw/__init__.py:445\u001b[0m, in \u001b[0;36m_drawerToImage\u001b[0;34m(d2d)\u001b[0m\n\u001b[1;32m    443\u001b[0m \u001b[39mdef\u001b[39;00m \u001b[39m_drawerToImage\u001b[39m(d2d):\n\u001b[1;32m    444\u001b[0m   \u001b[39mfrom\u001b[39;00m \u001b[39mPIL\u001b[39;00m \u001b[39mimport\u001b[39;00m Image\n\u001b[0;32m--> 445\u001b[0m   sio \u001b[39m=\u001b[39m BytesIO(d2d\u001b[39m.\u001b[39;49mGetDrawingText())\n\u001b[1;32m    446\u001b[0m   \u001b[39mreturn\u001b[39;00m Image\u001b[39m.\u001b[39mopen(sio)\n",
      "\u001b[0;31mRuntimeError\u001b[0m: Pre-condition Violation\n\tno draw context\n\tViolation occurred on line 214 in file Code/GraphMol/MolDraw2D/MolDraw2DCairo.cpp\n\tFailed Expression: dp_cr\n\tRDKIT: 2022.09.1\n\tBOOST: 1_78\n"
     ]
    }
   ],
   "source": [
    "from rdkit import Chem\n",
    "from rdkit.Chem import RDConfig\n",
    "from rdkit.Chem import AllChem\n",
    "from rdkit.Chem import Draw\n",
    "from rdkit.Chem.Draw import rdDepictor, rdMolDraw2D\n",
    "opts = Draw.DrawingOptions()\n",
    "Draw.SetComicMode(opts)\n",
    "\n",
    "img = Draw.MolsToGridImage(arr[60:80], molsPerRow=5, returnPNG=False)\n",
    "img.save('Decoder_rdkit_vis.png' )"
   ]
  },
  {
   "cell_type": "code",
   "execution_count": 83,
   "metadata": {},
   "outputs": [
    {
     "data": {
      "image/png": "[encoded data removed]",
      "text/plain": [
       "<PIL.PngImagePlugin.PngImageFile image mode=RGB size=1000x800>"
      ]
     },
     "execution_count": 83,
     "metadata": {},
     "output_type": "execute_result"
    }
   ],
   "source": [
    "img"
   ]
  },
  {
   "cell_type": "code",
   "execution_count": null,
   "metadata": {},
   "outputs": [],
   "source": []
  },
  {
   "cell_type": "code",
   "execution_count": null,
   "metadata": {},
   "outputs": [
    {
     "data": {
      "text/plain": [
       "<AxesSubplot: xlabel='Similarity', ylabel='Count'>"
      ]
     },
     "execution_count": 75,
     "metadata": {},
     "output_type": "execute_result"
    },
    {
     "data": {
      "image/png": "[encoded data removed]",
      "text/plain": [
       "<Figure size 640x480 with 1 Axes>"
      ]
     },
     "metadata": {},
     "output_type": "display_data"
    }
   ],
   "source": []
  },
  {
   "cell_type": "code",
   "execution_count": 67,
   "metadata": {},
   "outputs": [
    {
     "data": {
      "text/plain": [
       "3"
      ]
     },
     "execution_count": 67,
     "metadata": {},
     "output_type": "execute_result"
    }
   ],
   "source": [
    "len(random_smiles_list[0])"
   ]
  },
  {
   "cell_type": "code",
   "execution_count": 68,
   "metadata": {},
   "outputs": [
    {
     "data": {
      "text/plain": [
       "0"
      ]
     },
     "execution_count": 68,
     "metadata": {},
     "output_type": "execute_result"
    }
   ],
   "source": [
    "len(arr)"
   ]
  },
  {
   "cell_type": "code",
   "execution_count": 69,
   "metadata": {},
   "outputs": [
    {
     "ename": "RuntimeError",
     "evalue": "Pre-condition Violation\n\tno draw context\n\tViolation occurred on line 214 in file Code/GraphMol/MolDraw2D/MolDraw2DCairo.cpp\n\tFailed Expression: dp_cr\n\tRDKIT: 2022.09.1\n\tBOOST: 1_78\n",
     "output_type": "error",
     "traceback": [
      "\u001b[0;31m---------------------------------------------------------------------------\u001b[0m",
      "\u001b[0;31mRuntimeError\u001b[0m                              Traceback (most recent call last)",
      "Cell \u001b[0;32mIn[69], line 9\u001b[0m\n\u001b[1;32m      6\u001b[0m opts \u001b[39m=\u001b[39m Draw\u001b[39m.\u001b[39mDrawingOptions()\n\u001b[1;32m      7\u001b[0m Draw\u001b[39m.\u001b[39mSetComicMode(opts)\n\u001b[0;32m----> 9\u001b[0m img \u001b[39m=\u001b[39m Draw\u001b[39m.\u001b[39;49mMolsToGridImage(arr[\u001b[39m40\u001b[39;49m:\u001b[39m60\u001b[39;49m], molsPerRow\u001b[39m=\u001b[39;49m\u001b[39m5\u001b[39;49m, returnPNG\u001b[39m=\u001b[39;49m\u001b[39mFalse\u001b[39;49;00m)\n\u001b[1;32m     10\u001b[0m img\u001b[39m.\u001b[39msave(\u001b[39m'\u001b[39m\u001b[39mDecoder_rdkit_vis.png\u001b[39m\u001b[39m'\u001b[39m )\n",
      "File \u001b[0;32m~/miniconda3/envs/sbdd-env/lib/python3.10/site-packages/rdkit/Chem/Draw/IPythonConsole.py:268\u001b[0m, in \u001b[0;36mShowMols\u001b[0;34m(mols, maxMols, **kwargs)\u001b[0m\n\u001b[1;32m    265\u001b[0m \u001b[39mif\u001b[39;00m \u001b[39m\"\u001b[39m\u001b[39mdrawOptions\u001b[39m\u001b[39m\"\u001b[39m \u001b[39mnot\u001b[39;00m \u001b[39min\u001b[39;00m kwargs:\n\u001b[1;32m    266\u001b[0m   kwargs[\u001b[39m\"\u001b[39m\u001b[39mdrawOptions\u001b[39m\u001b[39m\"\u001b[39m] \u001b[39m=\u001b[39m drawOptions\n\u001b[0;32m--> 268\u001b[0m res \u001b[39m=\u001b[39m fn(mols, \u001b[39m*\u001b[39;49m\u001b[39m*\u001b[39;49mkwargs)\n\u001b[1;32m    269\u001b[0m \u001b[39mif\u001b[39;00m InteractiveRenderer\u001b[39m.\u001b[39misEnabled():\n\u001b[1;32m    270\u001b[0m   \u001b[39mreturn\u001b[39;00m HTML(res)\n",
      "File \u001b[0;32m~/miniconda3/envs/sbdd-env/lib/python3.10/site-packages/rdkit/Chem/Draw/__init__.py:622\u001b[0m, in \u001b[0;36mMolsToGridImage\u001b[0;34m(mols, molsPerRow, subImgSize, legends, highlightAtomLists, highlightBondLists, useSVG, returnPNG, **kwargs)\u001b[0m\n\u001b[1;32m    618\u001b[0m   \u001b[39mreturn\u001b[39;00m _MolsToGridSVG(mols, molsPerRow\u001b[39m=\u001b[39mmolsPerRow, subImgSize\u001b[39m=\u001b[39msubImgSize, legends\u001b[39m=\u001b[39mlegends,\n\u001b[1;32m    619\u001b[0m                         highlightAtomLists\u001b[39m=\u001b[39mhighlightAtomLists,\n\u001b[1;32m    620\u001b[0m                         highlightBondLists\u001b[39m=\u001b[39mhighlightBondLists, \u001b[39m*\u001b[39m\u001b[39m*\u001b[39mkwargs)\n\u001b[1;32m    621\u001b[0m \u001b[39melse\u001b[39;00m:\n\u001b[0;32m--> 622\u001b[0m   \u001b[39mreturn\u001b[39;00m _MolsToGridImage(mols, molsPerRow\u001b[39m=\u001b[39;49mmolsPerRow, subImgSize\u001b[39m=\u001b[39;49msubImgSize, legends\u001b[39m=\u001b[39;49mlegends,\n\u001b[1;32m    623\u001b[0m                           highlightAtomLists\u001b[39m=\u001b[39;49mhighlightAtomLists,\n\u001b[1;32m    624\u001b[0m                           highlightBondLists\u001b[39m=\u001b[39;49mhighlightBondLists, returnPNG\u001b[39m=\u001b[39;49mreturnPNG, \u001b[39m*\u001b[39;49m\u001b[39m*\u001b[39;49mkwargs)\n",
      "File \u001b[0;32m~/miniconda3/envs/sbdd-env/lib/python3.10/site-packages/rdkit/Chem/Draw/__init__.py:569\u001b[0m, in \u001b[0;36m_MolsToGridImage\u001b[0;34m(mols, molsPerRow, subImgSize, legends, highlightAtomLists, highlightBondLists, drawOptions, returnPNG, **kwargs)\u001b[0m\n\u001b[1;32m    567\u001b[0m d2d\u001b[39m.\u001b[39mFinishDrawing()\n\u001b[1;32m    568\u001b[0m \u001b[39mif\u001b[39;00m \u001b[39mnot\u001b[39;00m returnPNG:\n\u001b[0;32m--> 569\u001b[0m   res \u001b[39m=\u001b[39m _drawerToImage(d2d)\n\u001b[1;32m    570\u001b[0m \u001b[39melse\u001b[39;00m:\n\u001b[1;32m    571\u001b[0m   res \u001b[39m=\u001b[39m d2d\u001b[39m.\u001b[39mGetDrawingText()\n",
      "File \u001b[0;32m~/miniconda3/envs/sbdd-env/lib/python3.10/site-packages/rdkit/Chem/Draw/__init__.py:445\u001b[0m, in \u001b[0;36m_drawerToImage\u001b[0;34m(d2d)\u001b[0m\n\u001b[1;32m    443\u001b[0m \u001b[39mdef\u001b[39;00m \u001b[39m_drawerToImage\u001b[39m(d2d):\n\u001b[1;32m    444\u001b[0m   \u001b[39mfrom\u001b[39;00m \u001b[39mPIL\u001b[39;00m \u001b[39mimport\u001b[39;00m Image\n\u001b[0;32m--> 445\u001b[0m   sio \u001b[39m=\u001b[39m BytesIO(d2d\u001b[39m.\u001b[39;49mGetDrawingText())\n\u001b[1;32m    446\u001b[0m   \u001b[39mreturn\u001b[39;00m Image\u001b[39m.\u001b[39mopen(sio)\n",
      "\u001b[0;31mRuntimeError\u001b[0m: Pre-condition Violation\n\tno draw context\n\tViolation occurred on line 214 in file Code/GraphMol/MolDraw2D/MolDraw2DCairo.cpp\n\tFailed Expression: dp_cr\n\tRDKIT: 2022.09.1\n\tBOOST: 1_78\n"
     ]
    }
   ],
   "source": []
  },
  {
   "cell_type": "code",
   "execution_count": null,
   "metadata": {},
   "outputs": [],
   "source": []
  },
  {
   "cell_type": "code",
   "execution_count": null,
   "metadata": {},
   "outputs": [],
   "source": []
  }
 ],
 "metadata": {
  "kernelspec": {
   "display_name": "sbdd-env",
   "language": "python",
   "name": "python3"
  },
  "language_info": {
   "codemirror_mode": {
    "name": "ipython",
    "version": 3
   },
   "file_extension": ".py",
   "mimetype": "text/x-python",
   "name": "python",
   "nbconvert_exporter": "python",
   "pygments_lexer": "ipython3",
   "version": "3.10.8"
  },
  "orig_nbformat": 4
 },
 "nbformat": 4,
 "nbformat_minor": 2
}
