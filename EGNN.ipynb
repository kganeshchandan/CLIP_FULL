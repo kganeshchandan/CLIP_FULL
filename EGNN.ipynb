{
 "cells": [
  {
   "cell_type": "code",
   "execution_count": 1,
   "metadata": {},
   "outputs": [],
   "source": [
    "config = {}\n",
    "config['data'] = {\"qm9_broad_ir_path\":'/home2/kanakala.ganesh/ir_data/qm9_broad_ir.pkl',\n",
    "                  \"vocab_path\":'/home2/kanakala.ganesh/CLIP_PART_1/data/qm9_vocab.pkl',\n",
    "                  \"datafiles\" : {\n",
    "                        'train': '/home2/kanakala.ganesh/ir_data/raw_train.pickle',\n",
    "                        'test':  '/home2/kanakala.ganesh/ir_data/raw_test.pickle',\n",
    "                        'val':   '/home2/kanakala.ganesh/ir_data/raw_val.pickle'\n",
    "                        },\n",
    "                  \"normalization\" : \"unit\",\n",
    "                  \"shuffle\": True,\n",
    "                  \"batch_size\":128,\n",
    "                  \"seq_len\":70,\n",
    "                  \"splits\":[0.9, 0.1, 0.1],\n",
    "                  \"num_workers\":16\n",
    "                }"
   ]
  },
  {
   "cell_type": "code",
   "execution_count": 2,
   "metadata": {},
   "outputs": [
    {
     "data": {
      "application/vnd.jupyter.widget-view+json": {
       "model_id": "1a2b0b5e127c4c948f93afbb9e371350",
       "version_major": 2,
       "version_minor": 0
      },
      "text/plain": [
       "0it [00:00, ?it/s]"
      ]
     },
     "metadata": {},
     "output_type": "display_data"
    },
    {
     "data": {
      "application/vnd.jupyter.widget-view+json": {
       "model_id": "f904798dd8c54089b6e1cc7430995f12",
       "version_major": 2,
       "version_minor": 0
      },
      "text/plain": [
       "0it [00:00, ?it/s]"
      ]
     },
     "metadata": {},
     "output_type": "display_data"
    }
   ],
   "source": [
    "from PrepareData import prepare_data\n",
    "dataloaders, max_charge, num_species = prepare_data(config)"
   ]
  },
  {
   "cell_type": "code",
   "execution_count": 3,
   "metadata": {},
   "outputs": [
    {
     "name": "stdout",
     "output_type": "stream",
     "text": [
      "index torch.Size([128])\n",
      "decoder_inp torch.Size([128, 70])\n",
      "decoder_tgt torch.Size([128, 70])\n",
      "IR torch.Size([128, 1801])\n",
      "tgt_padding_mask torch.Size([128, 70])\n",
      "num_atoms torch.Size([128])\n",
      "charges torch.Size([128, 29])\n",
      "positions torch.Size([128, 29, 3])\n",
      "one_hot torch.Size([128, 29, 5])\n",
      "atom_mask torch.Size([128, 29])\n",
      "edge_mask torch.Size([107648, 1])\n"
     ]
    }
   ],
   "source": [
    "\n",
    "for i , data in enumerate(dataloaders['train']):\n",
    "    data\n",
    "    for j in data:\n",
    "        print(j, data[j].shape)\n",
    "    break"
   ]
  },
  {
   "cell_type": "code",
   "execution_count": 4,
   "metadata": {},
   "outputs": [],
   "source": [
    "config['molecule_encoder'] = {\n",
    "    'attention': 1,\n",
    "    'coords_weight' :1.0,\n",
    "    'device': \"cuda\",\n",
    "    'hidden_nf':256,\n",
    "    'in_edge_nf':0,\n",
    "    'in_node_nf':15,\n",
    "    'n_layers': 3,\n",
    "    'node_attr': 1,\n",
    "    'output_size':512\n",
    "}"
   ]
  },
  {
   "cell_type": "code",
   "execution_count": 5,
   "metadata": {},
   "outputs": [],
   "source": [
    "import torch\n",
    "from qm9.models import EGNN\n",
    "from qm9 import utils as qm9_utils\n",
    "\n",
    "device = torch.device(\"cuda\")\n",
    "dtype = torch.float32"
   ]
  },
  {
   "cell_type": "code",
   "execution_count": 6,
   "metadata": {},
   "outputs": [],
   "source": [
    "model = EGNN(\n",
    "             in_node_nf = config['molecule_encoder']['in_node_nf'], \n",
    "             in_edge_nf = config['molecule_encoder']['in_edge_nf'], \n",
    "             hidden_nf = config['molecule_encoder']['hidden_nf'], \n",
    "             device = torch.device(config['molecule_encoder']['device']), \n",
    "             n_layers = config['molecule_encoder']['n_layers'], \n",
    "             coords_weight = config['molecule_encoder']['coords_weight'],\n",
    "             attention = config['molecule_encoder']['attention'], \n",
    "             node_attr = config['molecule_encoder']['node_attr'],\n",
    "            output_size = config['molecule_encoder']['output_size'],\n",
    "        )"
   ]
  },
  {
   "cell_type": "code",
   "execution_count": 9,
   "metadata": {},
   "outputs": [],
   "source": [
    "def forward_pass(model, dataloader, max_charge, num_species):\n",
    "    for i , data in enumerate(dataloader):\n",
    "        data\n",
    "        break\n",
    "    \n",
    "    batch_size = config['data']['batch_size']\n",
    "    batch_size, n_nodes, _ = data['positions'].size()\n",
    "    atom_positions = data['positions'].view(batch_size * n_nodes, -1).to(device, dtype)\n",
    "    atom_mask = data['atom_mask'].view(batch_size * n_nodes, -1).to(device, dtype)\n",
    "    edge_mask = data['edge_mask'].to(device, dtype)\n",
    "    one_hot = data['one_hot'].to(device, dtype)\n",
    "    charges = data['charges'].to(device, dtype)\n",
    "    \n",
    "    # print(\"batch_size\", batch_size)\n",
    "    # print(\"n_nodes\", n_nodes)\n",
    "    # print(\"atom_positions\", atom_positions.shape)\n",
    "    # print(\"atom_mask\", atom_mask.shape)\n",
    "    # print(\"edge_mask\", edge_mask.shape)\n",
    "    # print(\"one_hot\", one_hot.shape)\n",
    "    # print(\"charges\", charges.shape)\n",
    "    \n",
    "    charge_scale = max_charge\n",
    "    \n",
    "    nodes = qm9_utils.preprocess_input(one_hot, \n",
    "                                   charges,\n",
    "                                   2,\n",
    "                                   charge_scale,\n",
    "                                   device)\n",
    "\n",
    "    nodes = nodes.view(batch_size * n_nodes, -1)\n",
    "    # nodes = torch.cat([one_hot, charges], dim=1)\n",
    "    edges = qm9_utils.get_adj_matrix(n_nodes, batch_size, device)\n",
    "    \n",
    "    preds = model(h0=nodes, \n",
    "             x=atom_positions, \n",
    "             edges=edges, \n",
    "             edge_attr=None, \n",
    "             node_mask=atom_mask, \n",
    "             edge_mask=edge_mask,\n",
    "             n_nodes=n_nodes)\n",
    "    \n",
    "    print(preds.shape)\n",
    "    return preds"
   ]
  },
  {
   "cell_type": "code",
   "execution_count": 11,
   "metadata": {},
   "outputs": [
    {
     "name": "stdout",
     "output_type": "stream",
     "text": [
      "torch.Size([128, 512])\n"
     ]
    }
   ],
   "source": [
    "out = forward_pass(model=model, \n",
    "             dataloader=dataloaders['train'],\n",
    "             max_charge=max_charge,\n",
    "             num_species=num_species)"
   ]
  },
  {
   "cell_type": "code",
   "execution_count": null,
   "metadata": {},
   "outputs": [],
   "source": []
  }
 ],
 "metadata": {
  "kernelspec": {
   "display_name": "sbdd-env",
   "language": "python",
   "name": "python3"
  },
  "language_info": {
   "codemirror_mode": {
    "name": "ipython",
    "version": 3
   },
   "file_extension": ".py",
   "mimetype": "text/x-python",
   "name": "python",
   "nbconvert_exporter": "python",
   "pygments_lexer": "ipython3",
   "version": "3.10.8"
  },
  "orig_nbformat": 4
 },
 "nbformat": 4,
 "nbformat_minor": 2
}
